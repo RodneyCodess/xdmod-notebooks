{
 "cells": [
  {
   "cell_type": "markdown",
   "id": "db4061c7-2b36-4284-af31-4ae940a07768",
   "metadata": {
    "tags": []
   },
   "source": [
    "# XDMoD Python API Usage Example\n",
    "University at Buffalo — Center for Computational Research"
   ]
  },
  {
   "cell_type": "markdown",
   "id": "77f9e969-5120-4a7a-a844-fa6fda893755",
   "metadata": {},
   "source": [
    "## Introduction\n",
    "The `xdmod_data` Python module provides API access to the data in XDMoD. This notebook provides an introductory example showing how to use the module. You will use the XDMoD API to query data, load it into a [Pandas](https://pandas.pydata.org/) [DataFrame](https://pandas.pydata.org/docs/reference/api/pandas.DataFrame.html), and generate plots. The example dataset contains the number of active users of [ACCESS](https://access-ci.org/) resources per day of the week over a 4-month period."
   ]
  },
  {
   "cell_type": "markdown",
   "id": "cdc4dfd8-5e8c-407c-ace6-f484608e4141",
   "metadata": {
    "tags": []
   },
   "source": [
    "## Configure notebook formatting"
   ]
  },
  {
   "cell_type": "markdown",
   "id": "cb20fc44-df65-4d32-9040-2a13ba1ac5c1",
   "metadata": {
    "tags": []
   },
   "source": [
    "### Exceptions\n",
    "Run the code below to simplify how Python exceptions are displayed in this notebook."
   ]
  },
  {
   "cell_type": "code",
   "execution_count": 1,
   "id": "852da6ec-8c06-4389-88ae-48c24acb621e",
   "metadata": {},
   "outputs": [],
   "source": [
    "import sys\n",
    "def exception_handler(exception_type, exception, traceback):\n",
    "    print(\"%s: %s\" % (exception_type.__name__, exception), file=sys.stderr)\n",
    "get_ipython()._showtraceback = exception_handler"
   ]
  },
  {
   "cell_type": "markdown",
   "id": "7242d35a-7d1b-4b14-9aa5-b4a9bcb10a91",
   "metadata": {},
   "source": [
    "### Tables\n",
    "Run the code below to set up for displaying Pandas DataFrames as Markdown tables in this notebook."
   ]
  },
  {
   "cell_type": "code",
   "execution_count": 1,
   "id": "2678201f-feba-4b2a-897f-284f05119b9c",
   "metadata": {
    "tags": []
   },
   "outputs": [],
   "source": [
    "from IPython.display import display, Markdown\n",
    "def display_df_md_table(df):\n",
    "    return display(Markdown(df.replace('\\n', '<br/>', regex=True).to_markdown()))"
   ]
  },
  {
   "cell_type": "markdown",
   "id": "3d588361-779e-42dc-ade7-6c95f3900c95",
   "metadata": {},
   "source": [
    "### Plots\n",
    "Run the code below to set up the external Plotly library to make plots using a custom XDMoD theme."
   ]
  },
  {
   "cell_type": "code",
   "execution_count": 1,
   "id": "9c6c5409-db04-4d29-a9eb-fc0935322e80",
   "metadata": {
    "tags": []
   },
   "outputs": [],
   "source": [
    "import plotly.express as px\n",
    "import plotly.io as pio\n",
    "import xdmod_data.themes\n",
    "pio.templates.default = \"timeseries\""
   ]
  },
  {
   "cell_type": "markdown",
   "id": "035a27ba-a47b-4fe6-a7ea-b73e5f5a308a",
   "metadata": {},
   "source": [
    "## Create an environment file\n",
    "The `xdmod-data.env` file will store your XDMoD API token.\n",
    "\n",
    "Run the code below to create the file in your home directory (if it does not already exist) and allow only you to read and write to it."
   ]
  },
  {
   "cell_type": "code",
   "execution_count": 1,
   "id": "7d216a32-11c6-4ae4-98e9-1b2c19d442d2",
   "metadata": {
    "tags": []
   },
   "outputs": [],
   "source": [
    "from pathlib import Path\n",
    "from os.path import expanduser\n",
    "xdmod_data_env_path = Path(expanduser('~/xdmod-data.env'))\n",
    "try:\n",
    "    with open(xdmod_data_env_path):\n",
    "        pass\n",
    "except FileNotFoundError:\n",
    "    with open(xdmod_data_env_path, 'w') as xdmod_data_env_file:\n",
    "        xdmod_data_env_file.write('XDMOD_API_TOKEN=')\n",
    "    xdmod_data_env_path.chmod(0o600)"
   ]
  },
  {
   "cell_type": "markdown",
   "id": "67311e00-9fd8-4b1c-80cc-44b0d4b18a7f",
   "metadata": {},
   "source": [
    "## Obtain an API token\n",
    "Follow [these instructions](https://open.xdmod.org/data-analytics-framework.html#api-token-generation) to obtain an API token."
   ]
  },
  {
   "cell_type": "markdown",
   "id": "ae55bfed-eedc-4a72-88d9-510fe271ed36",
   "metadata": {},
   "source": [
    "## Store your API token in the environment file"
   ]
  },
  {
   "cell_type": "markdown",
   "id": "506c0a46-ca87-48a3-9ba4-0d067926e7a8",
   "metadata": {},
   "source": [
    "Open the `xdmod-data.env` file and paste your token after `XDMOD_API_TOKEN=`. Make sure there are no spaces before or after the equals sign.\n",
    "\n",
    "Save the file."
   ]
  },
  {
   "cell_type": "markdown",
   "id": "02193bb2-1b80-4b9d-8733-ad292a877ccf",
   "metadata": {
    "tags": []
   },
   "source": [
    "## Load your XDMoD API token into the environment\n",
    "Run the code below to load the contents of the `xdmod-data.env` file into the environment. It will print `True` if it successfully loaded the file."
   ]
  },
  {
   "cell_type": "code",
   "execution_count": 1,
   "id": "d5eefbd5-8eab-4ac2-87fe-2c6271c7b9cd",
   "metadata": {
    "tags": []
   },
   "outputs": [
    {
     "data": {
      "text/plain": [
       "True"
      ]
     },
     "execution_count": 1,
     "metadata": {},
     "output_type": "execute_result"
    }
   ],
   "source": [
    "from dotenv import load_dotenv\n",
    "load_dotenv(xdmod_data_env_path, override=True)"
   ]
  },
  {
   "cell_type": "markdown",
   "id": "bc6c166c-5e03-403b-88e1-4b4b2735c690",
   "metadata": {},
   "source": [
    "## Initialize the XDMoD Data Warehouse\n",
    "Run the code below to prepare for getting data from the XDMoD data warehouse at the given URL."
   ]
  },
  {
   "cell_type": "code",
   "execution_count": 1,
   "id": "57583c14-0196-4e1d-bc63-3a66c493fa44",
   "metadata": {},
   "outputs": [],
   "source": [
    "from xdmod_data.warehouse import DataWarehouse\n",
    "dw = DataWarehouse(xdmod_host='https://xdmod-dev.ccr.xdmod.org:9001')"
   ]
  },
  {
   "cell_type": "markdown",
   "id": "3738a176-5b11-4a27-bf5c-2e785f07210d",
   "metadata": {},
   "source": [
    "## Get the data\n",
    "Run the code below to use the `get_data()` method to query XDMoD and load the resulting data into a Pandas DataFrame. This example gets the number of active users of ACCESS resources over a 4-month period. Each of the parameters of the method will be explained later in this notebook. Use `with` to create a runtime context; this is also explained later in this notebook."
   ]
  },
  {
   "cell_type": "code",
   "execution_count": 1,
   "id": "00e141b1-3554-44e6-a08b-85b3f6b19fd3",
   "metadata": {},
   "outputs": [
    {
     "data": {
      "text/html": [
       "<div>\n",
       "<style scoped>\n",
       "    .dataframe tbody tr th:only-of-type {\n",
       "        vertical-align: middle;\n",
       "    }\n",
       "\n",
       "    .dataframe tbody tr th {\n",
       "        vertical-align: top;\n",
       "    }\n",
       "\n",
       "    .dataframe thead th {\n",
       "        text-align: right;\n",
       "    }\n",
       "</style>\n",
       "<table border=\"1\" class=\"dataframe\">\n",
       "  <thead>\n",
       "    <tr style=\"text-align: right;\">\n",
       "      <th>Metric</th>\n",
       "      <th>Number of Users: Active</th>\n",
       "    </tr>\n",
       "    <tr>\n",
       "      <th>Time</th>\n",
       "      <th></th>\n",
       "    </tr>\n",
       "  </thead>\n",
       "  <tbody>\n",
       "    <tr>\n",
       "      <th>2021-01-25</th>\n",
       "      <td>1.0</td>\n",
       "    </tr>\n",
       "    <tr>\n",
       "      <th>2021-01-26</th>\n",
       "      <td>1.0</td>\n",
       "    </tr>\n",
       "    <tr>\n",
       "      <th>2021-01-27</th>\n",
       "      <td>1.0</td>\n",
       "    </tr>\n",
       "    <tr>\n",
       "      <th>2021-01-28</th>\n",
       "      <td>3.0</td>\n",
       "    </tr>\n",
       "    <tr>\n",
       "      <th>2021-01-29</th>\n",
       "      <td>3.0</td>\n",
       "    </tr>\n",
       "    <tr>\n",
       "      <th>...</th>\n",
       "      <td>...</td>\n",
       "    </tr>\n",
       "    <tr>\n",
       "      <th>2021-05-13</th>\n",
       "      <td>771.0</td>\n",
       "    </tr>\n",
       "    <tr>\n",
       "      <th>2021-05-14</th>\n",
       "      <td>768.0</td>\n",
       "    </tr>\n",
       "    <tr>\n",
       "      <th>2021-05-15</th>\n",
       "      <td>688.0</td>\n",
       "    </tr>\n",
       "    <tr>\n",
       "      <th>2021-05-16</th>\n",
       "      <td>624.0</td>\n",
       "    </tr>\n",
       "    <tr>\n",
       "      <th>2021-05-17</th>\n",
       "      <td>790.0</td>\n",
       "    </tr>\n",
       "  </tbody>\n",
       "</table>\n",
       "<p>113 rows × 1 columns</p>\n",
       "</div>"
      ],
      "text/plain": [
       "Metric      Number of Users: Active\n",
       "Time                               \n",
       "2021-01-25                      1.0\n",
       "2021-01-26                      1.0\n",
       "2021-01-27                      1.0\n",
       "2021-01-28                      3.0\n",
       "2021-01-29                      3.0\n",
       "...                             ...\n",
       "2021-05-13                    771.0\n",
       "2021-05-14                    768.0\n",
       "2021-05-15                    688.0\n",
       "2021-05-16                    624.0\n",
       "2021-05-17                    790.0\n",
       "\n",
       "[113 rows x 1 columns]"
      ]
     },
     "metadata": {},
     "output_type": "display_data"
    }
   ],
   "source": [
    "with dw:\n",
    "    data = dw.get_data(\n",
    "        duration=('2021-01-17', '2021-05-17'),\n",
    "        realm='Jobs',\n",
    "        metric='Number of Users: Active',\n",
    "    )\n",
    "display(data)"
   ]
  },
  {
   "cell_type": "markdown",
   "id": "fe649112-1a6b-4869-9201-8d340597eaa9",
   "metadata": {},
   "source": [
    "## Plot the data"
   ]
  },
  {
   "cell_type": "code",
   "execution_count": 1,
   "id": "498b75e8-7a73-4c77-966e-71844ad48b5c",
   "metadata": {},
   "outputs": [
    {
     "data": {
      "application/vnd.plotly.v1+json": {
       "config": {
        "plotlyServerURL": "https://plot.ly"
       },
       "data": [
        {
         "hovertemplate": "Time=%{x}<br>Number of Users: Active=%{y}<extra></extra>",
         "legendgroup": "",
         "line": {
          "color": "#1199FF",
          "dash": "solid"
         },
         "marker": {
          "symbol": "circle"
         },
         "mode": "lines",
         "name": "",
         "orientation": "v",
         "showlegend": false,
         "type": "scatter",
         "x": [
          "2021-01-25T00:00:00",
          "2021-01-26T00:00:00",
          "2021-01-27T00:00:00",
          "2021-01-28T00:00:00",
          "2021-01-29T00:00:00",
          "2021-01-30T00:00:00",
          "2021-01-31T00:00:00",
          "2021-02-01T00:00:00",
          "2021-02-02T00:00:00",
          "2021-02-03T00:00:00",
          "2021-02-04T00:00:00",
          "2021-02-05T00:00:00",
          "2021-02-06T00:00:00",
          "2021-02-07T00:00:00",
          "2021-02-08T00:00:00",
          "2021-02-09T00:00:00",
          "2021-02-10T00:00:00",
          "2021-02-11T00:00:00",
          "2021-02-12T00:00:00",
          "2021-02-13T00:00:00",
          "2021-02-14T00:00:00",
          "2021-02-15T00:00:00",
          "2021-02-16T00:00:00",
          "2021-02-17T00:00:00",
          "2021-02-18T00:00:00",
          "2021-02-19T00:00:00",
          "2021-02-20T00:00:00",
          "2021-02-21T00:00:00",
          "2021-02-22T00:00:00",
          "2021-02-23T00:00:00",
          "2021-02-24T00:00:00",
          "2021-02-25T00:00:00",
          "2021-02-26T00:00:00",
          "2021-02-27T00:00:00",
          "2021-02-28T00:00:00",
          "2021-03-01T00:00:00",
          "2021-03-02T00:00:00",
          "2021-03-03T00:00:00",
          "2021-03-04T00:00:00",
          "2021-03-05T00:00:00",
          "2021-03-06T00:00:00",
          "2021-03-07T00:00:00",
          "2021-03-08T00:00:00",
          "2021-03-09T00:00:00",
          "2021-03-10T00:00:00",
          "2021-03-11T00:00:00",
          "2021-03-12T00:00:00",
          "2021-03-13T00:00:00",
          "2021-03-14T00:00:00",
          "2021-03-15T00:00:00",
          "2021-03-16T00:00:00",
          "2021-03-17T00:00:00",
          "2021-03-18T00:00:00",
          "2021-03-19T00:00:00",
          "2021-03-20T00:00:00",
          "2021-03-21T00:00:00",
          "2021-03-22T00:00:00",
          "2021-03-23T00:00:00",
          "2021-03-24T00:00:00",
          "2021-03-25T00:00:00",
          "2021-03-26T00:00:00",
          "2021-03-27T00:00:00",
          "2021-03-28T00:00:00",
          "2021-03-29T00:00:00",
          "2021-03-30T00:00:00",
          "2021-03-31T00:00:00",
          "2021-04-01T00:00:00",
          "2021-04-02T00:00:00",
          "2021-04-03T00:00:00",
          "2021-04-04T00:00:00",
          "2021-04-05T00:00:00",
          "2021-04-06T00:00:00",
          "2021-04-07T00:00:00",
          "2021-04-08T00:00:00",
          "2021-04-09T00:00:00",
          "2021-04-10T00:00:00",
          "2021-04-11T00:00:00",
          "2021-04-12T00:00:00",
          "2021-04-13T00:00:00",
          "2021-04-14T00:00:00",
          "2021-04-15T00:00:00",
          "2021-04-16T00:00:00",
          "2021-04-17T00:00:00",
          "2021-04-18T00:00:00",
          "2021-04-19T00:00:00",
          "2021-04-20T00:00:00",
          "2021-04-21T00:00:00",
          "2021-04-22T00:00:00",
          "2021-04-23T00:00:00",
          "2021-04-24T00:00:00",
          "2021-04-25T00:00:00",
          "2021-04-26T00:00:00",
          "2021-04-27T00:00:00",
          "2021-04-28T00:00:00",
          "2021-04-29T00:00:00",
          "2021-04-30T00:00:00",
          "2021-05-01T00:00:00",
          "2021-05-02T00:00:00",
          "2021-05-03T00:00:00",
          "2021-05-04T00:00:00",
          "2021-05-05T00:00:00",
          "2021-05-06T00:00:00",
          "2021-05-07T00:00:00",
          "2021-05-08T00:00:00",
          "2021-05-09T00:00:00",
          "2021-05-10T00:00:00",
          "2021-05-11T00:00:00",
          "2021-05-12T00:00:00",
          "2021-05-13T00:00:00",
          "2021-05-14T00:00:00",
          "2021-05-15T00:00:00",
          "2021-05-16T00:00:00",
          "2021-05-17T00:00:00"
         ],
         "xaxis": "x",
         "y": [
          1,
          1,
          1,
          3,
          3,
          6,
          8,
          21,
          52,
          187,
          668,
          809,
          673,
          631,
          783,
          829,
          836,
          894,
          885,
          754,
          688,
          808,
          703,
          655,
          723,
          884,
          771,
          765,
          936,
          936,
          947,
          964,
          913,
          818,
          796,
          920,
          954,
          963,
          981,
          906,
          750,
          746,
          899,
          869,
          714,
          699,
          942,
          749,
          644,
          884,
          945,
          903,
          960,
          960,
          783,
          742,
          879,
          939,
          939,
          913,
          880,
          735,
          683,
          913,
          957,
          912,
          929,
          837,
          695,
          617,
          784,
          1035,
          1008,
          939,
          894,
          731,
          696,
          816,
          927,
          912,
          879,
          838,
          686,
          677,
          883,
          877,
          882,
          906,
          838,
          669,
          683,
          813,
          823,
          790,
          876,
          793,
          664,
          606,
          697,
          940,
          888,
          862,
          777,
          636,
          615,
          762,
          795,
          840,
          771,
          768,
          688,
          624,
          790
         ],
         "yaxis": "y"
        }
       ],
       "layout": {
        "autosize": true,
        "legend": {
         "tracegroupgap": 0
        },
        "template": {
         "layout": {
          "colorway": [
           "#1199FF",
           "#DB4230",
           "#4E665D",
           "#F4A221",
           "#66FF00",
           "#33ABAB",
           "#A88D95",
           "#789ABC",
           "#FF99CC",
           "#00CCFF",
           "#FFBC71",
           "#A57E81",
           "#8D4DFF",
           "#FF6666",
           "#CC99FF",
           "#2F7ED8",
           "#0D233A",
           "#8BBC21",
           "#910000",
           "#1AADCE",
           "#492970",
           "#F28F43",
           "#77A1E5",
           "#3366FF",
           "#FF6600",
           "#808000",
           "#CC99FF",
           "#008080",
           "#CC6600",
           "#9999FF",
           "#99FF99",
           "#969696",
           "#FF00FF",
           "#FFCC00",
           "#666699",
           "#00FFFF",
           "#00CCFF",
           "#993366",
           "#3AAAAA",
           "#C0C0C0",
           "#FF99CC",
           "#FFCC99",
           "#CCFFCC",
           "#CCFFFF",
           "#99CCFF",
           "#339966",
           "#FF9966",
           "#69BBED",
           "#33FF33",
           "#6666FF",
           "#FF66FF",
           "#99ABAB",
           "#AB8722",
           "#AB6565",
           "#990099",
           "#999900",
           "#CC3300",
           "#669999",
           "#993333",
           "#339966",
           "#C42525",
           "#A6C96A",
           "#111111"
          ],
          "hoverlabel": {
           "bgcolor": "white"
          },
          "hovermode": "closest",
          "legend": {
           "orientation": "h",
           "y": -0.2
          },
          "margin": {
           "t": 50
          },
          "plot_bgcolor": "white",
          "showlegend": true,
          "title": {
           "font": {
            "color": "#444b6e",
            "size": 16
           }
          },
          "xaxis": {
           "color": "#606060",
           "gridcolor": "#bfc0c0",
           "linecolor": "#c0cfe0",
           "showgrid": false,
           "showline": true,
           "tickcolor": "#c0cfe0",
           "tickformat": "%Y-%m-%d",
           "ticklen": 10,
           "ticks": "outside",
           "title": {
            "font": {
             "color": "#5078a0",
             "family": "Arial, sans-serif",
             "size": 12
            }
           },
           "zerolinecolor": "#c0cfe1",
           "zerolinewidth": 4
          },
          "yaxis": {
           "color": "#606060",
           "gridcolor": "#bfc0c0",
           "linecolor": "#c0cfe0",
           "rangemode": "tozero",
           "showline": true,
           "title": {
            "font": {
             "color": "#1199FF",
             "family": "Arial, sans-serif",
             "size": 12
            }
           },
           "zerolinecolor": "#c0cfe1",
           "zerolinewidth": 4
          }
         }
        },
        "xaxis": {
         "anchor": "y",
         "autorange": true,
         "domain": [
          0,
          1
         ],
         "range": [
          "2021-01-25",
          "2021-05-17"
         ],
         "title": {
          "text": "Time"
         },
         "type": "date"
        },
        "yaxis": {
         "anchor": "x",
         "autorange": true,
         "domain": [
          0,
          1
         ],
         "range": [
          0,
          1089.4736842105262
         ],
         "title": {
          "text": "Number of Users: Active"
         },
         "type": "linear"
        }
       }
      },
      "text/html": [
       "<div>                            <div id=\"9ed29983-fcfb-42e8-89d7-fec881f09d92\" class=\"plotly-graph-div\" style=\"height:525px; width:100%;\"></div>            <script type=\"text/javascript\">                require([\"plotly\"], function(Plotly) {                    window.PLOTLYENV=window.PLOTLYENV || {};                                    if (document.getElementById(\"9ed29983-fcfb-42e8-89d7-fec881f09d92\")) {                    Plotly.newPlot(                        \"9ed29983-fcfb-42e8-89d7-fec881f09d92\",                        [{\"hovertemplate\":\"Time=%{x}\\u003cbr\\u003eNumber of Users: Active=%{y}\\u003cextra\\u003e\\u003c\\u002fextra\\u003e\",\"legendgroup\":\"\",\"line\":{\"color\":\"#1199FF\",\"dash\":\"solid\"},\"marker\":{\"symbol\":\"circle\"},\"mode\":\"lines\",\"name\":\"\",\"orientation\":\"v\",\"showlegend\":false,\"x\":[\"2021-01-25T00:00:00\",\"2021-01-26T00:00:00\",\"2021-01-27T00:00:00\",\"2021-01-28T00:00:00\",\"2021-01-29T00:00:00\",\"2021-01-30T00:00:00\",\"2021-01-31T00:00:00\",\"2021-02-01T00:00:00\",\"2021-02-02T00:00:00\",\"2021-02-03T00:00:00\",\"2021-02-04T00:00:00\",\"2021-02-05T00:00:00\",\"2021-02-06T00:00:00\",\"2021-02-07T00:00:00\",\"2021-02-08T00:00:00\",\"2021-02-09T00:00:00\",\"2021-02-10T00:00:00\",\"2021-02-11T00:00:00\",\"2021-02-12T00:00:00\",\"2021-02-13T00:00:00\",\"2021-02-14T00:00:00\",\"2021-02-15T00:00:00\",\"2021-02-16T00:00:00\",\"2021-02-17T00:00:00\",\"2021-02-18T00:00:00\",\"2021-02-19T00:00:00\",\"2021-02-20T00:00:00\",\"2021-02-21T00:00:00\",\"2021-02-22T00:00:00\",\"2021-02-23T00:00:00\",\"2021-02-24T00:00:00\",\"2021-02-25T00:00:00\",\"2021-02-26T00:00:00\",\"2021-02-27T00:00:00\",\"2021-02-28T00:00:00\",\"2021-03-01T00:00:00\",\"2021-03-02T00:00:00\",\"2021-03-03T00:00:00\",\"2021-03-04T00:00:00\",\"2021-03-05T00:00:00\",\"2021-03-06T00:00:00\",\"2021-03-07T00:00:00\",\"2021-03-08T00:00:00\",\"2021-03-09T00:00:00\",\"2021-03-10T00:00:00\",\"2021-03-11T00:00:00\",\"2021-03-12T00:00:00\",\"2021-03-13T00:00:00\",\"2021-03-14T00:00:00\",\"2021-03-15T00:00:00\",\"2021-03-16T00:00:00\",\"2021-03-17T00:00:00\",\"2021-03-18T00:00:00\",\"2021-03-19T00:00:00\",\"2021-03-20T00:00:00\",\"2021-03-21T00:00:00\",\"2021-03-22T00:00:00\",\"2021-03-23T00:00:00\",\"2021-03-24T00:00:00\",\"2021-03-25T00:00:00\",\"2021-03-26T00:00:00\",\"2021-03-27T00:00:00\",\"2021-03-28T00:00:00\",\"2021-03-29T00:00:00\",\"2021-03-30T00:00:00\",\"2021-03-31T00:00:00\",\"2021-04-01T00:00:00\",\"2021-04-02T00:00:00\",\"2021-04-03T00:00:00\",\"2021-04-04T00:00:00\",\"2021-04-05T00:00:00\",\"2021-04-06T00:00:00\",\"2021-04-07T00:00:00\",\"2021-04-08T00:00:00\",\"2021-04-09T00:00:00\",\"2021-04-10T00:00:00\",\"2021-04-11T00:00:00\",\"2021-04-12T00:00:00\",\"2021-04-13T00:00:00\",\"2021-04-14T00:00:00\",\"2021-04-15T00:00:00\",\"2021-04-16T00:00:00\",\"2021-04-17T00:00:00\",\"2021-04-18T00:00:00\",\"2021-04-19T00:00:00\",\"2021-04-20T00:00:00\",\"2021-04-21T00:00:00\",\"2021-04-22T00:00:00\",\"2021-04-23T00:00:00\",\"2021-04-24T00:00:00\",\"2021-04-25T00:00:00\",\"2021-04-26T00:00:00\",\"2021-04-27T00:00:00\",\"2021-04-28T00:00:00\",\"2021-04-29T00:00:00\",\"2021-04-30T00:00:00\",\"2021-05-01T00:00:00\",\"2021-05-02T00:00:00\",\"2021-05-03T00:00:00\",\"2021-05-04T00:00:00\",\"2021-05-05T00:00:00\",\"2021-05-06T00:00:00\",\"2021-05-07T00:00:00\",\"2021-05-08T00:00:00\",\"2021-05-09T00:00:00\",\"2021-05-10T00:00:00\",\"2021-05-11T00:00:00\",\"2021-05-12T00:00:00\",\"2021-05-13T00:00:00\",\"2021-05-14T00:00:00\",\"2021-05-15T00:00:00\",\"2021-05-16T00:00:00\",\"2021-05-17T00:00:00\"],\"xaxis\":\"x\",\"y\":[1.0,1.0,1.0,3.0,3.0,6.0,8.0,21.0,52.0,187.0,668.0,809.0,673.0,631.0,783.0,829.0,836.0,894.0,885.0,754.0,688.0,808.0,703.0,655.0,723.0,884.0,771.0,765.0,936.0,936.0,947.0,964.0,913.0,818.0,796.0,920.0,954.0,963.0,981.0,906.0,750.0,746.0,899.0,869.0,714.0,699.0,942.0,749.0,644.0,884.0,945.0,903.0,960.0,960.0,783.0,742.0,879.0,939.0,939.0,913.0,880.0,735.0,683.0,913.0,957.0,912.0,929.0,837.0,695.0,617.0,784.0,1035.0,1008.0,939.0,894.0,731.0,696.0,816.0,927.0,912.0,879.0,838.0,686.0,677.0,883.0,877.0,882.0,906.0,838.0,669.0,683.0,813.0,823.0,790.0,876.0,793.0,664.0,606.0,697.0,940.0,888.0,862.0,777.0,636.0,615.0,762.0,795.0,840.0,771.0,768.0,688.0,624.0,790.0],\"yaxis\":\"y\",\"type\":\"scatter\"}],                        {\"template\":{\"layout\":{\"colorway\":[\"#1199FF\",\"#DB4230\",\"#4E665D\",\"#F4A221\",\"#66FF00\",\"#33ABAB\",\"#A88D95\",\"#789ABC\",\"#FF99CC\",\"#00CCFF\",\"#FFBC71\",\"#A57E81\",\"#8D4DFF\",\"#FF6666\",\"#CC99FF\",\"#2F7ED8\",\"#0D233A\",\"#8BBC21\",\"#910000\",\"#1AADCE\",\"#492970\",\"#F28F43\",\"#77A1E5\",\"#3366FF\",\"#FF6600\",\"#808000\",\"#CC99FF\",\"#008080\",\"#CC6600\",\"#9999FF\",\"#99FF99\",\"#969696\",\"#FF00FF\",\"#FFCC00\",\"#666699\",\"#00FFFF\",\"#00CCFF\",\"#993366\",\"#3AAAAA\",\"#C0C0C0\",\"#FF99CC\",\"#FFCC99\",\"#CCFFCC\",\"#CCFFFF\",\"#99CCFF\",\"#339966\",\"#FF9966\",\"#69BBED\",\"#33FF33\",\"#6666FF\",\"#FF66FF\",\"#99ABAB\",\"#AB8722\",\"#AB6565\",\"#990099\",\"#999900\",\"#CC3300\",\"#669999\",\"#993333\",\"#339966\",\"#C42525\",\"#A6C96A\",\"#111111\"],\"hoverlabel\":{\"bgcolor\":\"white\"},\"hovermode\":\"closest\",\"legend\":{\"orientation\":\"h\",\"y\":-0.2},\"margin\":{\"t\":50},\"plot_bgcolor\":\"white\",\"showlegend\":true,\"title\":{\"font\":{\"color\":\"#444b6e\",\"size\":16}},\"xaxis\":{\"color\":\"#606060\",\"gridcolor\":\"#bfc0c0\",\"linecolor\":\"#c0cfe0\",\"showgrid\":false,\"showline\":true,\"tickcolor\":\"#c0cfe0\",\"tickformat\":\"%Y-%m-%d\",\"ticklen\":10,\"ticks\":\"outside\",\"title\":{\"font\":{\"color\":\"#5078a0\",\"family\":\"Arial, sans-serif\",\"size\":12}},\"zerolinecolor\":\"#c0cfe1\",\"zerolinewidth\":4},\"yaxis\":{\"color\":\"#606060\",\"gridcolor\":\"#bfc0c0\",\"linecolor\":\"#c0cfe0\",\"rangemode\":\"tozero\",\"showline\":true,\"title\":{\"font\":{\"color\":\"#1199FF\",\"family\":\"Arial, sans-serif\",\"size\":12}},\"zerolinecolor\":\"#c0cfe1\",\"zerolinewidth\":4}}},\"xaxis\":{\"anchor\":\"y\",\"domain\":[0.0,1.0],\"title\":{\"text\":\"Time\"}},\"yaxis\":{\"anchor\":\"x\",\"domain\":[0.0,1.0],\"title\":{\"text\":\"Number of Users: Active\"}},\"legend\":{\"tracegroupgap\":0}},                        {\"responsive\": true}                    ).then(function(){\n",
       "                            \n",
       "var gd = document.getElementById('9ed29983-fcfb-42e8-89d7-fec881f09d92');\n",
       "var x = new MutationObserver(function (mutations, observer) {{\n",
       "        var display = window.getComputedStyle(gd).display;\n",
       "        if (!display || display === 'none') {{\n",
       "            console.log([gd, 'removed!']);\n",
       "            Plotly.purge(gd);\n",
       "            observer.disconnect();\n",
       "        }}\n",
       "}});\n",
       "\n",
       "// Listen for the removal of the full notebook cells\n",
       "var notebookContainer = gd.closest('#notebook-container');\n",
       "if (notebookContainer) {{\n",
       "    x.observe(notebookContainer, {childList: true});\n",
       "}}\n",
       "\n",
       "// Listen for the clearing of the current output cell\n",
       "var outputEl = gd.closest('.output');\n",
       "if (outputEl) {{\n",
       "    x.observe(outputEl, {childList: true});\n",
       "}}\n",
       "\n",
       "                        })                };                });            </script>        </div>"
      ]
     },
     "metadata": {},
     "output_type": "display_data"
    }
   ],
   "source": [
    "plot = px.line(data, y='Number of Users: Active')\n",
    "plot.show()"
   ]
  },
  {
   "cell_type": "markdown",
   "id": "847a0a67-b6ce-44dd-aa67-bac7ba1cd126",
   "metadata": {},
   "source": [
    "## Do further data processing\n",
    "You can do further processing on the DataFrame to produce analysis and plots beyond those that are available in the XDMoD portal.\n",
    "\n",
    "Run the code below to add a column for the day of the week:"
   ]
  },
  {
   "cell_type": "code",
   "execution_count": 1,
   "id": "c73680d5-7df1-4e97-88cc-92deaa9f3697",
   "metadata": {},
   "outputs": [
    {
     "data": {
      "text/html": [
       "<div>\n",
       "<style scoped>\n",
       "    .dataframe tbody tr th:only-of-type {\n",
       "        vertical-align: middle;\n",
       "    }\n",
       "\n",
       "    .dataframe tbody tr th {\n",
       "        vertical-align: top;\n",
       "    }\n",
       "\n",
       "    .dataframe thead th {\n",
       "        text-align: right;\n",
       "    }\n",
       "</style>\n",
       "<table border=\"1\" class=\"dataframe\">\n",
       "  <thead>\n",
       "    <tr style=\"text-align: right;\">\n",
       "      <th>Metric</th>\n",
       "      <th>Number of Users: Active</th>\n",
       "      <th>Day Name</th>\n",
       "    </tr>\n",
       "    <tr>\n",
       "      <th>Time</th>\n",
       "      <th></th>\n",
       "      <th></th>\n",
       "    </tr>\n",
       "  </thead>\n",
       "  <tbody>\n",
       "    <tr>\n",
       "      <th>2021-01-25</th>\n",
       "      <td>1.0</td>\n",
       "      <td>Mon</td>\n",
       "    </tr>\n",
       "    <tr>\n",
       "      <th>2021-01-26</th>\n",
       "      <td>1.0</td>\n",
       "      <td>Tue</td>\n",
       "    </tr>\n",
       "    <tr>\n",
       "      <th>2021-01-27</th>\n",
       "      <td>1.0</td>\n",
       "      <td>Wed</td>\n",
       "    </tr>\n",
       "    <tr>\n",
       "      <th>2021-01-28</th>\n",
       "      <td>3.0</td>\n",
       "      <td>Thu</td>\n",
       "    </tr>\n",
       "    <tr>\n",
       "      <th>2021-01-29</th>\n",
       "      <td>3.0</td>\n",
       "      <td>Fri</td>\n",
       "    </tr>\n",
       "    <tr>\n",
       "      <th>...</th>\n",
       "      <td>...</td>\n",
       "      <td>...</td>\n",
       "    </tr>\n",
       "    <tr>\n",
       "      <th>2021-05-13</th>\n",
       "      <td>771.0</td>\n",
       "      <td>Thu</td>\n",
       "    </tr>\n",
       "    <tr>\n",
       "      <th>2021-05-14</th>\n",
       "      <td>768.0</td>\n",
       "      <td>Fri</td>\n",
       "    </tr>\n",
       "    <tr>\n",
       "      <th>2021-05-15</th>\n",
       "      <td>688.0</td>\n",
       "      <td>Sat</td>\n",
       "    </tr>\n",
       "    <tr>\n",
       "      <th>2021-05-16</th>\n",
       "      <td>624.0</td>\n",
       "      <td>Sun</td>\n",
       "    </tr>\n",
       "    <tr>\n",
       "      <th>2021-05-17</th>\n",
       "      <td>790.0</td>\n",
       "      <td>Mon</td>\n",
       "    </tr>\n",
       "  </tbody>\n",
       "</table>\n",
       "<p>113 rows × 2 columns</p>\n",
       "</div>"
      ],
      "text/plain": [
       "Metric      Number of Users: Active Day Name               \n",
       "Time                                                       \n",
       "2021-01-25                      1.0                     Mon\n",
       "2021-01-26                      1.0                     Tue\n",
       "2021-01-27                      1.0                     Wed\n",
       "2021-01-28                      3.0                     Thu\n",
       "2021-01-29                      3.0                     Fri\n",
       "...                             ...                     ...\n",
       "2021-05-13                    771.0                     Thu\n",
       "2021-05-14                    768.0                     Fri\n",
       "2021-05-15                    688.0                     Sat\n",
       "2021-05-16                    624.0                     Sun\n",
       "2021-05-17                    790.0                     Mon\n",
       "\n",
       "[113 rows x 2 columns]"
      ]
     },
     "metadata": {},
     "output_type": "display_data"
    }
   ],
   "source": [
    "data['Day Name'] = data.index.strftime('%a')\n",
    "display(data)"
   ]
  },
  {
   "cell_type": "markdown",
   "id": "78006e89-7b42-4263-8a45-d2491345ebb0",
   "metadata": {},
   "source": [
    "Run the code below to show a box plot of the data grouped by day of the week:"
   ]
  },
  {
   "cell_type": "code",
   "execution_count": 1,
   "id": "ebe8fcb7-342b-459e-8b51-3112edc7b328",
   "metadata": {},
   "outputs": [
    {
     "data": {
      "application/vnd.plotly.v1+json": {
       "config": {
        "plotlyServerURL": "https://plot.ly"
       },
       "data": [
        {
         "alignmentgroup": "True",
         "hovertemplate": "Day Name=%{x}<br>Number of Users: Active=%{y}<extra></extra>",
         "legendgroup": "",
         "marker": {
          "color": "#1199FF"
         },
         "name": "",
         "notched": false,
         "offsetgroup": "",
         "orientation": "v",
         "showlegend": false,
         "type": "box",
         "x": [
          "Mon",
          "Tue",
          "Wed",
          "Thu",
          "Fri",
          "Sat",
          "Sun",
          "Mon",
          "Tue",
          "Wed",
          "Thu",
          "Fri",
          "Sat",
          "Sun",
          "Mon",
          "Tue",
          "Wed",
          "Thu",
          "Fri",
          "Sat",
          "Sun",
          "Mon",
          "Tue",
          "Wed",
          "Thu",
          "Fri",
          "Sat",
          "Sun",
          "Mon",
          "Tue",
          "Wed",
          "Thu",
          "Fri",
          "Sat",
          "Sun",
          "Mon",
          "Tue",
          "Wed",
          "Thu",
          "Fri",
          "Sat",
          "Sun",
          "Mon",
          "Tue",
          "Wed",
          "Thu",
          "Fri",
          "Sat",
          "Sun",
          "Mon",
          "Tue",
          "Wed",
          "Thu",
          "Fri",
          "Sat",
          "Sun",
          "Mon",
          "Tue",
          "Wed",
          "Thu",
          "Fri",
          "Sat",
          "Sun",
          "Mon",
          "Tue",
          "Wed",
          "Thu",
          "Fri",
          "Sat",
          "Sun",
          "Mon",
          "Tue",
          "Wed",
          "Thu",
          "Fri",
          "Sat",
          "Sun",
          "Mon",
          "Tue",
          "Wed",
          "Thu",
          "Fri",
          "Sat",
          "Sun",
          "Mon",
          "Tue",
          "Wed",
          "Thu",
          "Fri",
          "Sat",
          "Sun",
          "Mon",
          "Tue",
          "Wed",
          "Thu",
          "Fri",
          "Sat",
          "Sun",
          "Mon",
          "Tue",
          "Wed",
          "Thu",
          "Fri",
          "Sat",
          "Sun",
          "Mon",
          "Tue",
          "Wed",
          "Thu",
          "Fri",
          "Sat",
          "Sun",
          "Mon"
         ],
         "x0": " ",
         "xaxis": "x",
         "y": [
          1,
          1,
          1,
          3,
          3,
          6,
          8,
          21,
          52,
          187,
          668,
          809,
          673,
          631,
          783,
          829,
          836,
          894,
          885,
          754,
          688,
          808,
          703,
          655,
          723,
          884,
          771,
          765,
          936,
          936,
          947,
          964,
          913,
          818,
          796,
          920,
          954,
          963,
          981,
          906,
          750,
          746,
          899,
          869,
          714,
          699,
          942,
          749,
          644,
          884,
          945,
          903,
          960,
          960,
          783,
          742,
          879,
          939,
          939,
          913,
          880,
          735,
          683,
          913,
          957,
          912,
          929,
          837,
          695,
          617,
          784,
          1035,
          1008,
          939,
          894,
          731,
          696,
          816,
          927,
          912,
          879,
          838,
          686,
          677,
          883,
          877,
          882,
          906,
          838,
          669,
          683,
          813,
          823,
          790,
          876,
          793,
          664,
          606,
          697,
          940,
          888,
          862,
          777,
          636,
          615,
          762,
          795,
          840,
          771,
          768,
          688,
          624,
          790
         ],
         "y0": " ",
         "yaxis": "y"
        }
       ],
       "layout": {
        "autosize": true,
        "boxmode": "group",
        "legend": {
         "tracegroupgap": 0
        },
        "template": {
         "layout": {
          "colorway": [
           "#1199FF",
           "#DB4230",
           "#4E665D",
           "#F4A221",
           "#66FF00",
           "#33ABAB",
           "#A88D95",
           "#789ABC",
           "#FF99CC",
           "#00CCFF",
           "#FFBC71",
           "#A57E81",
           "#8D4DFF",
           "#FF6666",
           "#CC99FF",
           "#2F7ED8",
           "#0D233A",
           "#8BBC21",
           "#910000",
           "#1AADCE",
           "#492970",
           "#F28F43",
           "#77A1E5",
           "#3366FF",
           "#FF6600",
           "#808000",
           "#CC99FF",
           "#008080",
           "#CC6600",
           "#9999FF",
           "#99FF99",
           "#969696",
           "#FF00FF",
           "#FFCC00",
           "#666699",
           "#00FFFF",
           "#00CCFF",
           "#993366",
           "#3AAAAA",
           "#C0C0C0",
           "#FF99CC",
           "#FFCC99",
           "#CCFFCC",
           "#CCFFFF",
           "#99CCFF",
           "#339966",
           "#FF9966",
           "#69BBED",
           "#33FF33",
           "#6666FF",
           "#FF66FF",
           "#99ABAB",
           "#AB8722",
           "#AB6565",
           "#990099",
           "#999900",
           "#CC3300",
           "#669999",
           "#993333",
           "#339966",
           "#C42525",
           "#A6C96A",
           "#111111"
          ],
          "hoverlabel": {
           "bgcolor": "white"
          },
          "hovermode": "closest",
          "legend": {
           "orientation": "h",
           "y": -0.2
          },
          "margin": {
           "t": 50
          },
          "plot_bgcolor": "white",
          "showlegend": true,
          "title": {
           "font": {
            "color": "#444b6e",
            "size": 16
           }
          },
          "xaxis": {
           "color": "#606060",
           "gridcolor": "#bfc0c0",
           "linecolor": "#c0cfe0",
           "showgrid": false,
           "showline": true,
           "tickcolor": "#c0cfe0",
           "tickformat": "%Y-%m-%d",
           "ticklen": 10,
           "ticks": "outside",
           "title": {
            "font": {
             "color": "#5078a0",
             "family": "Arial, sans-serif",
             "size": 12
            }
           },
           "zerolinecolor": "#c0cfe1",
           "zerolinewidth": 4
          },
          "yaxis": {
           "color": "#606060",
           "gridcolor": "#bfc0c0",
           "linecolor": "#c0cfe0",
           "rangemode": "tozero",
           "showline": true,
           "title": {
            "font": {
             "color": "#1199FF",
             "family": "Arial, sans-serif",
             "size": 12
            }
           },
           "zerolinecolor": "#c0cfe1",
           "zerolinewidth": 4
          }
         }
        },
        "xaxis": {
         "anchor": "y",
         "autorange": true,
         "categoryarray": [
          "Sun",
          "Mon",
          "Tue",
          "Wed",
          "Thu",
          "Fri",
          "Sat"
         ],
         "categoryorder": "array",
         "domain": [
          0,
          1
         ],
         "range": [
          -0.5,
          6.5
         ],
         "title": {
          "text": "Day Name"
         },
         "type": "category"
        },
        "yaxis": {
         "anchor": "x",
         "autorange": true,
         "domain": [
          0,
          1
         ],
         "range": [
          0,
          1089.4736842105262
         ],
         "title": {
          "text": "Number of Users: Active"
         },
         "type": "linear"
        }
       }
      },
      "text/html": [
       "<div>                            <div id=\"16776fb7-7b9d-4c7b-b3b2-1522d900908e\" class=\"plotly-graph-div\" style=\"height:525px; width:100%;\"></div>            <script type=\"text/javascript\">                require([\"plotly\"], function(Plotly) {                    window.PLOTLYENV=window.PLOTLYENV || {};                                    if (document.getElementById(\"16776fb7-7b9d-4c7b-b3b2-1522d900908e\")) {                    Plotly.newPlot(                        \"16776fb7-7b9d-4c7b-b3b2-1522d900908e\",                        [{\"alignmentgroup\":\"True\",\"hovertemplate\":\"Day Name=%{x}\\u003cbr\\u003eNumber of Users: Active=%{y}\\u003cextra\\u003e\\u003c\\u002fextra\\u003e\",\"legendgroup\":\"\",\"marker\":{\"color\":\"#1199FF\"},\"name\":\"\",\"notched\":false,\"offsetgroup\":\"\",\"orientation\":\"v\",\"showlegend\":false,\"x\":[\"Mon\",\"Tue\",\"Wed\",\"Thu\",\"Fri\",\"Sat\",\"Sun\",\"Mon\",\"Tue\",\"Wed\",\"Thu\",\"Fri\",\"Sat\",\"Sun\",\"Mon\",\"Tue\",\"Wed\",\"Thu\",\"Fri\",\"Sat\",\"Sun\",\"Mon\",\"Tue\",\"Wed\",\"Thu\",\"Fri\",\"Sat\",\"Sun\",\"Mon\",\"Tue\",\"Wed\",\"Thu\",\"Fri\",\"Sat\",\"Sun\",\"Mon\",\"Tue\",\"Wed\",\"Thu\",\"Fri\",\"Sat\",\"Sun\",\"Mon\",\"Tue\",\"Wed\",\"Thu\",\"Fri\",\"Sat\",\"Sun\",\"Mon\",\"Tue\",\"Wed\",\"Thu\",\"Fri\",\"Sat\",\"Sun\",\"Mon\",\"Tue\",\"Wed\",\"Thu\",\"Fri\",\"Sat\",\"Sun\",\"Mon\",\"Tue\",\"Wed\",\"Thu\",\"Fri\",\"Sat\",\"Sun\",\"Mon\",\"Tue\",\"Wed\",\"Thu\",\"Fri\",\"Sat\",\"Sun\",\"Mon\",\"Tue\",\"Wed\",\"Thu\",\"Fri\",\"Sat\",\"Sun\",\"Mon\",\"Tue\",\"Wed\",\"Thu\",\"Fri\",\"Sat\",\"Sun\",\"Mon\",\"Tue\",\"Wed\",\"Thu\",\"Fri\",\"Sat\",\"Sun\",\"Mon\",\"Tue\",\"Wed\",\"Thu\",\"Fri\",\"Sat\",\"Sun\",\"Mon\",\"Tue\",\"Wed\",\"Thu\",\"Fri\",\"Sat\",\"Sun\",\"Mon\"],\"x0\":\" \",\"xaxis\":\"x\",\"y\":[1.0,1.0,1.0,3.0,3.0,6.0,8.0,21.0,52.0,187.0,668.0,809.0,673.0,631.0,783.0,829.0,836.0,894.0,885.0,754.0,688.0,808.0,703.0,655.0,723.0,884.0,771.0,765.0,936.0,936.0,947.0,964.0,913.0,818.0,796.0,920.0,954.0,963.0,981.0,906.0,750.0,746.0,899.0,869.0,714.0,699.0,942.0,749.0,644.0,884.0,945.0,903.0,960.0,960.0,783.0,742.0,879.0,939.0,939.0,913.0,880.0,735.0,683.0,913.0,957.0,912.0,929.0,837.0,695.0,617.0,784.0,1035.0,1008.0,939.0,894.0,731.0,696.0,816.0,927.0,912.0,879.0,838.0,686.0,677.0,883.0,877.0,882.0,906.0,838.0,669.0,683.0,813.0,823.0,790.0,876.0,793.0,664.0,606.0,697.0,940.0,888.0,862.0,777.0,636.0,615.0,762.0,795.0,840.0,771.0,768.0,688.0,624.0,790.0],\"y0\":\" \",\"yaxis\":\"y\",\"type\":\"box\"}],                        {\"template\":{\"layout\":{\"colorway\":[\"#1199FF\",\"#DB4230\",\"#4E665D\",\"#F4A221\",\"#66FF00\",\"#33ABAB\",\"#A88D95\",\"#789ABC\",\"#FF99CC\",\"#00CCFF\",\"#FFBC71\",\"#A57E81\",\"#8D4DFF\",\"#FF6666\",\"#CC99FF\",\"#2F7ED8\",\"#0D233A\",\"#8BBC21\",\"#910000\",\"#1AADCE\",\"#492970\",\"#F28F43\",\"#77A1E5\",\"#3366FF\",\"#FF6600\",\"#808000\",\"#CC99FF\",\"#008080\",\"#CC6600\",\"#9999FF\",\"#99FF99\",\"#969696\",\"#FF00FF\",\"#FFCC00\",\"#666699\",\"#00FFFF\",\"#00CCFF\",\"#993366\",\"#3AAAAA\",\"#C0C0C0\",\"#FF99CC\",\"#FFCC99\",\"#CCFFCC\",\"#CCFFFF\",\"#99CCFF\",\"#339966\",\"#FF9966\",\"#69BBED\",\"#33FF33\",\"#6666FF\",\"#FF66FF\",\"#99ABAB\",\"#AB8722\",\"#AB6565\",\"#990099\",\"#999900\",\"#CC3300\",\"#669999\",\"#993333\",\"#339966\",\"#C42525\",\"#A6C96A\",\"#111111\"],\"hoverlabel\":{\"bgcolor\":\"white\"},\"hovermode\":\"closest\",\"legend\":{\"orientation\":\"h\",\"y\":-0.2},\"margin\":{\"t\":50},\"plot_bgcolor\":\"white\",\"showlegend\":true,\"title\":{\"font\":{\"color\":\"#444b6e\",\"size\":16}},\"xaxis\":{\"color\":\"#606060\",\"gridcolor\":\"#bfc0c0\",\"linecolor\":\"#c0cfe0\",\"showgrid\":false,\"showline\":true,\"tickcolor\":\"#c0cfe0\",\"tickformat\":\"%Y-%m-%d\",\"ticklen\":10,\"ticks\":\"outside\",\"title\":{\"font\":{\"color\":\"#5078a0\",\"family\":\"Arial, sans-serif\",\"size\":12}},\"zerolinecolor\":\"#c0cfe1\",\"zerolinewidth\":4},\"yaxis\":{\"color\":\"#606060\",\"gridcolor\":\"#bfc0c0\",\"linecolor\":\"#c0cfe0\",\"rangemode\":\"tozero\",\"showline\":true,\"title\":{\"font\":{\"color\":\"#1199FF\",\"family\":\"Arial, sans-serif\",\"size\":12}},\"zerolinecolor\":\"#c0cfe1\",\"zerolinewidth\":4}}},\"xaxis\":{\"anchor\":\"y\",\"domain\":[0.0,1.0],\"title\":{\"text\":\"Day Name\"},\"categoryorder\":\"array\",\"categoryarray\":[\"Sun\",\"Mon\",\"Tue\",\"Wed\",\"Thu\",\"Fri\",\"Sat\"]},\"yaxis\":{\"anchor\":\"x\",\"domain\":[0.0,1.0],\"title\":{\"text\":\"Number of Users: Active\"}},\"legend\":{\"tracegroupgap\":0},\"boxmode\":\"group\"},                        {\"responsive\": true}                    ).then(function(){\n",
       "                            \n",
       "var gd = document.getElementById('16776fb7-7b9d-4c7b-b3b2-1522d900908e');\n",
       "var x = new MutationObserver(function (mutations, observer) {{\n",
       "        var display = window.getComputedStyle(gd).display;\n",
       "        if (!display || display === 'none') {{\n",
       "            console.log([gd, 'removed!']);\n",
       "            Plotly.purge(gd);\n",
       "            observer.disconnect();\n",
       "        }}\n",
       "}});\n",
       "\n",
       "// Listen for the removal of the full notebook cells\n",
       "var notebookContainer = gd.closest('#notebook-container');\n",
       "if (notebookContainer) {{\n",
       "    x.observe(notebookContainer, {childList: true});\n",
       "}}\n",
       "\n",
       "// Listen for the clearing of the current output cell\n",
       "var outputEl = gd.closest('.output');\n",
       "if (outputEl) {{\n",
       "    x.observe(outputEl, {childList: true});\n",
       "}}\n",
       "\n",
       "                        })                };                });            </script>        </div>"
      ]
     },
     "metadata": {},
     "output_type": "display_data"
    }
   ],
   "source": [
    "plot = px.box(\n",
    "    data,\n",
    "    x='Day Name',\n",
    "    y='Number of Users: Active',\n",
    "    category_orders={'Day Name': ('Sun', 'Mon', 'Tue', 'Wed', 'Thu', 'Fri', 'Sat')},\n",
    ")\n",
    "plot.show()"
   ]
  },
  {
   "cell_type": "markdown",
   "id": "78503d11-a84c-4ead-be72-cb963efb5149",
   "metadata": {},
   "source": [
    "## Details of the `get_data()` method\n",
    "Now that you have seen a basic example of using the `get_data()` method, read below for more details on how it works."
   ]
  },
  {
   "cell_type": "markdown",
   "id": "cd5494a4-d368-43fc-8662-af92f9304a87",
   "metadata": {},
   "source": [
    "### Wrap data warehouse calls in a runtime context\n",
    "XDMoD data is accessed over a network connection, which involves establishing connections and creating temporary resources. To ensure these connections and resources are cleaned up properly in spite of any runtime errors, you should call data warehouse methods within a **runtime context** by using Python's `with` statement to wrap the execution of XDMoD queries, store the result, and execute any long running calculations outside of the runtime context, as in the template below."
   ]
  },
  {
   "cell_type": "code",
   "execution_count": 1,
   "id": "faf12b0f-96ef-490e-9a37-de11c5d98ad4",
   "metadata": {},
   "outputs": [],
   "source": [
    "with dw:\n",
    "    # XDMoD queries would go here\n",
    "    pass\n",
    "# Data processing would go here\n",
    "pass"
   ]
  },
  {
   "cell_type": "markdown",
   "id": "d0d75eac-6bad-45e7-9f34-b687625ffc0e",
   "metadata": {},
   "source": [
    "### Default parameters\n",
    "The `get_data()` method has a number of parameters; their default values are shown below, and the parameters are explained in more detail further below."
   ]
  },
  {
   "cell_type": "code",
   "execution_count": 1,
   "id": "49269fae-eb5e-43e7-adb0-f06997d65f14",
   "metadata": {},
   "outputs": [],
   "source": [
    "with dw:\n",
    "    data = dw.get_data(\n",
    "        duration='Previous month',\n",
    "        realm='Jobs',\n",
    "        metric='CPU Hours: Total',\n",
    "        dimension='None',\n",
    "        filters={},\n",
    "        dataset_type='timeseries',\n",
    "        aggregation_unit='Auto',\n",
    "    )"
   ]
  },
  {
   "cell_type": "markdown",
   "id": "17f8700f-2c7e-4fad-a1b3-a284ab0eb3cd",
   "metadata": {
    "tags": []
   },
   "source": [
    "### Duration\n",
    "The **duration** provides the time constraints of the data to be fetched from the XDMoD data warehouse. You can get a list of valid durations by calling the `get_durations()` method."
   ]
  },
  {
   "cell_type": "code",
   "execution_count": 1,
   "id": "c68c30a6-584d-4b8f-9c6b-63ea281d2def",
   "metadata": {},
   "outputs": [
    {
     "data": {
      "text/plain": [
       "('Yesterday',\n",
       " '7 day',\n",
       " '30 day',\n",
       " '90 day',\n",
       " 'Month to date',\n",
       " 'Previous month',\n",
       " 'Quarter to date',\n",
       " 'Previous quarter',\n",
       " 'Year to date',\n",
       " 'Previous year',\n",
       " '1 year',\n",
       " '2 year',\n",
       " '3 year',\n",
       " '5 year',\n",
       " '10 year',\n",
       " '2023',\n",
       " '2022',\n",
       " '2021',\n",
       " '2020',\n",
       " '2019',\n",
       " '2018',\n",
       " '2017')"
      ]
     },
     "metadata": {},
     "output_type": "display_data"
    }
   ],
   "source": [
    "with dw:\n",
    "    durations = dw.get_durations()\n",
    "display(durations)"
   ]
  },
  {
   "cell_type": "markdown",
   "id": "0b6718b1-cd66-4843-b003-bd5cd6a2d978",
   "metadata": {},
   "source": [
    "The duration can instead be specified as start and end dates:"
   ]
  },
  {
   "cell_type": "code",
   "execution_count": 1,
   "id": "17f41062-5e69-4200-8117-5c5b599d5fd3",
   "metadata": {},
   "outputs": [],
   "source": [
    "with dw:\n",
    "    data = dw.get_data(duration=('2022-12-03', '2022-12-23'))"
   ]
  },
  {
   "cell_type": "markdown",
   "id": "a31ed751-8105-49c4-9f06-5a61baeff145",
   "metadata": {
    "tags": []
   },
   "source": [
    "### Realm\n",
    "A **realm** is a category of data in the XDMoD data warehouse. You can use the `describe_realms()` method to get a DataFrame containing the list of available realms."
   ]
  },
  {
   "cell_type": "code",
   "execution_count": 1,
   "id": "5f9186a0-aaec-4c5b-bc31-986e31dc7024",
   "metadata": {},
   "outputs": [
    {
     "data": {
      "text/markdown": [
       "| id          | label       |\n",
       "|:------------|:------------|\n",
       "| Accounts    | Accounts    |\n",
       "| Allocations | Allocations |\n",
       "| Cloud       | Cloud       |\n",
       "| Gateways    | Gateways    |\n",
       "| Jobs        | Jobs        |\n",
       "| Requests    | Requests    |\n",
       "| SUPREMM     | SUPREMM     |"
      ],
      "text/plain": [
       "<IPython.core.display.Markdown object>"
      ]
     },
     "metadata": {},
     "output_type": "display_data"
    }
   ],
   "source": [
    "with dw:\n",
    "    realms = dw.describe_realms()\n",
    "display_df_md_table(realms)"
   ]
  },
  {
   "cell_type": "markdown",
   "id": "37ec00eb-faf6-4682-9a74-05d41f86827b",
   "metadata": {},
   "source": [
    "### Metric\n",
    "A **metric** is a statistic for which data exists in a given realm. You can use the `describe_metrics(realm)` method to get a DataFrame containing the list of valid metrics in the given realm. The realm must be passed in as a string."
   ]
  },
  {
   "cell_type": "code",
   "execution_count": 1,
   "id": "0a2ee263-0d0c-4e6c-b954-66c24ef45fd8",
   "metadata": {},
   "outputs": [
    {
     "data": {
      "text/markdown": [
       "| id                                 | label                                        | description                                                                                                                                                                                                                                                                                                                                                                                                                                                                                                                                                                                                                                                                                                                                                                                                                                                                                                                                                                                                                                                                                                                                                                                                                                                                                                                                                                                                                                                                                                                                                                |\n",
       "|:-----------------------------------|:---------------------------------------------|:---------------------------------------------------------------------------------------------------------------------------------------------------------------------------------------------------------------------------------------------------------------------------------------------------------------------------------------------------------------------------------------------------------------------------------------------------------------------------------------------------------------------------------------------------------------------------------------------------------------------------------------------------------------------------------------------------------------------------------------------------------------------------------------------------------------------------------------------------------------------------------------------------------------------------------------------------------------------------------------------------------------------------------------------------------------------------------------------------------------------------------------------------------------------------------------------------------------------------------------------------------------------------------------------------------------------------------------------------------------------------------------------------------------------------------------------------------------------------------------------------------------------------------------------------------------------------|\n",
       "| utilization                        | ACCESS Utilization (%)                       | The percentage of the ACCESS obligation of a resource that has been utilized by ACCESS jobs.<br/><i> ACCESS Utilization:</i> The ratio of the total CPU hours consumed by ACCESS jobs over a given time period divided by the total CPU hours that the system is contractually required to provide to ACCESS during that period. It does not include non-ACCESS jobs.<br/>It is worth noting that this value is a rough estimate in certain cases where the resource providers don't provide accurate records of their system specifications, over time.                                                                                                                                                                                                                                                                                                                                                                                                                                                                                                                                                                                                                                                                                                                                                                                                                                                                                                                                                                                                                   |\n",
       "| rate_of_usage                      | Allocation Usage Rate (XD SU/Hour)           | The rate of ACCESS allocation usage in XD SUs per hour.                                                                                                                                                                                                                                                                                                                                                                                                                                                                                                                                                                                                                                                                                                                                                                                                                                                                                                                                                                                                                                                                                                                                                                                                                                                                                                                                                                                                                                                                                                                    |\n",
       "| avg_cpu_hours                      | CPU Hours: Per Job                           | The average CPU hours (number of CPU cores x wall time hours) per ACCESS job.<br/>For each job, the CPU usage is aggregated. For example, if a job used 1000 CPUs for one minute, it would be aggregated as 1000 CPU minutes or 16.67 CPU hours.                                                                                                                                                                                                                                                                                                                                                                                                                                                                                                                                                                                                                                                                                                                                                                                                                                                                                                                                                                                                                                                                                                                                                                                                                                                                                                                           |\n",
       "| total_cpu_hours                    | CPU Hours: Total                             | The total CPU hours (number of CPU cores x wall time hours) used by ACCESS jobs.<br/>For each job, the CPU usage is aggregated. For example, if a job used 1000 CPUs for one minute, it would be aggregated as 1000 CPU minutes or 16.67 CPU hours.                                                                                                                                                                                                                                                                                                                                                                                                                                                                                                                                                                                                                                                                                                                                                                                                                                                                                                                                                                                                                                                                                                                                                                                                                                                                                                                        |\n",
       "| max_processors                     | Job Size: Max (Core Count)                   | The maximum size ACCESS job in number of cores.<br/><i>Job Size: </i>The total number of processor cores used by a (parallel) job.                                                                                                                                                                                                                                                                                                                                                                                                                                                                                                                                                                                                                                                                                                                                                                                                                                                                                                                                                                                                                                                                                                                                                                                                                                                                                                                                                                                                                                         |\n",
       "| min_processors                     | Job Size: Min (Core Count)                   | The minimum size ACCESS job in number of cores.<br/><i>Job Size: </i>The total number of processor cores used by a (parallel) job.                                                                                                                                                                                                                                                                                                                                                                                                                                                                                                                                                                                                                                                                                                                                                                                                                                                                                                                                                                                                                                                                                                                                                                                                                                                                                                                                                                                                                                         |\n",
       "| normalized_avg_processors          | Job Size: Normalized (% of Total Cores)      | The percentage average size ACCESS job over total machine cores.<br><i>Normalized Job Size: </i>The percentage total number of processor cores used by a (parallel) job over the total number of cores on the machine.                                                                                                                                                                                                                                                                                                                                                                                                                                                                                                                                                                                                                                                                                                                                                                                                                                                                                                                                                                                                                                                                                                                                                                                                                                                                                                                                                     |\n",
       "| avg_processors                     | Job Size: Per Job (Core Count)               | The average job size per ACCESS job.<br><i>Job Size: </i>The number of processor cores used by a (parallel) job.                                                                                                                                                                                                                                                                                                                                                                                                                                                                                                                                                                                                                                                                                                                                                                                                                                                                                                                                                                                                                                                                                                                                                                                                                                                                                                                                                                                                                                                           |\n",
       "| avg_job_size_weighted_by_cpu_hours | Job Size: Weighted By CPU Hours (Core Count) | The average ACCESS job size weighted by CPU Hours. Defined as <br><i>Average Job Size Weighted By CPU Hours: </i> sum(i = 0 to n){ job i core count * job i cpu hours}/sum(i =  0 to n){job i cpu hours}                                                                                                                                                                                                                                                                                                                                                                                                                                                                                                                                                                                                                                                                                                                                                                                                                                                                                                                                                                                                                                                                                                                                                                                                                                                                                                                                                                   |\n",
       "| avg_job_size_weighted_by_xd_su     | Job Size: Weighted By XD SUs (Core Count)    | The average ACCESS job size weighted by charge in XD SUs. Defined as <br><i>Average Job Size Weighted By XD SUs: </i> sum(i = 0 to n){job i core count*job i charge in xd sus}/sum(i =  0 to n){job i charge in xd sus}                                                                                                                                                                                                                                                                                                                                                                                                                                                                                                                                                                                                                                                                                                                                                                                                                                                                                                                                                                                                                                                                                                                                                                                                                                                                                                                                                    |\n",
       "| avg_nu                             | NUs Charged: Per Job                         | The average amount of NUs charged per ACCESS job.<br/><br/><i>NU - Normalized Units: </i>Roaming allocations are awarded in XSEDE Service Units (SUs). 1 XSEDE SU is defined as one CPU-hour on a Phase-1 DTF cluster. <br/>For usage on a resource that is charged to a Roaming allocation, a normalization factor is applied. The normalization factor is based on<br/>the method historically used to calculate 'Normalized Units' (Cray X-MP-equivalent SUs), which derives from a resource's performance on the HPL<br/>benchmark.<br/><br/><br/>Specifically, 1 Phase-1 DTF SU = 21.576 NUs, and the XD SU conversion factor for a resource is calculated by taking its NU conversion factor<br/>and dividing it by 21.576. The standard formula for calculating a resource's NU conversion factor is: (Rmax * 1000 / 191) / P<br/>where Rmax is the resource's Rmax result on the HPL benchmark in Gflops and P is the number of processors used in the benchmark.<br/>In the absence of an HPL benchmark run, a conversion factor can be agreed upon, based on that of an architecturally similar platform<br/>and scaled according to processor performance differences.<br/><br/><br/>Conversion to Roaming SUs is handled by the XSEDE central accounting system, and RPs are only required to report usage in local SUs for all allocations.<br/><br/><br/>Defining an SU charge for specialized compute resources (such as visualization hardware) or non-compute resources (such as storage) is possible, but there is no XSEDE-wide policy for doing so.    |\n",
       "| total_nu                           | NUs Charged: Total                           | The total amount of NUs charged by ACCESS jobs.<br/><br/><i>NU - Normalized Units: </i>Roaming allocations are awarded in XSEDE Service Units (SUs). 1 XSEDE SU is defined as one CPU-hour on a Phase-1 DTF cluster.<br/>For usage on a resource that is charged to a Roaming allocation, a normalization factor is applied. The normalization factor is based on <br/>the method historically used to calculate 'Normalized Units' (Cray X-MP-equivalent SUs), which derives from a resource's performance on the HPL <br/>benchmark.<br/><br/><br/>Specifically, 1 Phase-1 DTF SU = 21.576 NUs, and the XD SU conversion factor for a resource is calculated by taking its NU conversion factor <br/>and dividing it by 21.576. The standard formula for calculating a resource's NU conversion factor is: (Rmax * 1000 / 191) / P <br/>where Rmax is the resource's Rmax result on the HPL benchmark in Gflops and P is the number of processors used in the benchmark. <br/>In the absence of an HPL benchmark run, a conversion factor can be agreed upon, based on that of an architecturally similar platform <br/>and scaled according to processor performance differences.<br/><br/><br/>Conversion to Roaming SUs is handled by the XSEDE central accounting system, and RPs are only required to report usage in local SUs for all allocations.<br/><br/><br/>Defining an SU charge for specialized compute resources (such as visualization hardware) or non-compute resources (such as storage) is possible, but there is no XSEDE-wide policy for doing so. |\n",
       "| avg_node_hours                     | Node Hours: Per Job                          | The average node hours (number of nodes x wall time hours) per ACCESS job.                                                                                                                                                                                                                                                                                                                                                                                                                                                                                                                                                                                                                                                                                                                                                                                                                                                                                                                                                                                                                                                                                                                                                                                                                                                                                                                                                                                                                                                                                                 |\n",
       "| total_node_hours                   | Node Hours: Total                            | The total node hours (number of nodes x wall time hours) used by ACCESS jobs.                                                                                                                                                                                                                                                                                                                                                                                                                                                                                                                                                                                                                                                                                                                                                                                                                                                                                                                                                                                                                                                                                                                                                                                                                                                                                                                                                                                                                                                                                              |\n",
       "| active_allocation_count            | Number of Allocations: Active                | The total number of funded projects that used ACCESS resources.                                                                                                                                                                                                                                                                                                                                                                                                                                                                                                                                                                                                                                                                                                                                                                                                                                                                                                                                                                                                                                                                                                                                                                                                                                                                                                                                                                                                                                                                                                            |\n",
       "| active_institution_count           | Number of Institutions: Active               | The total number of institutions that used ACCESS resources.                                                                                                                                                                                                                                                                                                                                                                                                                                                                                                                                                                                                                                                                                                                                                                                                                                                                                                                                                                                                                                                                                                                                                                                                                                                                                                                                                                                                                                                                                                               |\n",
       "| job_count                          | Number of Jobs Ended                         | The total number of ACCESS jobs that ended within the selected duration.                                                                                                                                                                                                                                                                                                                                                                                                                                                                                                                                                                                                                                                                                                                                                                                                                                                                                                                                                                                                                                                                                                                                                                                                                                                                                                                                                                                                                                                                                                   |\n",
       "| running_job_count                  | Number of Jobs Running                       | The total number of ACCESS jobs that are running.                                                                                                                                                                                                                                                                                                                                                                                                                                                                                                                                                                                                                                                                                                                                                                                                                                                                                                                                                                                                                                                                                                                                                                                                                                                                                                                                                                                                                                                                                                                          |\n",
       "| started_job_count                  | Number of Jobs Started                       | The total number of ACCESS jobs that started executing within the selected duration.                                                                                                                                                                                                                                                                                                                                                                                                                                                                                                                                                                                                                                                                                                                                                                                                                                                                                                                                                                                                                                                                                                                                                                                                                                                                                                                                                                                                                                                                                       |\n",
       "| submitted_job_count                | Number of Jobs Submitted                     | The total number of ACCESS jobs that submitted/queued within the selected duration.<i>                                                                                                                                                                                                                                                                                                                                                                                                                                                                                                                                                                                                                                                                                                                                                                                                                                                                                                                                                                                                                                                                                                                                                                                                                                                                                                                                                                                                                                                                                     |\n",
       "| gateway_job_count                  | Number of Jobs via Gateway                   | The total number of ACCESS  jobs submitted through gateways (e.g., via a community user account) that ended within the selected duration.<br/><i>Job: </i>A scheduled process for a computer resource in a batch processing environment.                                                                                                                                                                                                                                                                                                                                                                                                                                                                                                                                                                                                                                                                                                                                                                                                                                                                                                                                                                                                                                                                                                                                                                                                                                                                                                                                   |\n",
       "| active_pi_count                    | Number of PIs: Active                        | The total number of PIs that used ACCESS resources.                                                                                                                                                                                                                                                                                                                                                                                                                                                                                                                                                                                                                                                                                                                                                                                                                                                                                                                                                                                                                                                                                                                                                                                                                                                                                                                                                                                                                                                                                                                        |\n",
       "| active_resource_count              | Number of Resources: Active                  | The total number of active ACCESS resources.                                                                                                                                                                                                                                                                                                                                                                                                                                                                                                                                                                                                                                                                                                                                                                                                                                                                                                                                                                                                                                                                                                                                                                                                                                                                                                                                                                                                                                                                                                                               |\n",
       "| active_person_count                | Number of Users: Active                      | The total number of users that used ACCESS resources.                                                                                                                                                                                                                                                                                                                                                                                                                                                                                                                                                                                                                                                                                                                                                                                                                                                                                                                                                                                                                                                                                                                                                                                                                                                                                                                                                                                                                                                                                                                      |\n",
       "| expansion_factor                   | User Expansion Factor                        | Gauging ACCESS job-turnaround time, it measures the ratio of wait time and the total time from submission to end of execution.<br/><i>User Expansion Factor = ((wait duration + wall duration) / wall duration). </i>                                                                                                                                                                                                                                                                                                                                                                                                                                                                                                                                                                                                                                                                                                                                                                                                                                                                                                                                                                                                                                                                                                                                                                                                                                                                                                                                                      |\n",
       "| avg_waitduration_hours             | Wait Hours: Per Job                          | The average time, in hours, a ACCESS job waits before execution on the designated resource.<br/><i>Wait Time: </i>Wait time is defined as the linear time between submission of a job by a user until it begins to execute.                                                                                                                                                                                                                                                                                                                                                                                                                                                                                                                                                                                                                                                                                                                                                                                                                                                                                                                                                                                                                                                                                                                                                                                                                                                                                                                                                |\n",
       "| total_waitduration_hours           | Wait Hours: Total                            | The total time, in hours, ACCESS jobs waited before execution on their designated resource.<br/><i>Wait Time: </i>Wait time is defined as the linear time between submission of a job by a user until it begins to execute.                                                                                                                                                                                                                                                                                                                                                                                                                                                                                                                                                                                                                                                                                                                                                                                                                                                                                                                                                                                                                                                                                                                                                                                                                                                                                                                                                |\n",
       "| avg_wallduration_hours             | Wall Hours: Per Job                          | The average time, in hours, a job takes to execute.<br/>In timeseries view mode, the statistic shows the average wall time per job per time period. In aggregate view mode the statistic only includes the job wall hours between the defined time range. The wall hours outside the time range are not included in the calculation.<br /> <i>Wall Time:</i> Wall time is defined as the linear time between start and end time of execution for a particular job.                                                                                                                                                                                                                                                                                                                                                                                                                                                                                                                                                                                                                                                                                                                                                                                                                                                                                                                                                                                                                                                                                                         |\n",
       "| total_wallduration_hours           | Wall Hours: Total                            | The total time, in hours, ACCESS jobs took to execute.<br/><i>Wall Time:</i> Wall time is defined as the linear time between start and end time of execution for a particular job.                                                                                                                                                                                                                                                                                                                                                                                                                                                                                                                                                                                                                                                                                                                                                                                                                                                                                                                                                                                                                                                                                                                                                                                                                                                                                                                                                                                         |\n",
       "| avg_su                             | XD SUs Charged: Per Job                      | The average amount of XD SUs charged per ACCESS job.<br/><br/><i>XD SU: </i>1 XSEDE SU is defined as one CPU-hour on a Phase-1 DTF cluster.<br/><br/><i>SU - Service Units: </i>Computational resources on the XSEDE are allocated and charged in service units (SUs). SUs are defined locally on each system, with conversion factors among systems based on HPL benchmark results.<br/><br/><br/>Current TeraGrid supercomputers have complex multi-core and memory hierarchies. Each resource has a specific configuration that determines the number (N) of cores that can be dedicated to a job without slowing the code (and other user and system codes). Each resource defines for its system the minimum number of SUs charged for a job running in the default batch queue, calculated as wallclock runtime multiplied by N. Minimum charges may apply.<br/><br/><br/>Note: The actual charge will depend on the specific requirements of the job (e.g., the mapping of the cores across the machine, or the priority you wish to obtain).<br/><br/><br/>Note 2: The SUs show here have been normalized against the XSEDE Roaming service. Therefore they are comparable across resources.                                                                                                                                                                                                                                                                                                                                                                       |\n",
       "| total_su                           | XD SUs Charged: Total                        | The total amount of XD SUs charged by ACCESS jobs.<br/><br/><i>XD SU: </i>1 XSEDE SU is defined as one CPU-hour on a Phase-1 DTF cluster.<br/><br/><i>SU - Service Units: </i>Computational resources on the XSEDE are allocated and charged in service units (SUs). SUs are defined locally on each system, with conversion factors among systems based on HPL benchmark results.<br/><br/><br/>Current TeraGrid supercomputers have complex multi-core and memory hierarchies. Each resource has a specific configuration that determines the number (N) of cores that can be dedicated to a job without slowing the code (and other user and system codes). Each resource defines for its system the minimum number of SUs charged for a job running in the default batch queue, calculated as wallclock runtime multiplied by N. Minimum charges may apply.<br/><br/><br/>Note: The actual charge will depend on the specific requirements of the job (e.g., the mapping of the cores across the machine, or the priority you wish to obtain).<br/><br/><br/>Note 2: The SUs show here have been normalized against the XSEDE Roaming service. Therefore they are comparable across resources.                                                                                                                                                                                                                                                                                                                                                                         |"
      ],
      "text/plain": [
       "<IPython.core.display.Markdown object>"
      ]
     },
     "metadata": {},
     "output_type": "display_data"
    }
   ],
   "source": [
    "with dw:\n",
    "    metrics = dw.describe_metrics('Jobs')\n",
    "display_df_md_table(metrics)"
   ]
  },
  {
   "cell_type": "markdown",
   "id": "511389a5-14f1-489b-8495-3340ab2c85c9",
   "metadata": {
    "tags": []
   },
   "source": [
    "### Dimension\n",
    "A **dimension** is a grouping of data. You can use the `describe_dimensions(realm)` method to get a DataFrame containing the list of valid dimensions in the given realm. The realm must be passed in as a string."
   ]
  },
  {
   "cell_type": "code",
   "execution_count": 1,
   "id": "fc364eb1-c3d9-4724-82ab-897191e3e3f4",
   "metadata": {
    "tags": []
   },
   "outputs": [
    {
     "data": {
      "text/markdown": [
       "| id             | label            | description                                                                                                      |\n",
       "|:---------------|:-----------------|:-----------------------------------------------------------------------------------------------------------------|\n",
       "| none           | None             | Summarizes jobs reported to the ACCESS allocations service (excludes non-ACCESS usage of the resource).          |\n",
       "| allocation     | Allocation       | A funded project that is allowed to run jobs on resources.                                                       |\n",
       "| fieldofscience | Field of Science | The field of science indicated on the allocation request pertaining to the running jobs.                         |\n",
       "| gateway        | Gateway          | A science gateway is a portal set up to aid submiting jobs to resources.                                         |\n",
       "| grant_type     | Grant Type       | A categorization of the projects/allocations.                                                                    |\n",
       "| jobsize        | Job Size         | A categorization of jobs into discrete groups based on the number of cores used by each job.                     |\n",
       "| jobwaittime    | Job Wait Time    | A categorization of jobs into discrete groups based on the total linear time each job waited.                    |\n",
       "| jobwalltime    | Job Wall Time    | A categorization of jobs into discrete groups based on the total linear time each job took to execute.           |\n",
       "| nsfdirectorate | NSF Directorate  | The NSF directorate of the field of science indiciated on the allocation request pertaining to the running jobs. |\n",
       "| nodecount      | Node Count       | A categorization of jobs into discrete groups based on node count.                                               |\n",
       "| pi             | PI               | The principal investigator of a project.                                                                         |\n",
       "| pi_institution | PI Institution   | Organizations that have PIs with allocations.                                                                    |\n",
       "| parentscience  | Parent Science   | The parent of the field of science indiciated on the allocation request pertaining to the running jobs.          |\n",
       "| queue          | Queue            | Queue pertains to the low level job queues on each resource.                                                     |\n",
       "| resource       | Resource         | A resource is a remote computer that can run jobs.                                                               |\n",
       "| resource_type  | Resource Type    | A categorization of resources into by their general capabilities.                                                |\n",
       "| provider       | Service Provider | A service provider is an institution that hosts resources.                                                       |\n",
       "| username       | System Username  | The specific system username of the users who ran jobs.                                                          |\n",
       "| person         | User             | A person who is on a PIs allocation, hence able run jobs on resources.                                           |\n",
       "| institution    | User Institution | Organizations that have users with allocations.                                                                  |\n",
       "| nsfstatus      | User NSF Status  | Categorization of the users who ran jobs.                                                                        |"
      ],
      "text/plain": [
       "<IPython.core.display.Markdown object>"
      ]
     },
     "metadata": {},
     "output_type": "display_data"
    }
   ],
   "source": [
    "with dw:\n",
    "    dimensions = dw.describe_dimensions('Jobs')\n",
    "display_df_md_table(dimensions)"
   ]
  },
  {
   "cell_type": "markdown",
   "id": "bac0e9fb-4442-40b4-8478-1e450bd93d58",
   "metadata": {},
   "source": [
    "### Pass in realms, metrics, and dimensions using labels or IDs"
   ]
  },
  {
   "cell_type": "markdown",
   "id": "3995a590-fa9b-4dc8-b0b7-b6fc1d184cdd",
   "metadata": {},
   "source": [
    "For methods in the API that take realms, metrics, and/or dimensions as arguments, you can pass them in as their labels or their IDs."
   ]
  },
  {
   "cell_type": "code",
   "execution_count": 1,
   "id": "d9ce1937-c232-4b39-ae40-bd5af1743716",
   "metadata": {},
   "outputs": [],
   "source": [
    "with dw:\n",
    "    data = dw.get_data(\n",
    "        duration='10 year',\n",
    "        realm='Allocations',\n",
    "        metric='NUs: Allocated', # 'allocated_nu' also works\n",
    "        dimension='Resource Type',  # 'resource_type' also works\n",
    "    )"
   ]
  },
  {
   "cell_type": "markdown",
   "id": "ee8f3916-665b-4582-ac63-dabaf4570c72",
   "metadata": {
    "tags": []
   },
   "source": [
    "### Filters\n",
    "**Filters** allow you to include only data that have certain values for given dimensions. You can use the `get_filter_values(realm, dimension)` method to get a DataFrame containing the list of valid filter values for the given dimension in the given realm. The realm and dimension must be passed in as strings."
   ]
  },
  {
   "cell_type": "code",
   "execution_count": 1,
   "id": "60c52451-bc4e-442e-a132-0e3be7ffae74",
   "metadata": {},
   "outputs": [
    {
     "data": {
      "text/markdown": [
       "|    id | label      |\n",
       "|------:|:-----------|\n",
       "|   561 | IU         |\n",
       "| 10556 | JHU-MARCC  |\n",
       "|   844 | NCSA       |\n",
       "|  2440 | OSG        |\n",
       "|   848 | PSC        |\n",
       "|  1869 | Purdue     |\n",
       "|   856 | SDSC       |\n",
       "| 14449 | StonyBrook |\n",
       "|   476 | TACC       |\n",
       "|   131 | UDEL       |"
      ],
      "text/plain": [
       "<IPython.core.display.Markdown object>"
      ]
     },
     "metadata": {},
     "output_type": "display_data"
    }
   ],
   "source": [
    "with dw:\n",
    "    filter_values = dw.get_filter_values('Jobs', 'Service Provider') # 'provider' also works\n",
    "display_df_md_table(filter_values)"
   ]
  },
  {
   "cell_type": "markdown",
   "id": "58d1c81a-7d1a-437d-b8ac-41ad21ae1bf0",
   "metadata": {},
   "source": [
    "For methods in the API that take filters as arguments, you must specify the filters as a dictionary in which the keys are dimensions (labels or IDs) and the values are string filter values (labels or IDs) or sequences of string filter values. For example, to return only data for which the field of science is biophysics and the service provider is either NCSA or SDSC:"
   ]
  },
  {
   "cell_type": "code",
   "execution_count": 1,
   "id": "e8d9d268-5964-4154-aaca-aeeed9a6b858",
   "metadata": {},
   "outputs": [],
   "source": [
    "with dw:\n",
    "    data = dw.get_data(\n",
    "        filters={\n",
    "            'Field of Science': 'Biophysics', # 'fieldofscience': '246' also works\n",
    "            'Service Provider': ( # 'provider' also works\n",
    "                'NCSA', # '844' also works\n",
    "                'SDSC', # '856' also works\n",
    "            ),\n",
    "        },\n",
    "    )"
   ]
  },
  {
   "cell_type": "markdown",
   "id": "d95c4244-37f6-4458-8b5e-d5604f72c2c5",
   "metadata": {},
   "source": [
    "### Dataset Type\n",
    "The **dataset type** can either be 'timeseries' (the default), in which data is grouped by a time [aggregation unit](#Aggregation-unit), or 'aggregate', in which the data is aggregated across the entire [duration](#Duration)."
   ]
  },
  {
   "cell_type": "code",
   "execution_count": 1,
   "id": "a842212b-c9d0-4c71-b014-2c57b3a56cfe",
   "metadata": {},
   "outputs": [],
   "source": [
    "with dw:\n",
    "    data = dw.get_data(dataset_type='timeseries')"
   ]
  },
  {
   "cell_type": "markdown",
   "id": "bf632a3b-73eb-4c0e-a001-96f5c2d1c3d4",
   "metadata": {},
   "source": [
    "### Aggregation unit\n",
    "The **aggregation unit** specifies how data is aggregated by time. You can get a list of valid aggregation units by calling the `get_aggregation_units()` method."
   ]
  },
  {
   "cell_type": "code",
   "execution_count": 1,
   "id": "3ddc3b39-1968-49e3-b269-6ed93e6dba3d",
   "metadata": {
    "tags": []
   },
   "outputs": [
    {
     "data": {
      "text/plain": [
       "('Auto', 'Day', 'Month', 'Quarter', 'Year')"
      ]
     },
     "metadata": {},
     "output_type": "display_data"
    }
   ],
   "source": [
    "with dw:\n",
    "    display(dw.get_aggregation_units())"
   ]
  }
 ],
 "metadata": {
  "kernelspec": {
   "display_name": "Python 3 (ipykernel)",
   "language": "python",
   "name": "python3"
  },
  "language_info": {
   "codemirror_mode": {
    "name": "ipython",
    "version": 3
   },
   "file_extension": ".py",
   "mimetype": "text/x-python",
   "name": "python",
   "nbconvert_exporter": "python",
   "pygments_lexer": "ipython3",
   "version": "3.11.4"
  }
 },
 "nbformat": 4,
 "nbformat_minor": 5
}
