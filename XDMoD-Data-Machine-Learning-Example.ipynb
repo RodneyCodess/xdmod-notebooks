{
 "cells": [
  {
   "cell_type": "markdown",
   "metadata": {
    "tags": []
   },
   "source": [
    "# XDMoD Data Analytics Framework — Machine Learning Example\n",
    "v1.0.0\n",
    "\n",
    "© 2023 University at Buffalo Center for Computational Research\n",
    "\n",
    "See the [xdmod-notebooks](https://github.com/ubccr/xdmod-notebooks) repository for licensing information."
   ]
  },
  {
   "cell_type": "markdown",
   "metadata": {
    "tags": []
   },
   "source": [
    "## Introduction\n",
    "The [`xdmod_data` Python module](https://pypi.org/project/xdmod-data) provides API access to the data in XDMoD. This notebook shows an example of how to use the `get_raw_data()` method to obtain and process raw job performance data, which is contained in the `SUPREMM` realm in XDMoD, and use the data to train a machine learning model."
   ]
  },
  {
   "cell_type": "markdown",
   "metadata": {},
   "source": [
    "## Install/upgrade the required modules\n",
    "Run the code below to install/upgrade the modules needed to run this notebook."
   ]
  },
  {
   "cell_type": "code",
   "execution_count": null,
   "metadata": {},
   "outputs": [],
   "source": [
    "import sys\n",
    "! {sys.executable} -m pip install --upgrade xdmod-data python-dotenv tabulate"
   ]
  },
  {
   "cell_type": "markdown",
   "metadata": {},
   "source": [
    "If running that code caused a new version of Plotly to be installed/upgraded, you may need to refresh your browser window for plots to appear correctly."
   ]
  },
  {
   "cell_type": "markdown",
   "metadata": {
    "tags": []
   },
   "source": [
    "## Configure notebook formatting"
   ]
  },
  {
   "cell_type": "markdown",
   "metadata": {
    "tags": []
   },
   "source": [
    "### Exceptions\n",
    "Run the code below to simplify how Python exceptions are displayed in this notebook."
   ]
  },
  {
   "cell_type": "code",
   "execution_count": null,
   "metadata": {},
   "outputs": [],
   "source": [
    "import sys\n",
    "def exception_handler(exception_type, exception, traceback):\n",
    "    print(\"%s: %s\" % (exception_type.__name__, exception), file=sys.stderr)\n",
    "get_ipython()._showtraceback = exception_handler"
   ]
  },
  {
   "cell_type": "markdown",
   "metadata": {},
   "source": [
    "### Tables\n",
    "Run the code below to set up for displaying Pandas DataFrames as Markdown tables in this notebook."
   ]
  },
  {
   "cell_type": "code",
   "execution_count": null,
   "metadata": {
    "tags": []
   },
   "outputs": [],
   "source": [
    "from IPython.display import display, Markdown\n",
    "def display_df_md_table(df):\n",
    "    return display(Markdown(df.replace('\\n', '<br/>', regex=True).to_markdown()))"
   ]
  },
  {
   "cell_type": "markdown",
   "metadata": {},
   "source": [
    "### Plots\n",
    "Run the code below to set up the external Plotly library to make plots using a custom XDMoD theme."
   ]
  },
  {
   "cell_type": "code",
   "execution_count": null,
   "metadata": {
    "tags": []
   },
   "outputs": [],
   "source": [
    "import plotly.express as px\n",
    "import plotly.graph_objects as go\n",
    "import plotly.io as pio\n",
    "import xdmod_data.themes\n",
    "pio.templates.default = \"timeseries\""
   ]
  },
  {
   "cell_type": "markdown",
   "metadata": {},
   "source": [
    "## Create an environment file\n",
    "The `xdmod-data.env` file will store your XDMoD API token.\n",
    "\n",
    "Run the code below to create the file in your home directory (if it does not already exist) and allow only you to read and write to it."
   ]
  },
  {
   "cell_type": "code",
   "execution_count": null,
   "metadata": {
    "tags": []
   },
   "outputs": [],
   "source": [
    "from pathlib import Path\n",
    "from os.path import expanduser\n",
    "xdmod_data_env_path = Path(expanduser('~/xdmod-data.env'))\n",
    "try:\n",
    "    with open(xdmod_data_env_path):\n",
    "        pass\n",
    "except FileNotFoundError:\n",
    "    with open(xdmod_data_env_path, 'w') as xdmod_data_env_file:\n",
    "        xdmod_data_env_file.write('XDMOD_API_TOKEN=')\n",
    "    xdmod_data_env_path.chmod(0o600)"
   ]
  },
  {
   "cell_type": "markdown",
   "metadata": {},
   "source": [
    "## Obtain an API token\n",
    "Follow [these instructions](https://github.com/ubccr/xdmod-data#api-token-access) to obtain an API token."
   ]
  },
  {
   "cell_type": "markdown",
   "metadata": {},
   "source": [
    "## Store your API token in the environment file\n",
    "Open the `xdmod-data.env` file and paste your token after `XDMOD_API_TOKEN=`.\n",
    "\n",
    "Save the file."
   ]
  },
  {
   "cell_type": "markdown",
   "metadata": {
    "tags": []
   },
   "source": [
    "## Load your XDMoD API token into the environment\n",
    "Run the code below to load the contents of the `xdmod-data.env` file into the environment. It will print `True` if it successfully loaded the file."
   ]
  },
  {
   "cell_type": "code",
   "execution_count": null,
   "metadata": {
    "tags": []
   },
   "outputs": [],
   "source": [
    "from dotenv import load_dotenv\n",
    "load_dotenv(xdmod_data_env_path, override=True)"
   ]
  },
  {
   "cell_type": "markdown",
   "metadata": {},
   "source": [
    "## Initialize the XDMoD Data Warehouse\n",
    "Run the code below to prepare for getting data from the XDMoD data warehouse at the given URL."
   ]
  },
  {
   "cell_type": "code",
   "execution_count": null,
   "metadata": {},
   "outputs": [],
   "source": [
    "from xdmod_data.warehouse import DataWarehouse\n",
    "dw = DataWarehouse('https://xdmod.access-ci.org')"
   ]
  },
  {
   "cell_type": "markdown",
   "metadata": {
    "tags": []
   },
   "source": [
    "## Get the raw data\n",
    "\n",
    "Use the `get_raw_data()` method to request raw data from XDMoD and load them into a Pandas DataFrame. For example, get two days' worth of job performance data for the ACCESS-allocated Stampede2 and Bridges-2 resources. Each of the parameters of the `get_raw_data()` method will be explained later in this notebook. Use `with` to create a runtime context; this is also explained later in this notebook."
   ]
  },
  {
   "cell_type": "code",
   "execution_count": null,
   "metadata": {
    "tags": []
   },
   "outputs": [],
   "source": [
    "with dw:\n",
    "    data = dw.get_raw_data(\n",
    "        duration=('2023-05-01', '2023-05-02'),\n",
    "        realm='SUPREMM',\n",
    "        fields=(\n",
    "            'CPU User',\n",
    "            'Nodes',\n",
    "            'Wall Time',\n",
    "            'Wait Time',\n",
    "            'Requested Wall Time',\n",
    "            'Total memory used',\n",
    "            'Mount point \"home\" data written',\n",
    "            'Mount point \"scratch\" data written',\n",
    "        ),\n",
    "        filters={\n",
    "            'Resource': [\n",
    "                'STAMPEDE2 TACC',\n",
    "                'Bridges 2 RM',\n",
    "            ],\n",
    "        },\n",
    "        show_progress=True,\n",
    "    )"
   ]
  },
  {
   "cell_type": "markdown",
   "metadata": {},
   "source": [
    "## Inspect the data"
   ]
  },
  {
   "cell_type": "code",
   "execution_count": null,
   "metadata": {
    "tags": []
   },
   "outputs": [],
   "source": [
    "display(data)"
   ]
  },
  {
   "cell_type": "markdown",
   "metadata": {},
   "source": [
    "## Prepare data for training\n",
    "\n",
    "Looking at the summary table, there are some records that have `<NA>` values. This is not unusal and is typically because the data were not collected (insufficient data points, errors in the data collection, etc.).\n",
    "\n",
    "To prepare for training, filter out the jobs that have no CPU user or filesystem data:"
   ]
  },
  {
   "cell_type": "code",
   "execution_count": null,
   "metadata": {
    "tags": []
   },
   "outputs": [],
   "source": [
    "data = data[data['CPU User'].notna()]\n",
    "data = data[data['Mount point \"scratch\" data written'].notna()]\n",
    "display(data)"
   ]
  },
  {
   "cell_type": "markdown",
   "metadata": {},
   "source": [
    "Set the data type of the columns to 64-bit floating-point:"
   ]
  },
  {
   "cell_type": "code",
   "execution_count": null,
   "metadata": {
    "tags": []
   },
   "outputs": [],
   "source": [
    "import numpy as np\n",
    "data = data.astype(np.float64)"
   ]
  },
  {
   "cell_type": "markdown",
   "metadata": {},
   "source": [
    "Use [scikit-learn](https://scikit-learn.org/) to split the jobs into a training set and test set:"
   ]
  },
  {
   "cell_type": "code",
   "execution_count": null,
   "metadata": {
    "tags": []
   },
   "outputs": [],
   "source": [
    "from sklearn.model_selection import train_test_split\n",
    "X = data[[\n",
    "    'Nodes',\n",
    "    'Wall Time',\n",
    "    'Wait Time',\n",
    "    'Requested Wall Time',\n",
    "    'Total memory used',\n",
    "    'Mount point \"home\" data written',\n",
    "    'Mount point \"scratch\" data written',\n",
    "]]\n",
    "y = data['CPU User']\n",
    "X_train, X_test, y_train, y_test = train_test_split(X, y, test_size=0.10)\n",
    "display(Markdown(\"Size of the test subset is **\" + str(len(X_test)) + \"**.\"))\n",
    "display(Markdown(\"Size of the training subset is **\" + str(len(X_train)) + \"**.\"))"
   ]
  },
  {
   "cell_type": "markdown",
   "metadata": {},
   "source": [
    "## Generate a Random Forest Regression model\n",
    "\n",
    "Using the tools from `scikit-learn`, build a Random Forest Regression model."
   ]
  },
  {
   "cell_type": "code",
   "execution_count": null,
   "metadata": {
    "tags": []
   },
   "outputs": [],
   "source": [
    "from sklearn.ensemble import RandomForestRegressor\n",
    "from sklearn.metrics import r2_score, mean_squared_error\n",
    "\n",
    "RandomForestRegModel = RandomForestRegressor()\n",
    "RandomForestRegModel.fit(X_train, y_train)"
   ]
  },
  {
   "cell_type": "markdown",
   "metadata": {},
   "source": [
    "### Compute feature importances"
   ]
  },
  {
   "cell_type": "code",
   "execution_count": null,
   "metadata": {
    "tags": []
   },
   "outputs": [],
   "source": [
    "import numpy as np\n",
    "importances = RandomForestRegModel.feature_importances_\n",
    "std = np.std(\n",
    "    [tree.feature_importances_ for tree in RandomForestRegModel.estimators_],\n",
    "    axis=0,\n",
    ")\n",
    "indices = np.argsort(importances)[::-1]\n",
    "# Calculate feature importances\n",
    "importances = RandomForestRegModel.feature_importances_\n",
    "# Sort feature importances in descending order\n",
    "indices = np.argsort(importances)[::-1]\n",
    "# Rearrange feature names so they match the sorted feature importances\n",
    "names = [X_train.columns[i] for i in indices]\n",
    "md = \"|Feature Name | Importance |\\n|-------|:----|\\n\"\n",
    "for i in indices:\n",
    "    md += \"|{}|{:1.4}|\\n\".format(names[i], importances[i])\n",
    "display(Markdown(md))"
   ]
  },
  {
   "cell_type": "markdown",
   "metadata": {},
   "source": [
    "### Predict regression targets"
   ]
  },
  {
   "cell_type": "code",
   "execution_count": null,
   "metadata": {
    "tags": []
   },
   "outputs": [],
   "source": [
    "X_train_predict = RandomForestRegModel.predict(X_train)\n",
    "X_test_predict = RandomForestRegModel.predict(X_test)"
   ]
  },
  {
   "cell_type": "markdown",
   "metadata": {},
   "source": [
    "### Compute R<sup>2</sup> values"
   ]
  },
  {
   "cell_type": "code",
   "execution_count": null,
   "metadata": {},
   "outputs": [],
   "source": [
    "print('Training data R^2:', round(r2_score(X_train_predict, y_train), 4))\n",
    "print('Test data R^2:    ', round(r2_score(X_test_predict, y_test), 4))"
   ]
  },
  {
   "cell_type": "markdown",
   "metadata": {},
   "source": [
    "## Plot model prediction vs. actual value"
   ]
  },
  {
   "cell_type": "code",
   "execution_count": null,
   "metadata": {},
   "outputs": [],
   "source": [
    "scatter_plot = px.scatter(\n",
    "    x=y_test,\n",
    "    y=X_test_predict,\n",
    ")\n",
    "line_plot = px.line(x=(0, 100), y=(0, 100))\n",
    "line_plot.update_traces(line_color='red')\n",
    "plot = go.Figure(data=scatter_plot.data + line_plot.data)\n",
    "plot.update_layout(\n",
    "    title='CPU-user Random Forest Model Test Data',\n",
    "    xaxis_title = 'Actual Value',\n",
    "    yaxis_title = 'Model Prediction',\n",
    ")\n",
    "plot.show()"
   ]
  },
  {
   "cell_type": "markdown",
   "metadata": {},
   "source": [
    "## Details of the `get_raw_data()` method\n",
    "Now that you have seen an example of using the `get_raw_data()` method, read below for more details on how it works."
   ]
  },
  {
   "cell_type": "markdown",
   "metadata": {},
   "source": [
    "### Wrap data warehouse calls in a runtime context\n",
    "XDMoD data is accessed over a network connection, which involves establishing connections and creating temporary resources. To ensure these connections and resources are cleaned up properly in spite of any runtime errors, you should call data warehouse methods within a **runtime context** by using Python's `with` statement to wrap the execution of XDMoD queries, store the result, and execute any long running calculations outside of the runtime context, as in the template below."
   ]
  },
  {
   "cell_type": "code",
   "execution_count": null,
   "metadata": {
    "tags": []
   },
   "outputs": [],
   "source": [
    "with dw:\n",
    "    # XDMoD queries would go here\n",
    "    pass\n",
    "# Data processing would go here\n",
    "pass"
   ]
  },
  {
   "cell_type": "markdown",
   "metadata": {},
   "source": [
    "### Parameters\n",
    "The `get_raw_data()` method has a number of parameters explained in detail below."
   ]
  },
  {
   "cell_type": "markdown",
   "metadata": {
    "tags": []
   },
   "source": [
    "### Duration\n",
    "The **duration** provides the time constraints of the data to be fetched from the XDMoD data warehouse.\n",
    "\n",
    "As already seen, you can specify the duration as start and end times:"
   ]
  },
  {
   "cell_type": "code",
   "execution_count": null,
   "metadata": {
    "tags": []
   },
   "outputs": [],
   "source": [
    "with dw:\n",
    "    data = dw.get_raw_data(\n",
    "        duration=('2023-05-01', '2023-05-02'),\n",
    "        realm='SUPREMM'\n",
    "    )"
   ]
  },
  {
   "cell_type": "markdown",
   "metadata": {},
   "source": [
    "You can instead specify the duration using a special string value; a list of the valid values can be obtained by calling the `get_durations()` method."
   ]
  },
  {
   "cell_type": "code",
   "execution_count": null,
   "metadata": {
    "tags": []
   },
   "outputs": [],
   "source": [
    "with dw:\n",
    "    durations = dw.get_durations()\n",
    "display(durations)"
   ]
  },
  {
   "cell_type": "markdown",
   "metadata": {},
   "source": [
    "### Realm\n",
    "A **realm** is a category of data in the XDMoD data warehouse. You can use the `describe_raw_realms()` method to get a DataFrame containing the list of realms for which raw data is available."
   ]
  },
  {
   "cell_type": "code",
   "execution_count": null,
   "metadata": {
    "tags": []
   },
   "outputs": [],
   "source": [
    "with dw:\n",
    "    raw_realms = dw.describe_raw_realms()\n",
    "display_df_md_table(raw_realms)"
   ]
  },
  {
   "cell_type": "markdown",
   "metadata": {},
   "source": [
    "### Fields\n",
    "A **field** is a measurement for which raw data exists in a given realm. You can use the `describe_raw_fields(realm)` method to get a DataFrame containing the list of valid fields in the given realm. The realm must be passed in as a string."
   ]
  },
  {
   "cell_type": "code",
   "execution_count": null,
   "metadata": {
    "tags": []
   },
   "outputs": [],
   "source": [
    "with dw:\n",
    "    raw_fields = dw.describe_raw_fields('SUPREMM')\n",
    "display_df_md_table(raw_fields)"
   ]
  },
  {
   "cell_type": "markdown",
   "metadata": {},
   "source": [
    "### Filters\n",
    "**Filters** allow you to include only data that have certain values for given **dimensions**, which are groupings of data. You can use the `describe_dimensions(realm)` method to get a DataFrame containing the list of valid dimensions in the given realm. The realm must be passed in as a string and can be either the ID or the label of the realm."
   ]
  },
  {
   "cell_type": "code",
   "execution_count": null,
   "metadata": {
    "tags": []
   },
   "outputs": [],
   "source": [
    "with dw:\n",
    "    dimensions = dw.describe_dimensions('SUPREMM')\n",
    "display_df_md_table(dimensions)"
   ]
  },
  {
   "cell_type": "markdown",
   "metadata": {},
   "source": [
    "You can use the `get_filter_values(realm, dimension)` method to get a DataFrame containing the list of valid filter values for the given dimension in the given realm. The realm and dimension must be passed in as strings."
   ]
  },
  {
   "cell_type": "code",
   "execution_count": null,
   "metadata": {
    "tags": []
   },
   "outputs": [],
   "source": [
    "with dw:\n",
    "    filter_values = dw.get_filter_values('SUPREMM', 'Resource') # 'resource' also works\n",
    "display_df_md_table(filter_values)"
   ]
  },
  {
   "cell_type": "markdown",
   "metadata": {},
   "source": [
    "For methods in the API that take filters as arguments, you must specify the filters as a dictionary in which the keys are dimensions (labels or IDs) and the values are string filter values (labels or IDs) or sequences of string filter values. For example, to return only data for which the field of science is Materials Engineering and the resource is either Bridges-2 RM or TACC Stampede2:"
   ]
  },
  {
   "cell_type": "code",
   "execution_count": null,
   "metadata": {
    "tags": []
   },
   "outputs": [],
   "source": [
    "with dw:\n",
    "    data = dw.get_raw_data(\n",
    "        duration=('2021-05-01', '2021-05-01'),\n",
    "        realm='SUPREMM',\n",
    "        filters={\n",
    "            'Field of Science': 'Materials Engineering', # 'fieldofscience': '177' also works\n",
    "            'Resource': ( # 'resource' also works\n",
    "                'Bridges 2 RM', # '2900' also works\n",
    "                'STAMPEDE2 TACC', # '2825' also works\n",
    "            ),\n",
    "        },\n",
    "        show_progress=True\n",
    "    )"
   ]
  },
  {
   "cell_type": "markdown",
   "metadata": {},
   "source": [
    "### Show progress\n",
    "Set the `show_progress` parameter to `True` to periodically print how many rows have been gotten so far. "
   ]
  },
  {
   "cell_type": "markdown",
   "metadata": {},
   "source": [
    "## Additional Examples\n",
    "For additional examples, please see the [xdmod-notebooks repository](https://github.com/ubccr/xdmod-notebooks)."
   ]
  }
 ],
 "metadata": {
  "kernelspec": {
   "display_name": "Python 3 (ipykernel)",
   "language": "python",
   "name": "python3"
  },
  "language_info": {
   "codemirror_mode": {
    "name": "ipython",
    "version": 3
   },
   "file_extension": ".py",
   "mimetype": "text/x-python",
   "name": "python",
   "nbconvert_exporter": "python",
   "pygments_lexer": "ipython3",
   "version": "3.10.9"
  }
 },
 "nbformat": 4,
 "nbformat_minor": 4
}
