{
 "cells": [
  {
   "cell_type": "markdown",
   "metadata": {
    "deletable": false,
    "editable": false
   },
   "source": [
    "# XDMoD API Usage Example\n",
    "\n",
    "The `xdmod` python module provides API access to the data in XDMoD. This notebook\n",
    "provides an introductory example showing the module usage.\n",
    "\n",
    "## Import packages\n",
    "The following imports the XDMoD datawarehouse access module and also some other\n",
    "modules that will be used in the example."
   ]
  },
  {
   "cell_type": "code",
   "execution_count": 17,
   "metadata": {
    "deletable": false,
    "editable": false
   },
   "outputs": [],
   "source": [
    "# import of the XDMoD API\n",
    "import xdmod.datawarehouse as xdw\n",
    "\n",
    "# system packages that are used in this example workbook\n",
    "import json\n",
    "import pandas as pd\n",
    "import matplotlib.pyplot as plt\n",
    "plt.rcParams['figure.figsize'] = [12, 8]\n",
    "from IPython.display import display, Markdown, JSON"
   ]
  },
  {
   "cell_type": "markdown",
   "metadata": {
    "deletable": false,
    "editable": false
   },
   "source": [
    "## Configuration\n",
    "\n",
    "To access the data in XDMoD you need to know the URL of the XDMoD instance. You will also need an API key or equivalent authentication information. In this prototype the API key is set to `None` which causes the python code to pull the authentication data from a shell environment variable."
   ]
  },
  {
   "cell_type": "code",
   "execution_count": 18,
   "metadata": {
    "deletable": false,
    "editable": false
   },
   "outputs": [],
   "source": [
    "XDMOD_URL = \"https://metrics-dev.ccr.buffalo.edu\"\n",
    "XDMOD_API_KEY = None"
   ]
  },
  {
   "cell_type": "markdown",
   "metadata": {
    "deletable": false,
    "editable": false
   },
   "source": [
    "## Query XDMoD - data exploration\n",
    "\n",
    "XDMoD data is accessed over a network connection. The `DataWareHouse` _context manager_ is used to manage the connection. The resultant context provides functions that return information about what data are available."
   ]
  },
  {
   "cell_type": "code",
   "execution_count": 22,
   "metadata": {
    "deletable": false,
    "editable": false
   },
   "outputs": [
    {
     "data": {
      "text/markdown": [
       "# List of available realms\n",
       " - Cloud\n",
       " - Jobs\n",
       " - OnDemand\n",
       " - PCPArchives\n",
       " - SUPREMM\n",
       " - Storage"
      ],
      "text/plain": [
       "<IPython.core.display.Markdown object>"
      ]
     },
     "metadata": {},
     "output_type": "display_data"
    },
    {
     "data": {
      "text/markdown": [
       "# Dimensions for the OnDemand realm\n",
       "| id | Description |\n",
       "|:---|:----|\n",
       "|none | None: Summarizes OnDemand data reported to the Center for Computational Research database.|\n",
       "|browser | Browser: The web browser that was used to access On Demand. This value is obtained from the user-agent string supplied by the browser|\n",
       "|location | Location: The location of the broweser that was used to access On Demand. This value is inferred from the IP address in the server logs.|\n",
       "|oodapplication | OnDemand Application: The Open OnDemand application that was accessed.|\n",
       "|ooduser | OnDemand Username: The OnDemand username.|\n",
       "|operatingsys | Operating System: The operating system that was used to access On Demand. This value is obtained from the user-agent string supplied by the browser|\n",
       "|resource | Resource: A resource is a remote computer that can run jobs.|\n",
       "|person | User: A person who is on a PIs allocation, hence able run jobs on resources.|\n"
      ],
      "text/plain": [
       "<IPython.core.display.Markdown object>"
      ]
     },
     "metadata": {},
     "output_type": "display_data"
    },
    {
     "data": {
      "text/markdown": [
       "# Metrics for the OnDemand realm\n",
       "| id | Description |\n",
       "|:---|:----|\n",
       "|app_count | Number of Apps: Active: The total number of apps used.|\n",
       "|page_load_count | Number of Page Loads: The total number of page loads.|\n",
       "|session_count | Number of Sessions: The total number of sessions. Where a session is defined as one user visit to an app from a distinct IP address per day.|\n",
       "|sessions_per_user | Number of Sessions: Per User: The total number of sessions per user. Where a session is defined as one user visit to an app from a distinct IP address per day.|\n",
       "|user_count | Number of Users: Active: The total number of users that used Open OnDemand.|\n"
      ],
      "text/plain": [
       "<IPython.core.display.Markdown object>"
      ]
     },
     "metadata": {},
     "output_type": "display_data"
    }
   ],
   "source": [
    "with xdw.DataWareHouse(XDMOD_URL, XDMOD_API_KEY) as x:\n",
    "    realms = x.realms()\n",
    "    ood_dimensions = x.dimensions('OnDemand')\n",
    "    ood_metrics = x.metrics('OnDemand')\n",
    "\n",
    "# pretty print the various data objects\n",
    "display(Markdown('# List of available realms\\n - ' + \"\\n - \".join(realms)))\n",
    "display(Markdown('# Dimensions for the OnDemand realm\\n| id | Description |\\n|:---|:----|\\n|' +\n",
    "                 \"|\\n|\".join([str(ident) + \" | \" + str(desc) for ident, desc in ood_dimensions]) + '|\\n'))\n",
    "display(Markdown('# Metrics for the OnDemand realm\\n| id | Description |\\n|:---|:----|\\n|' +\n",
    "                 \"|\\n|\".join([str(ident) + \" | \" + str(desc) for ident, desc in ood_metrics]) + '|\\n'))"
   ]
  },
  {
   "cell_type": "markdown",
   "metadata": {},
   "source": [
    "## Query XDMoD - timeseries data\n",
    "\n",
    "Typically you would use python's `with` statement to wrap the execution of XDMoD queries, store the result and execute any long running calculations outside of the `with` statement.\n",
    "\n",
    "The following code uses the `timeseries` function to get a pandas dataframe that contains the number of users per day that used Open OnDemand over a 4 month period."
   ]
  },
  {
   "cell_type": "code",
   "execution_count": 23,
   "metadata": {
    "deletable": false,
    "editable": false
   },
   "outputs": [
    {
     "data": {
      "text/markdown": [
       "**The ondemandusage object has type:** `<class 'pandas.core.frame.DataFrame'>`"
      ],
      "text/plain": [
       "<IPython.core.display.Markdown object>"
      ]
     },
     "metadata": {},
     "output_type": "display_data"
    }
   ],
   "source": [
    "# Use the python API to get timeseries usage data from the OnDemand data realm in XDMoD\n",
    "with xdw.DataWareHouse(XDMOD_URL, XDMOD_API_KEY) as x:\n",
    "    ondemandusage = x.timeseries(start = '2021-01-17', end = '2021-05-17', \n",
    "                              realm='OnDemand', metric='user_count', dimension='none')\n",
    "\n",
    "display(Markdown(\"**The ondemandusage object has type:** `\" + str(type(ondemandusage)) + \"`\"))"
   ]
  },
  {
   "cell_type": "markdown",
   "metadata": {},
   "source": [
    "Now we have the data in a python object we can use any python data analysis tools to manipulate or display the data."
   ]
  },
  {
   "cell_type": "code",
   "execution_count": 24,
   "metadata": {
    "deletable": false,
    "editable": false
   },
   "outputs": [
    {
     "data": {
      "text/plain": [
       "Text(0.5, 0.98, '')"
      ]
     },
     "execution_count": 24,
     "metadata": {},
     "output_type": "execute_result"
    },
    {
     "data": {
      "image/png": "[encoded data removed]",
      "text/plain": [
       "<Figure size 864x576 with 1 Axes>"
      ]
     },
     "metadata": {
      "needs_background": "light"
     },
     "output_type": "display_data"
    }
   ],
   "source": [
    "# Add a Day name column\n",
    "ondemandusage['Weekday Name'] = ondemandusage.index.strftime(\"%w\\n%a\")\n",
    "\n",
    "# Show a box plot of the data grouped by day of the week\n",
    "ax = ondemandusage.boxplot(by=\"Weekday Name\")\n",
    "ax.set_ylabel('Number of Active Users')\n",
    "plt.suptitle('')"
   ]
  },
  {
   "cell_type": "code",
   "execution_count": null,
   "metadata": {},
   "outputs": [],
   "source": []
  }
 ],
 "metadata": {
  "kernelspec": {
   "display_name": "Python 3 (ipykernel)",
   "language": "python",
   "name": "python3"
  },
  "language_info": {
   "codemirror_mode": {
    "name": "ipython",
    "version": 3
   },
   "file_extension": ".py",
   "mimetype": "text/x-python",
   "name": "python",
   "nbconvert_exporter": "python",
   "pygments_lexer": "ipython3",
   "version": "3.9.12"
  }
 },
 "nbformat": 4,
 "nbformat_minor": 4
}
