{
 "cells": [
  {
   "cell_type": "markdown",
   "metadata": {
    "tags": []
   },
   "source": [
    "# XDMoD Python API Raw Data Example\n",
    "University at Buffalo — Center for Computational Research"
   ]
  },
  {
   "cell_type": "markdown",
   "metadata": {
    "tags": []
   },
   "source": [
    "## Introduction\n",
    "The `xdmod` Python module provides API access to the data in XDMoD. This notebook shows an example of how to use the `get_raw_data()` method to obtain and process individual records. In this example, you will obtain job performance data, which is contained in the `SUPREMM` realm in XDMoD, and use the data to train a machine learning model."
   ]
  },
  {
   "cell_type": "markdown",
   "metadata": {
    "tags": []
   },
   "source": [
    "## Configure IPython notebook formatting"
   ]
  },
  {
   "cell_type": "markdown",
   "metadata": {
    "tags": []
   },
   "source": [
    "### Exceptions\n",
    "Run the code below to simplify what is displayed if there are any exceptions while running code in this notebook."
   ]
  },
  {
   "cell_type": "code",
   "execution_count": 1,
   "metadata": {},
   "outputs": [],
   "source": [
    "import sys\n",
    "def exception_handler(exception_type, exception, traceback):\n",
    "    print(\"%s: %s\" % (exception_type.__name__, exception), file=sys.stderr)\n",
    "get_ipython()._showtraceback = exception_handler"
   ]
  },
  {
   "cell_type": "markdown",
   "metadata": {},
   "source": [
    "### Tables\n",
    "Run the code below to set up for displaying Pandas DataFrames as Markdown tables in this notebook."
   ]
  },
  {
   "cell_type": "code",
   "execution_count": 1,
   "metadata": {
    "tags": []
   },
   "outputs": [],
   "source": [
    "from IPython.display import display, Markdown\n",
    "def display_df_md_table(df):\n",
    "    return display(Markdown(df.replace('\\n', '<br/>', regex=True).to_markdown()))"
   ]
  },
  {
   "cell_type": "markdown",
   "metadata": {},
   "source": [
    "### Plots\n",
    "Run the code below to set up the external Plotly library to make plots using a custom XDMoD theme."
   ]
  },
  {
   "cell_type": "code",
   "execution_count": 1,
   "metadata": {
    "tags": []
   },
   "outputs": [],
   "source": [
    "import plotly.express as px\n",
    "import plotly.io as pio\n",
    "import xdmod.themes\n",
    "pio.templates.default = \"timeseries\""
   ]
  },
  {
   "cell_type": "markdown",
   "metadata": {},
   "source": [
    "## Obtain an API token\n",
    "Follow [these instructions]() to obtain an API token."
   ]
  },
  {
   "cell_type": "markdown",
   "metadata": {},
   "source": [
    "## Create an environment file\n",
    "The `xdmod.env` file will store your XDMoD API token.\n",
    "\n",
    "Run the code below to create the file in your Jupyter home directory (if it does not already exist) and allow only you to read and write to it."
   ]
  },
  {
   "cell_type": "code",
   "execution_count": 1,
   "metadata": {
    "tags": []
   },
   "outputs": [],
   "source": [
    "from pathlib import Path\n",
    "path = Path('/home/jovyan/xdmod.env')\n",
    "path.touch()\n",
    "path.chmod(0o600)"
   ]
  },
  {
   "cell_type": "markdown",
   "metadata": {},
   "source": [
    "## Store your API token in the environment file"
   ]
  },
  {
   "cell_type": "markdown",
   "metadata": {},
   "source": [
    "Open the `xdmod.env` file and add the line `XDMOD_API_TOKEN=foo` to it, replacing the string `foo` with your token obtained from the XDMoD portal. Save the file."
   ]
  },
  {
   "cell_type": "markdown",
   "metadata": {
    "tags": []
   },
   "source": [
    "## Load your XDMoD API token into the environment\n",
    "Run the code below to use the external `dotenv` module to load the contents of the `xdmod.env` file into the environment."
   ]
  },
  {
   "cell_type": "code",
   "execution_count": 1,
   "metadata": {
    "tags": []
   },
   "outputs": [],
   "source": [
    "%reload_ext dotenv\n",
    "%dotenv /home/jovyan/xdmod.env"
   ]
  },
  {
   "cell_type": "markdown",
   "metadata": {},
   "source": [
    "## Initialize the XDMoD Data Warehouse\n",
    "Run the code below to set up for getting data from the XDMoD data warehouse at the given URL."
   ]
  },
  {
   "cell_type": "code",
   "execution_count": 1,
   "metadata": {},
   "outputs": [],
   "source": [
    "from xdmod.datawarehouse import DataWarehouse\n",
    "dw = DataWarehouse(xdmod_host='https://xdmod-dev.ccr.xdmod.org:9001')"
   ]
  },
  {
   "cell_type": "markdown",
   "metadata": {
    "tags": []
   },
   "source": [
    "## Get the raw data\n",
    "\n",
    "Use the `get_raw_data()` method to query XDMoD and load the resulting raw data into a Pandas DataFrame. For example, get two days' worth of specific job performance data for Stampede2 and Bridges-2. Each of the parameters of the method will be explained later in this notebook. Use `with` to create a runtime context; this is also explained later in this notebook."
   ]
  },
  {
   "cell_type": "code",
   "execution_count": 1,
   "metadata": {
    "tags": []
   },
   "outputs": [
    {
     "name": "stdout",
     "output_type": "stream",
     "text": [
      "Got 35736 rows...DONE\n"
     ]
    }
   ],
   "source": [
    "with dw:\n",
    "    supremmjobs = dw.get_raw_data(\n",
    "        duration=('2021-05-01', '2021-05-02'),\n",
    "        realm='SUPREMM',\n",
    "        fields=(\n",
    "            'CPU User',\n",
    "            'Nodes',\n",
    "            'Wall Time',\n",
    "            'Wait Time',\n",
    "            'Requested Wall Time',\n",
    "            'Total memory used',\n",
    "            'Mount point \"home\" data written',\n",
    "            'Mount point \"scratch\" data written',\n",
    "        ),\n",
    "        filters={\n",
    "            'Resource': [\n",
    "                'STAMPEDE2 TACC',\n",
    "                'Bridges 2 RM',\n",
    "            ],\n",
    "        },\n",
    "        show_progress=True\n",
    "    )"
   ]
  },
  {
   "cell_type": "markdown",
   "metadata": {},
   "source": [
    "## Inspect the data"
   ]
  },
  {
   "cell_type": "code",
   "execution_count": 1,
   "metadata": {
    "tags": []
   },
   "outputs": [
    {
     "name": "stdout",
     "output_type": "stream",
     "text": [
      "<class 'pandas.core.frame.DataFrame'>\n"
     ]
    }
   ],
   "source": [
    "print(type(supremmjobs))"
   ]
  },
  {
   "cell_type": "code",
   "execution_count": 1,
   "metadata": {
    "tags": []
   },
   "outputs": [
    {
     "data": {
      "text/html": [
       "<div>\n",
       "<style scoped>\n",
       "    .dataframe tbody tr th:only-of-type {\n",
       "        vertical-align: middle;\n",
       "    }\n",
       "\n",
       "    .dataframe tbody tr th {\n",
       "        vertical-align: top;\n",
       "    }\n",
       "\n",
       "    .dataframe thead th {\n",
       "        text-align: right;\n",
       "    }\n",
       "</style>\n",
       "<table border=\"1\" class=\"dataframe\">\n",
       "  <thead>\n",
       "    <tr style=\"text-align: right;\">\n",
       "      <th></th>\n",
       "      <th>Nodes</th>\n",
       "      <th>Requested Wall Time</th>\n",
       "      <th>Wait Time</th>\n",
       "      <th>Wall Time</th>\n",
       "      <th>CPU User</th>\n",
       "      <th>Mount point \"home\" data written</th>\n",
       "      <th>Mount point \"scratch\" data written</th>\n",
       "      <th>Total memory used</th>\n",
       "    </tr>\n",
       "  </thead>\n",
       "  <tbody>\n",
       "    <tr>\n",
       "      <th>0</th>\n",
       "      <td>1</td>\n",
       "      <td>18000</td>\n",
       "      <td>2223</td>\n",
       "      <td>61</td>\n",
       "      <td>45.33680231265288</td>\n",
       "      <td>&lt;NA&gt;</td>\n",
       "      <td>&lt;NA&gt;</td>\n",
       "      <td>&lt;NA&gt;</td>\n",
       "    </tr>\n",
       "    <tr>\n",
       "      <th>1</th>\n",
       "      <td>1</td>\n",
       "      <td>3600</td>\n",
       "      <td>5602</td>\n",
       "      <td>1543</td>\n",
       "      <td>99.36066240441603</td>\n",
       "      <td>&lt;NA&gt;</td>\n",
       "      <td>&lt;NA&gt;</td>\n",
       "      <td>57124648082.28572</td>\n",
       "    </tr>\n",
       "    <tr>\n",
       "      <th>2</th>\n",
       "      <td>1</td>\n",
       "      <td>21600</td>\n",
       "      <td>107620</td>\n",
       "      <td>5976</td>\n",
       "      <td>5.880114964292324</td>\n",
       "      <td>&lt;NA&gt;</td>\n",
       "      <td>&lt;NA&gt;</td>\n",
       "      <td>168170816756.3046</td>\n",
       "    </tr>\n",
       "    <tr>\n",
       "      <th>3</th>\n",
       "      <td>2</td>\n",
       "      <td>86400</td>\n",
       "      <td>62768</td>\n",
       "      <td>29837</td>\n",
       "      <td>98.36955300852983</td>\n",
       "      <td>&lt;NA&gt;</td>\n",
       "      <td>&lt;NA&gt;</td>\n",
       "      <td>409481210204.9054</td>\n",
       "    </tr>\n",
       "    <tr>\n",
       "      <th>4</th>\n",
       "      <td>1</td>\n",
       "      <td>3600</td>\n",
       "      <td>5282</td>\n",
       "      <td>1906</td>\n",
       "      <td>98.67883597883598</td>\n",
       "      <td>&lt;NA&gt;</td>\n",
       "      <td>&lt;NA&gt;</td>\n",
       "      <td>118448399591.22581</td>\n",
       "    </tr>\n",
       "    <tr>\n",
       "      <th>...</th>\n",
       "      <td>...</td>\n",
       "      <td>...</td>\n",
       "      <td>...</td>\n",
       "      <td>...</td>\n",
       "      <td>...</td>\n",
       "      <td>...</td>\n",
       "      <td>...</td>\n",
       "      <td>...</td>\n",
       "    </tr>\n",
       "    <tr>\n",
       "      <th>35731</th>\n",
       "      <td>1</td>\n",
       "      <td>21600</td>\n",
       "      <td>279846</td>\n",
       "      <td>5904</td>\n",
       "      <td>5.888494319804227</td>\n",
       "      <td>&lt;NA&gt;</td>\n",
       "      <td>&lt;NA&gt;</td>\n",
       "      <td>263141275141.27835</td>\n",
       "    </tr>\n",
       "    <tr>\n",
       "      <th>35732</th>\n",
       "      <td>4</td>\n",
       "      <td>660</td>\n",
       "      <td>15</td>\n",
       "      <td>15</td>\n",
       "      <td>1.6348917522553061</td>\n",
       "      <td>395.28992589908404</td>\n",
       "      <td>0</td>\n",
       "      <td>149108855</td>\n",
       "    </tr>\n",
       "    <tr>\n",
       "      <th>35733</th>\n",
       "      <td>1</td>\n",
       "      <td>21600</td>\n",
       "      <td>279665</td>\n",
       "      <td>6098</td>\n",
       "      <td>5.9966003503148</td>\n",
       "      <td>&lt;NA&gt;</td>\n",
       "      <td>&lt;NA&gt;</td>\n",
       "      <td>122776391659.7228</td>\n",
       "    </tr>\n",
       "    <tr>\n",
       "      <th>35734</th>\n",
       "      <td>1</td>\n",
       "      <td>21600</td>\n",
       "      <td>279846</td>\n",
       "      <td>5917</td>\n",
       "      <td>5.9687171009043904</td>\n",
       "      <td>&lt;NA&gt;</td>\n",
       "      <td>&lt;NA&gt;</td>\n",
       "      <td>263236402842.91272</td>\n",
       "    </tr>\n",
       "    <tr>\n",
       "      <th>35735</th>\n",
       "      <td>1</td>\n",
       "      <td>21600</td>\n",
       "      <td>279881</td>\n",
       "      <td>5879</td>\n",
       "      <td>5.9119593886912725</td>\n",
       "      <td>&lt;NA&gt;</td>\n",
       "      <td>&lt;NA&gt;</td>\n",
       "      <td>264017909760</td>\n",
       "    </tr>\n",
       "  </tbody>\n",
       "</table>\n",
       "<p>35736 rows × 8 columns</p>\n",
       "</div>"
      ],
      "text/plain": [
       "      Nodes                              Requested Wall Time                  \n",
       "0                                      1                              18000  \\\n",
       "1                                      1                               3600   \n",
       "2                                      1                              21600   \n",
       "3                                      2                              86400   \n",
       "4                                      1                               3600   \n",
       "...                                  ...                                ...   \n",
       "35731                                  1                              21600   \n",
       "35732                                  4                                660   \n",
       "35733                                  1                              21600   \n",
       "35734                                  1                              21600   \n",
       "35735                                  1                              21600   \n",
       "\n",
       "      Wait Time                          Wall Time                            \n",
       "0                                   2223                                 61  \\\n",
       "1                                   5602                               1543   \n",
       "2                                 107620                               5976   \n",
       "3                                  62768                              29837   \n",
       "4                                   5282                               1906   \n",
       "...                                  ...                                ...   \n",
       "35731                             279846                               5904   \n",
       "35732                                 15                                 15   \n",
       "35733                             279665                               6098   \n",
       "35734                             279846                               5917   \n",
       "35735                             279881                               5879   \n",
       "\n",
       "      CPU User                           Mount point \"home\" data written      \n",
       "0                      45.33680231265288                               <NA>  \\\n",
       "1                      99.36066240441603                               <NA>   \n",
       "2                      5.880114964292324                               <NA>   \n",
       "3                      98.36955300852983                               <NA>   \n",
       "4                      98.67883597883598                               <NA>   \n",
       "...                                  ...                                ...   \n",
       "35731                  5.888494319804227                               <NA>   \n",
       "35732                 1.6348917522553061                 395.28992589908404   \n",
       "35733                    5.9966003503148                               <NA>   \n",
       "35734                 5.9687171009043904                               <NA>   \n",
       "35735                 5.9119593886912725                               <NA>   \n",
       "\n",
       "      Mount point \"scratch\" data written Total memory used                   \n",
       "0                                   <NA>                               <NA>  \n",
       "1                                   <NA>                  57124648082.28572  \n",
       "2                                   <NA>                  168170816756.3046  \n",
       "3                                   <NA>                  409481210204.9054  \n",
       "4                                   <NA>                 118448399591.22581  \n",
       "...                                  ...                                ...  \n",
       "35731                               <NA>                 263141275141.27835  \n",
       "35732                                  0                          149108855  \n",
       "35733                               <NA>                  122776391659.7228  \n",
       "35734                               <NA>                 263236402842.91272  \n",
       "35735                               <NA>                       264017909760  \n",
       "\n",
       "[35736 rows x 8 columns]"
      ]
     },
     "metadata": {},
     "output_type": "display_data"
    }
   ],
   "source": [
    "display(supremmjobs)"
   ]
  },
  {
   "cell_type": "markdown",
   "metadata": {},
   "source": [
    "## Prepare data for training\n",
    "\n",
    "Looking at the summary table, there are some records that have `NaN` values. This is not unusal and is typically because the data were not collected (insufficient data points, errors in the data collection, etc.).\n",
    "\n",
    "To prepare for training, filter out the jobs that have no filesystem data:"
   ]
  },
  {
   "cell_type": "code",
   "execution_count": 1,
   "metadata": {
    "tags": []
   },
   "outputs": [],
   "source": [
    "supremmjobs = supremmjobs[supremmjobs['Mount point \"scratch\" data written'].notna()]"
   ]
  },
  {
   "cell_type": "markdown",
   "metadata": {},
   "source": [
    "Set the data type of the columns to 64-bit floating-point:"
   ]
  },
  {
   "cell_type": "code",
   "execution_count": 1,
   "metadata": {
    "tags": []
   },
   "outputs": [],
   "source": [
    "import numpy as np\n",
    "supremmjobs = supremmjobs.astype(np.float64)"
   ]
  },
  {
   "cell_type": "markdown",
   "metadata": {},
   "source": [
    "Use [scikit-learn](https://scikit-learn.org/) to split the jobs into a training set and test set:"
   ]
  },
  {
   "cell_type": "code",
   "execution_count": 1,
   "metadata": {
    "tags": []
   },
   "outputs": [
    {
     "data": {
      "text/markdown": [
       "Size of the test subset is **997**."
      ],
      "text/plain": [
       "<IPython.core.display.Markdown object>"
      ]
     },
     "metadata": {},
     "output_type": "display_data"
    },
    {
     "data": {
      "text/markdown": [
       "Size of the training subset is **8966**."
      ],
      "text/plain": [
       "<IPython.core.display.Markdown object>"
      ]
     },
     "metadata": {},
     "output_type": "display_data"
    }
   ],
   "source": [
    "from sklearn.model_selection import train_test_split\n",
    "X = supremmjobs[[\n",
    "    'Nodes',\n",
    "    'Wall Time',\n",
    "    'Wait Time',\n",
    "    'Requested Wall Time',\n",
    "    'Total memory used',\n",
    "    'Mount point \"home\" data written',\n",
    "    'Mount point \"scratch\" data written',\n",
    "]]\n",
    "y = supremmjobs['CPU User']\n",
    "X_train, X_test, y_train, y_test = train_test_split(X, y, test_size=0.10)\n",
    "display(Markdown(\"Size of the test subset is **\" + str(len(X_test)) + \"**.\"))\n",
    "display(Markdown(\"Size of the training subset is **\" + str(len(X_train)) + \"**.\"))"
   ]
  },
  {
   "cell_type": "markdown",
   "metadata": {},
   "source": [
    "## Generate a Random Forest Regression model\n",
    "\n",
    "Using the tools from `scikit-learn`, build a Random Forest Regression model."
   ]
  },
  {
   "cell_type": "code",
   "execution_count": 1,
   "metadata": {
    "tags": []
   },
   "outputs": [
    {
     "data": {
      "text/html": [
       "<style>#sk-container-id-1 {color: black;background-color: white;}#sk-container-id-1 pre{padding: 0;}#sk-container-id-1 div.sk-toggleable {background-color: white;}#sk-container-id-1 label.sk-toggleable__label {cursor: pointer;display: block;width: 100%;margin-bottom: 0;padding: 0.3em;box-sizing: border-box;text-align: center;}#sk-container-id-1 label.sk-toggleable__label-arrow:before {content: \"▸\";float: left;margin-right: 0.25em;color: #696969;}#sk-container-id-1 label.sk-toggleable__label-arrow:hover:before {color: black;}#sk-container-id-1 div.sk-estimator:hover label.sk-toggleable__label-arrow:before {color: black;}#sk-container-id-1 div.sk-toggleable__content {max-height: 0;max-width: 0;overflow: hidden;text-align: left;background-color: #f0f8ff;}#sk-container-id-1 div.sk-toggleable__content pre {margin: 0.2em;color: black;border-radius: 0.25em;background-color: #f0f8ff;}#sk-container-id-1 input.sk-toggleable__control:checked~div.sk-toggleable__content {max-height: 200px;max-width: 100%;overflow: auto;}#sk-container-id-1 input.sk-toggleable__control:checked~label.sk-toggleable__label-arrow:before {content: \"▾\";}#sk-container-id-1 div.sk-estimator input.sk-toggleable__control:checked~label.sk-toggleable__label {background-color: #d4ebff;}#sk-container-id-1 div.sk-label input.sk-toggleable__control:checked~label.sk-toggleable__label {background-color: #d4ebff;}#sk-container-id-1 input.sk-hidden--visually {border: 0;clip: rect(1px 1px 1px 1px);clip: rect(1px, 1px, 1px, 1px);height: 1px;margin: -1px;overflow: hidden;padding: 0;position: absolute;width: 1px;}#sk-container-id-1 div.sk-estimator {font-family: monospace;background-color: #f0f8ff;border: 1px dotted black;border-radius: 0.25em;box-sizing: border-box;margin-bottom: 0.5em;}#sk-container-id-1 div.sk-estimator:hover {background-color: #d4ebff;}#sk-container-id-1 div.sk-parallel-item::after {content: \"\";width: 100%;border-bottom: 1px solid gray;flex-grow: 1;}#sk-container-id-1 div.sk-label:hover label.sk-toggleable__label {background-color: #d4ebff;}#sk-container-id-1 div.sk-serial::before {content: \"\";position: absolute;border-left: 1px solid gray;box-sizing: border-box;top: 0;bottom: 0;left: 50%;z-index: 0;}#sk-container-id-1 div.sk-serial {display: flex;flex-direction: column;align-items: center;background-color: white;padding-right: 0.2em;padding-left: 0.2em;position: relative;}#sk-container-id-1 div.sk-item {position: relative;z-index: 1;}#sk-container-id-1 div.sk-parallel {display: flex;align-items: stretch;justify-content: center;background-color: white;position: relative;}#sk-container-id-1 div.sk-item::before, #sk-container-id-1 div.sk-parallel-item::before {content: \"\";position: absolute;border-left: 1px solid gray;box-sizing: border-box;top: 0;bottom: 0;left: 50%;z-index: -1;}#sk-container-id-1 div.sk-parallel-item {display: flex;flex-direction: column;z-index: 1;position: relative;background-color: white;}#sk-container-id-1 div.sk-parallel-item:first-child::after {align-self: flex-end;width: 50%;}#sk-container-id-1 div.sk-parallel-item:last-child::after {align-self: flex-start;width: 50%;}#sk-container-id-1 div.sk-parallel-item:only-child::after {width: 0;}#sk-container-id-1 div.sk-dashed-wrapped {border: 1px dashed gray;margin: 0 0.4em 0.5em 0.4em;box-sizing: border-box;padding-bottom: 0.4em;background-color: white;}#sk-container-id-1 div.sk-label label {font-family: monospace;font-weight: bold;display: inline-block;line-height: 1.2em;}#sk-container-id-1 div.sk-label-container {text-align: center;}#sk-container-id-1 div.sk-container {/* jupyter's `normalize.less` sets `[hidden] { display: none; }` but bootstrap.min.css set `[hidden] { display: none !important; }` so we also need the `!important` here to be able to override the default hidden behavior on the sphinx rendered scikit-learn.org. See: https://github.com/scikit-learn/scikit-learn/issues/21755 */display: inline-block !important;position: relative;}#sk-container-id-1 div.sk-text-repr-fallback {display: none;}</style><div id=\"sk-container-id-1\" class=\"sk-top-container\"><div class=\"sk-text-repr-fallback\"><pre>RandomForestRegressor()</pre><b>In a Jupyter environment, please rerun this cell to show the HTML representation or trust the notebook. <br />On GitHub, the HTML representation is unable to render, please try loading this page with nbviewer.org.</b></div><div class=\"sk-container\" hidden><div class=\"sk-item\"><div class=\"sk-estimator sk-toggleable\"><input class=\"sk-toggleable__control sk-hidden--visually\" id=\"sk-estimator-id-1\" type=\"checkbox\" checked><label for=\"sk-estimator-id-1\" class=\"sk-toggleable__label sk-toggleable__label-arrow\">RandomForestRegressor</label><div class=\"sk-toggleable__content\"><pre>RandomForestRegressor()</pre></div></div></div></div></div>"
      ],
      "text/plain": [
       "RandomForestRegressor()"
      ]
     },
     "execution_count": 1,
     "metadata": {},
     "output_type": "execute_result"
    }
   ],
   "source": [
    "from sklearn.ensemble import RandomForestRegressor\n",
    "from sklearn.metrics import r2_score, mean_squared_error\n",
    "import seaborn as sns\n",
    "\n",
    "RandomForestRegModel = RandomForestRegressor()\n",
    "RandomForestRegModel.fit(X_train, y_train)"
   ]
  },
  {
   "cell_type": "markdown",
   "metadata": {},
   "source": [
    "## Compute feature importances"
   ]
  },
  {
   "cell_type": "code",
   "execution_count": 1,
   "metadata": {
    "tags": []
   },
   "outputs": [
    {
     "data": {
      "text/markdown": [
       "|Feature Name | Importance |\n",
       "|-------|:----|\n",
       "|Mount point \"home\" data written|0.3848|\n",
       "|Requested Wall Time|0.2395|\n",
       "|Wall Time|0.1022|\n",
       "|Mount point \"scratch\" data written|0.0924|\n",
       "|Wait Time|0.06914|\n",
       "|Total memory used|0.05798|\n",
       "|Nodes|0.05393|\n"
      ],
      "text/plain": [
       "<IPython.core.display.Markdown object>"
      ]
     },
     "metadata": {},
     "output_type": "display_data"
    }
   ],
   "source": [
    "import numpy as np\n",
    "importances = RandomForestRegModel.feature_importances_\n",
    "std = np.std(\n",
    "    [tree.feature_importances_ for tree in RandomForestRegModel.estimators_],\n",
    "    axis=0,\n",
    ")\n",
    "indices = np.argsort(importances)[::-1]\n",
    "# Calculate feature importances\n",
    "importances = RandomForestRegModel.feature_importances_\n",
    "# Sort feature importances in descending order\n",
    "indices = np.argsort(importances)[::-1]\n",
    "# Rearrange feature names so they match the sorted feature importances\n",
    "names = [X_train.columns[i] for i in indices]\n",
    "md = \"|Feature Name | Importance |\\n|-------|:----|\\n\"\n",
    "for i in indices:\n",
    "    md += \"|{}|{:1.4}|\\n\".format(names[i], importances[i])\n",
    "display(Markdown(md))"
   ]
  },
  {
   "cell_type": "code",
   "execution_count": 1,
   "metadata": {
    "tags": []
   },
   "outputs": [
    {
     "name": "stdout",
     "output_type": "stream",
     "text": [
      "Training data r_squared: 0.9886\n",
      "Test data r_squared: 0.9156\n"
     ]
    },
    {
     "data": {
      "image/png": "[encoded data removed]",
      "text/plain": [
       "<Figure size 640x480 with 1 Axes>"
      ]
     },
     "metadata": {},
     "output_type": "display_data"
    }
   ],
   "source": [
    "X_train_predict = RandomForestRegModel.predict(X_train)\n",
    "print(\"Training data r_squared:\", round(r2_score(X_train_predict, y_train), 4))\n",
    "X_test_predict = RandomForestRegModel.predict(X_test)\n",
    "print(\"Test data r_squared:\", round(r2_score(X_test_predict, y_test), 4))\n",
    "# Make scatter plot of CPU-user: model vs. actual\n",
    "import matplotlib.pyplot as plt\n",
    "plt.scatter(y_test, X_test_predict)\n",
    "plt.ylabel('Model Prediction')\n",
    "plt.xlabel('Actual Value')\n",
    "plt.title('CPU-user Random Forest Model Test Data')\n",
    "point1 = [0, 0]\n",
    "point2 = [1, 1]\n",
    "x_values = [point1[0], point2[0]]\n",
    "y_values = [point1[1], point2[1]]\n",
    "plt.plot(x_values, y_values, 'r')\n",
    "plt.show()"
   ]
  },
  {
   "cell_type": "markdown",
   "metadata": {},
   "source": [
    "## Details of the `get_raw_data()` method\n",
    "Now that you have seen an example of using the `get_raw_data()` method, read below for more details on how it works."
   ]
  },
  {
   "cell_type": "markdown",
   "metadata": {},
   "source": [
    "### Wrap data warehouse calls in a runtime context\n",
    "XDMoD data is accessed over a network connection, which involves establishing connections and creating temporary resources. To ensure these connections and resources are cleaned up properly in spite of any runtime errors, you should call data warehouse methods within a **runtime context** by using Python's `with` statement to wrap the execution of XDMoD queries, store the result, and execute any long running calculations outside of the runtime context, as in the template below."
   ]
  },
  {
   "cell_type": "code",
   "execution_count": 1,
   "metadata": {
    "tags": []
   },
   "outputs": [],
   "source": [
    "with dw:\n",
    "    # XDMoD queries would go here\n",
    "    pass\n",
    "# Data processing would go here\n",
    "pass"
   ]
  },
  {
   "cell_type": "markdown",
   "metadata": {},
   "source": [
    "### Parameters\n",
    "The `get_raw_data()` method has a number of parameters explained in detail below."
   ]
  },
  {
   "cell_type": "markdown",
   "metadata": {},
   "source": [
    "### Duration\n",
    "The **duration** provides the time constraints of the data to be fetched from the XDMoD data warehouse. You can get a list of valid durations by calling the `get_durations()` method."
   ]
  },
  {
   "cell_type": "code",
   "execution_count": 1,
   "metadata": {
    "tags": []
   },
   "outputs": [
    {
     "name": "stdout",
     "output_type": "stream",
     "text": [
      "('Yesterday', '7 day', '30 day', '90 day', 'Month to date', 'Previous month', 'Quarter to date', 'Previous quarter', 'Year to date', 'Previous year', '1 year', '2 year', '3 year', '5 year', '10 year', '2023', '2022', '2021', '2020', '2019', '2018', '2017')\n"
     ]
    }
   ],
   "source": [
    "with dw:\n",
    "    print(dw.get_durations())"
   ]
  },
  {
   "cell_type": "markdown",
   "metadata": {},
   "source": [
    "The duration can instead be specified as start and end dates:"
   ]
  },
  {
   "cell_type": "code",
   "execution_count": 1,
   "metadata": {
    "tags": []
   },
   "outputs": [],
   "source": [
    "with dw:\n",
    "    data = dw.get_raw_data(\n",
    "        duration=('2022-01-01', '2022-01-01'),\n",
    "        realm='SUPREMM'\n",
    "    )"
   ]
  },
  {
   "cell_type": "markdown",
   "metadata": {},
   "source": [
    "### Realm\n",
    "A **realm** is a category of data in the XDMoD data warehouse. You can use the `get_raw_realms()` method to get a DataFrame containing the set of realms for which raw data is available."
   ]
  },
  {
   "cell_type": "code",
   "execution_count": 1,
   "metadata": {
    "tags": []
   },
   "outputs": [
    {
     "data": {
      "text/markdown": [
       "| id                  | label                |\n",
       "|:--------------------|:---------------------|\n",
       "| Jobs                | Jobs                 |\n",
       "| Cloud               | Cloud                |\n",
       "| Accounts            | Accounts             |\n",
       "| ResourceAllocations | Resource Allocations |\n",
       "| Allocations         | Allocations          |\n",
       "| SUPREMM             | SUPREMM              |"
      ],
      "text/plain": [
       "<IPython.core.display.Markdown object>"
      ]
     },
     "metadata": {},
     "output_type": "display_data"
    }
   ],
   "source": [
    "with dw:\n",
    "    display_df_md_table(dw.get_raw_realms())"
   ]
  },
  {
   "cell_type": "markdown",
   "metadata": {},
   "source": [
    "### Fields\n",
    "A **field** is a measurement for which raw data exists in a given realm. You can use the `get_raw_fields(realm)` method to get a DataFrame containing the set of valid fields in the given realm. The realm must be passed in as a string."
   ]
  },
  {
   "cell_type": "code",
   "execution_count": 1,
   "metadata": {
    "tags": []
   },
   "outputs": [
    {
     "data": {
      "text/markdown": [
       "| id                               | label                                            | description                                                                                                                                                                                      |\n",
       "|:---------------------------------|:-------------------------------------------------|:-------------------------------------------------------------------------------------------------------------------------------------------------------------------------------------------------|\n",
       "| local_job_id                     | Local Job Id                                     | The unique identifier assigned to the job by the job scheduler.                                                                                                                                  |\n",
       "| username                         | System Username (Deidentified)                   | The username on the resource of the user that ran the job. May be a UID or string username depending on the resource.                                                                            |\n",
       "| shared                           | Shared                                           | Whether the job ran on a node that ran at least one other job.                                                                                                                                   |\n",
       "| cores                            | Cores                                            | The total number of cores assigned to the job.                                                                                                                                                   |\n",
       "| gpu_count                        | Gpu Count                                        | The total number of GPUs assigned to the job.                                                                                                                                                    |\n",
       "| nodes                            | Nodes                                            | The number of nodes that were assigned to the job.                                                                                                                                               |\n",
       "| cores_avail                      | Total Cores Available                            | Total number of cores present on the nodes on which the job ran.                                                                                                                                 |\n",
       "| cpu_time                         | Cpu Time                                         | The total CPU core time. This value is calculated as number of assigned cores multiplied by duration if not provided by the scheduler.                                                           |\n",
       "| gpu_time                         | Gpu Time                                         | The total GPU time. This value is calculated as number of assigned GPUs multiplied by duration.                                                                                                  |\n",
       "| node_time                        | Node Time                                        | Total node time. This value is calculated as number of assigned nodes multiplied by duration if not provided by the scheduler.                                                                   |\n",
       "| requested_nodes                  | Requested Nodes                                  | The number of nodes requested at job submission time. This value will be zero if the user did not specify the number of required nodes or if this information is not provided for the resource.  |\n",
       "| requested_wall_time              | Requested Wall Time                              | The requested job duration.                                                                                                                                                                      |\n",
       "| queue_id                         | Queue                                            | The name of the queue to which the job was submitted.                                                                                                                                            |\n",
       "| wait_time                        | Wait Time                                        | The amount of time between job submit and job start.                                                                                                                                             |\n",
       "| wall_time                        | Wall Time                                        | The wall-clock duration of the job.                                                                                                                                                              |\n",
       "| eligible_time_ts                 | Eligible Time (Timestamp)                        | The time that the job was ready to be run by the scheduler.                                                                                                                                      |\n",
       "| end_time_ts                      | End Time (Timestamp)                             | The time that the job ended.                                                                                                                                                                     |\n",
       "| start_time_ts                    | Start Time (Timestamp)                           | The time that the job started running.                                                                                                                                                           |\n",
       "| submit_time_ts                   | Submit Time (Timestamp)                          | The time that the job was submitted to the job scheduler.                                                                                                                                        |\n",
       "| Organization                     | Organization                                     | The organization that owns the resource on which the job ran.                                                                                                                                    |\n",
       "| Resource                         | Resource                                         | The resource that ran the job.                                                                                                                                                                   |\n",
       "| Field of Science                 | Field of Science                                 | The field of science indicated on the allocation request pertaining to the running jobs.                                                                                                         |\n",
       "| PI                               | PI                                               | The PI of the job owner.                                                                                                                                                                         |\n",
       "| Timezone                         | Timezone                                         | The timezone of the resource.                                                                                                                                                                    |\n",
       "| User                             | User                                             | The name of the job owner.                                                                                                                                                                       |\n",
       "| User Institution                 | User Institution                                 | The name of the organization of the job owner.                                                                                                                                                   |\n",
       "| gpu_usage                        | GPU usage                                        | Average % utilization of the GPUs. The average is calculated as the mean value of the utilization reported by the GPU driver during the job.                                                     |\n",
       "| gpu0_nv_mem_used                 | GPU average memory usage                         | Average memory used by the GPUs. The average is calculated as the mean value of all measurements for all GPUs while the job was running. The memory usage value is obtained from the GPU driver. |\n",
       "| cpu_idle                         | CPU Idle                                         | The ratio of idle cpu time to total cpu time for the cores that the job was assigned.                                                                                                            |\n",
       "| cpu_system                       | CPU System                                       | The ratio of system cpu time to total cpu time for the cores that the job was assigned.                                                                                                          |\n",
       "| cpu_user                         | CPU User                                         | The ratio of user cpu time to total cpu time for the cores that the job was assigned.                                                                                                            |\n",
       "| flops                            | FLOPS                                            | The total number of floating point operations on average per core                                                                                                                                |\n",
       "| cpiref                           | CPI (ref)                                        | The number of cpu clock ticks per instruction on average per core.                                                                                                                               |\n",
       "| cpiref_cov                       | CPI (ref) cov                                    | Coefficient of variation of the average CPI for each core                                                                                                                                        |\n",
       "| cpldref                          | CPLD (ref)                                       | The ratio of clock ticks to L1D cache load on average per core. The CPLD is calculated using the reference processor clock.                                                                      |\n",
       "| cpldref_cov                      | CPLD (ref) cov                                   | Coefficient of variation of the average CPLD for each core                                                                                                                                       |\n",
       "| cpu_user_cv                      | CPU User cov                                     | Coefficient of variation for the CPU user for all cores that were assigned to the job.                                                                                                           |\n",
       "| flops_cov                        | FLOPS cov                                        | Coefficient of variation of the average FLOPS for each core                                                                                                                                      |\n",
       "| block_sda_rd_bytes               | Block device \"sda\" data read                     | The average amount of data read per node from block device sda.                                                                                                                                  |\n",
       "| block_sda_wr_bytes               | Block device \"sda\" data written                  | The average number of bytes written per node to block device sda.                                                                                                                                |\n",
       "| netdir_home_read                 | Mount point \"home\" data read                     | Average number of bytes per node read from filesystem device home                                                                                                                                |\n",
       "| netdir_home_write                | Mount point \"home\" data written                  | The average number of bytes written per node to mount point home.                                                                                                                                |\n",
       "| netdir_scratch_read              | Mount point \"scratch\" data read                  | Average number of bytes per node read from filesystem device scratch                                                                                                                             |\n",
       "| netdir_scratch_write             | Mount point \"scratch\" data written               | The average number of bytes written per node to mount point scratch.                                                                                                                             |\n",
       "| netdir_work_read                 | Mount point \"work\" data read                     | Average number of bytes per node read from filesystem device work                                                                                                                                |\n",
       "| netdir_work_write                | Mount point \"work\" data written                  | The average number of bytes written per node to mount point work.                                                                                                                                |\n",
       "| block_sda_rd_ios                 | Block device \"sda\" read operations               | The average number of read operations per node for block device sda.                                                                                                                             |\n",
       "| block_sda_wr_ios                 | Block device \"sda\" write operations              | The average number of write operations per node for block device sda.                                                                                                                            |\n",
       "| block_sda_rd_bytes_cov           | Block device \"sda\" data read cov                 | Coefficient of variation of the average data read from block device sda                                                                                                                          |\n",
       "| block_sda_wr_bytes_cov           | Block device \"sda\" data written cov              | Coefficient of variation of the average data written to block device sda                                                                                                                         |\n",
       "| netdir_home_write_cov            | Mount point \"home\" data written cov              | Coefficient of variation of the average bytes written to the home filesystem                                                                                                                     |\n",
       "| netdir_scratch_write_cov         | Mount point \"scratch\" data written cov           | Coefficient of variation of the average bytes written to the scratch filesystem                                                                                                                  |\n",
       "| netdir_work_write_cov            | Mount point \"work\" data written cov              | Coefficient of variation of the average bytes written to the work filesystem                                                                                                                     |\n",
       "| mem_transferred                  | Memory Transferred                               | total data transferred over the memory bus                                                                                                                                                       |\n",
       "| mem_used_including_os_caches     | Total memory used                                | Total memory used by the OS including the page and buffer caches. This is the sum of all the memory used on all of the nodes.                                                                    |\n",
       "| mem_transferred_cov              | Memory Transferred cov                           | Coefficient of variation of the average memory transferred for each socket                                                                                                                       |\n",
       "| memory_used_cov                  | Memory Used Cov                                  | Coefficient of variation of the average memory used                                                                                                                                              |\n",
       "| max_memory                       | Peak Memory Usage Ratio                          | Maximum ratio of memory used to total memory available for the compute node with the highest peak memory usage                                                                                   |\n",
       "| mem_used_including_os_caches_cov | Total memory used cov                            | Coefficient of variation of the average memory in use by the OS                                                                                                                                  |\n",
       "| ib_rx_bytes                      | Ib Rx Bytes                                      | number of bytes received per node over the data interconnect                                                                                                                                     |\n",
       "| net_eth0_rx                      | Net Eth0 Rx                                      | number of bytes received by network via network interface eth0 averaged across nodes                                                                                                             |\n",
       "| net_eth0_tx                      | Net Eth0 Tx                                      | number of bytes transmitted by network via network interface eth0 averaged across nodes                                                                                                          |\n",
       "| net_ib0_rx                       | Net Ib0 Rx                                       | number of bytes received by network via network interface ib0 averaged across nodes                                                                                                              |\n",
       "| net_ib0_tx                       | Net Ib0 Tx                                       | number of bytes transmitted by network via network interface ib0 averaged across nodes                                                                                                           |\n",
       "| net_mic0_rx                      | Net Mic0 Rx                                      | number of bytes received by network via network interface mic0 averaged across nodes                                                                                                             |\n",
       "| net_mic0_tx                      | Net Mic0 Tx                                      | number of bytes transmitted by network via network interface mic0 averaged across nodes                                                                                                          |\n",
       "| net_mic1_rx                      | Net Mic1 Rx                                      | number of bytes received by network via network interface mic1 averaged across nodes                                                                                                             |\n",
       "| net_mic1_tx                      | Net Mic1 Tx                                      | number of bytes transmitted by network via network interface mic1 averaged across nodes                                                                                                          |\n",
       "| netdrv_lustre_rx                 | Parallel filesystem lustre bytes received        | total number of bytes received per node from the lustre filesystem.                                                                                                                              |\n",
       "| netdrv_lustre_tx                 | Parallel filesystem lustre bytes transmitted     | number of bytes transmitted by network drive lustre averaged across nodes.                                                                                                                       |\n",
       "| netdrv_lustre_rx_msgs            | Parallel filesystem lustre messages received     | number of messages received by network drive lustre averaged across nodes.                                                                                                                       |\n",
       "| netdrv_lustre_tx_msgs            | Parallel filesystem lustre messages transmitted  | number of messages transmitted by network drive lustre averaged across nodes.                                                                                                                    |\n",
       "| net_eth0_rx_packets              | Net Eth0 Rx Packets                              | number of packets received by network via network interface eth0 averaged across nodes                                                                                                           |\n",
       "| net_eth0_tx_packets              | Net Eth0 Tx Packets                              | number of packets transmitted by network via network interface eth0 averaged across nodes                                                                                                        |\n",
       "| net_ib0_rx_packets               | Net Ib0 Rx Packets                               | number of packets received by network via network interface ib0 averaged across nodes                                                                                                            |\n",
       "| net_ib0_tx_packets               | Net Ib0 Tx Packets                               | number of packets transmitted by network via network interface ib0 averaged across nodes                                                                                                         |\n",
       "| net_mic0_rx_packets              | Net Mic0 Rx Packets                              | number of packets received by network via network interface mic0 averaged across nodes                                                                                                           |\n",
       "| net_mic0_tx_packets              | Net Mic0 Tx Packets                              | number of packets transmitted by network via network interface mic0 averaged across nodes                                                                                                        |\n",
       "| net_mic1_rx_packets              | Net Mic1 Rx Packets                              | number of packets received by network via network interface mic1 averaged across nodes                                                                                                           |\n",
       "| net_mic1_tx_packets              | Net Mic1 Tx Packets                              | number of packets transmitted by network via network interface mic1 averaged across nodes                                                                                                        |\n",
       "| net_eth0_rx_cov                  | Net Eth0 Rx Cov                                  | Coefficient of variation of the average bytes received by the network device eth0 for each node.                                                                                                 |\n",
       "| net_eth0_tx_cov                  | Net Eth0 Tx Cov                                  | Coefficient of variation of the average bytes transmitted by the network device eth0 for each node.                                                                                              |\n",
       "| net_ib0_rx_cov                   | Net Ib0 Rx Cov                                   | Coefficient of variation of the average bytes received by the network device ib0 for each node.                                                                                                  |\n",
       "| net_ib0_tx_cov                   | Net Ib0 Tx Cov                                   | Coefficient of variation of the average bytes transmitted by the network device ib0 for each node.                                                                                               |\n",
       "| netdrv_lustre_tx_cov             | Parallel filesystem lustre bytes transmitted cov | Coefficient of variation of the average bytes written to the lustre parallel filesystem for each node.                                                                                           |"
      ],
      "text/plain": [
       "<IPython.core.display.Markdown object>"
      ]
     },
     "metadata": {},
     "output_type": "display_data"
    }
   ],
   "source": [
    "with dw:\n",
    "    display_df_md_table(dw.get_raw_fields('SUPREMM'))"
   ]
  },
  {
   "cell_type": "markdown",
   "metadata": {},
   "source": [
    "### Filters\n",
    "**Filters** allow you to include only data that have certain values for given **dimensions**, which are groupings of data. You can use the `get_dimensions(realm)` method to get a DataFrame containing the list of valid dimensions in the given realm. The realm must be passed in as a string and can be either the ID or the label of the realm."
   ]
  },
  {
   "cell_type": "code",
   "execution_count": 1,
   "metadata": {
    "tags": []
   },
   "outputs": [
    {
     "data": {
      "text/markdown": [
       "| id                          | label                      | description                                                                                                                                                                                                                                                                                                     |\n",
       "|:----------------------------|:---------------------------|:----------------------------------------------------------------------------------------------------------------------------------------------------------------------------------------------------------------------------------------------------------------------------------------------------------------|\n",
       "| none                        | None                       | Summarizes job performance data obtained via the SUPReMM project. These data are obtained from performance monitoring software running on each HPC resource. For most resources this data is generated for both ACCESS and non-ACCESS jobs. Non-ACCESS jobs can be filtered using a filter on the \"Grant Type\". |\n",
       "| application                 | Application                | The classication of the job as common scientific application.                                                                                                                                                                                                                                                   |\n",
       "| appclassmethod_id           | Application Class. Method  | The classification algorithm that was used to identify the application.                                                                                                                                                                                                                                         |\n",
       "| cpi                         | CPI Value                  | The number of cpu clock ticks per instruction on average per core.                                                                                                                                                                                                                                              |\n",
       "| cpucv                       | CPU User CV                | Coefficient of variation for the CPU user for all cores that were assigned to the job.                                                                                                                                                                                                                          |\n",
       "| cpuuser                     | CPU User Value             | The ratio of user cpu time to total cpu time for the cores that the job was assigned.                                                                                                                                                                                                                           |\n",
       "| catastrophe_bucket_id       | Catastrophe Rank           | indicator L1D cache load drop off (smaller is worse)                                                                                                                                                                                                                                                            |\n",
       "| datasource                  | Datasource                 | The software used to collect the performance data.                                                                                                                                                                                                                                                              |\n",
       "| exit_status                 | Exit Status                | A categorization of jobs into discrete groups based on the exit status of each job reported by the resource manager.                                                                                                                                                                                            |\n",
       "| fieldofscience              | Field of Science           | The field of science indicated on the allocation request pertaining to the running jobs.                                                                                                                                                                                                                        |\n",
       "| gpu_usage_bucketid          | GPU Usage Value            | Average % utilization of the GPUs. The average is calculated as the mean value of the utilization reported by the GPU driver during the job.                                                                                                                                                                    |\n",
       "| grant_type                  | Grant Type                 | A categorization of the projects/allocations.                                                                                                                                                                                                                                                                   |\n",
       "| granted_pe                  | Granted Processing Element | How many cores within one node.                                                                                                                                                                                                                                                                                 |\n",
       "| homogeneity_bucket_id       | Homogeneity Rank           | The homogeneity is a measure of the how uniform the L1D load rate is over the lifetime of a job. Jobs with low homogeneity value (near 0) should be investigated to check if an error has caused data processing to stop prematurely.                                                                           |\n",
       "| ibrxbyterate_bucket_id      | InfiniBand Receive rate    | number of bytes received per node over the data interconnect                                                                                                                                                                                                                                                    |\n",
       "| jobsize                     | Job Size                   | A categorization of jobs into discrete groups based on the number of cores used by each job.                                                                                                                                                                                                                    |\n",
       "| jobwalltime                 | Job Wall Time              | A categorization of jobs into discrete groups based on the total linear time each job took to execute.                                                                                                                                                                                                          |\n",
       "| nsfdirectorate              | NSF Directorate            | The NSF directorate of the field of science indiciated on the allocation request pertaining to the running jobs.                                                                                                                                                                                                |\n",
       "| nodecount                   | Node Count                 | A categorization of jobs into discrete groups based on node count.                                                                                                                                                                                                                                              |\n",
       "| pi                          | PI                         | The principal investigator of a project.                                                                                                                                                                                                                                                                        |\n",
       "| pi_institution              | PI Institution             | Organizations that have PIs with allocations.                                                                                                                                                                                                                                                                   |\n",
       "| parentscience               | Parent Science             | The parent of the field of science indiciated on the allocation request pertaining to the running jobs.                                                                                                                                                                                                         |\n",
       "| max_mem                     | Peak memory usage          | Maximum ratio of memory used to total memory available for the compute node with the highest peak memory usage                                                                                                                                                                                                  |\n",
       "| queue                       | Queue                      | Queue pertains to the low level job queues on each resource.                                                                                                                                                                                                                                                    |\n",
       "| resource                    | Resource                   | A resource is a remote computer that can run jobs.                                                                                                                                                                                                                                                              |\n",
       "| provider                    | Service Provider           | A service provider is an institution that hosts resources.                                                                                                                                                                                                                                                      |\n",
       "| shared                      | Share Mode                 | A categorization of jobs into discrete groups based on whether the job shared nodes.                                                                                                                                                                                                                            |\n",
       "| username                    | System Username            | The specific system username of the users who ran jobs.                                                                                                                                                                                                                                                         |\n",
       "| person                      | User                       | A person who is on a PIs allocation, hence able run jobs on resources.                                                                                                                                                                                                                                          |\n",
       "| institution                 | User Institution           | Organizations that have users with allocations.                                                                                                                                                                                                                                                                 |\n",
       "| wall_time_accuracy_bucketid | Wall Time Accuracy Value   | The wall-clock duration of the job.                                                                                                                                                                                                                                                                             |\n",
       "| netdrv_lustre_rx_bucket_id  | lustre bytes received      | total number of bytes received per node from the lustre filesystem.                                                                                                                                                                                                                                             |"
      ],
      "text/plain": [
       "<IPython.core.display.Markdown object>"
      ]
     },
     "metadata": {},
     "output_type": "display_data"
    }
   ],
   "source": [
    "with dw:\n",
    "    dimensions = dw.get_dimensions('SUPREMM')\n",
    "    display_df_md_table(dimensions)"
   ]
  },
  {
   "cell_type": "markdown",
   "metadata": {},
   "source": [
    "You can use the `get_filters(realm, dimension)` method to get a DataFrame containing the list of valid filter values for the given dimension in the given realm. The realm and dimension must be passed in as strings."
   ]
  },
  {
   "cell_type": "code",
   "execution_count": 1,
   "metadata": {
    "tags": []
   },
   "outputs": [
    {
     "data": {
      "text/markdown": [
       "|    id | label      |\n",
       "|------:|:-----------|\n",
       "|  2734 | CCT-LSU    |\n",
       "|   848 | PSC        |\n",
       "|   856 | SDSC       |\n",
       "| 14449 | StonyBrook |\n",
       "|   453 | NICS       |\n",
       "|   476 | TACC       |"
      ],
      "text/plain": [
       "<IPython.core.display.Markdown object>"
      ]
     },
     "metadata": {},
     "output_type": "display_data"
    }
   ],
   "source": [
    "with dw:\n",
    "    filters = dw.get_filters('SUPREMM', 'Service Provider') # 'provider' also works\n",
    "    display_df_md_table(filters)"
   ]
  },
  {
   "cell_type": "markdown",
   "metadata": {},
   "source": [
    "For methods in the API that take filters as arguments, you must specify the filters as a dictionary in which the keys are dimensions (labels or IDs) and the values are string filter values (labels or IDs) or sequences of string filter values. For example, to return only data for which the field of science is materials engineering and the service provider is either PSC or SDSC:"
   ]
  },
  {
   "cell_type": "code",
   "execution_count": 1,
   "metadata": {
    "tags": []
   },
   "outputs": [
    {
     "name": "stdout",
     "output_type": "stream",
     "text": [
      "Got 25542 rows...DONE\n"
     ]
    }
   ],
   "source": [
    "with dw:\n",
    "    data = dw.get_raw_data(\n",
    "        duration=('2021-05-01', '2021-05-01'),\n",
    "        realm='SUPREMM',\n",
    "        filters={\n",
    "            'Field of Science': 'Materials Engineering', # 'fieldofscience': '177' also works\n",
    "            'Service Provider': ( # 'provider' also works\n",
    "                'PSC', # '848' also works\n",
    "                'SDSC', # '856' also works\n",
    "            ),\n",
    "        },\n",
    "        show_progress=True\n",
    "    )"
   ]
  },
  {
   "cell_type": "markdown",
   "metadata": {},
   "source": [
    "### Show progress\n",
    "Set the `show_progress` parameter to `True` to periodically print how many rows have been gotten so far. "
   ]
  }
 ],
 "metadata": {
  "kernelspec": {
   "display_name": "Python 3 (ipykernel)",
   "language": "python",
   "name": "python3"
  },
  "language_info": {
   "codemirror_mode": {
    "name": "ipython",
    "version": 3
   },
   "file_extension": ".py",
   "mimetype": "text/x-python",
   "name": "python",
   "nbconvert_exporter": "python",
   "pygments_lexer": "ipython3",
   "version": "3.10.10"
  }
 },
 "nbformat": 4,
 "nbformat_minor": 4
}
