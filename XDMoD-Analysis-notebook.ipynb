{
 "cells": [
  {
   "cell_type": "markdown",
   "id": "522eb29a-bf25-4eb5-8f1d-b558c4d9067c",
   "metadata": {},
   "source": [
    "# XDMoD Data Analytics Framework — XDMoD Analysis\n",
    "\n",
    "v1.0.1\n",
    "\n",
    "© 2024 University at Buffalo Center for Computational Research\n",
    "\n",
    "See the [xdmod-notebooks](https://github.com/ubccr/xdmod-notebooks) repository for information on setup, support, contributing, licensing, and referencing."
   ]
  },
  {
   "cell_type": "markdown",
   "id": "a4bf57c6-2603-4340-afff-66ae09953772",
   "metadata": {},
   "source": [
    "## Introduction\n",
    "\n",
    "The XDMoD Data Analytics Framework provides API access to the data in XDMoD via the [`xdmod_data` Python module](https://pypi.org/project/xdmod-data). This notebook provides real-world examples the capabilities of XDMoD Data. You will use interactive elements (Jupyter Widgets) to customize and retrieve data that comes from XDMoD.  "
   ]
  },
  {
   "cell_type": "markdown",
   "id": "de950cd1-efc7-4691-ad69-8805150e20fe",
   "metadata": {},
   "source": [
    "## Install/upgrade the required modules\n",
    "\n",
    "Run the code below to install/upgrade the modules needed to run this notebook."
   ]
  },
  {
   "cell_type": "code",
   "execution_count": 1,
   "id": "e7af657e-25b6-4663-b130-2937f8fc130b",
   "metadata": {},
   "outputs": [
    {
     "name": "stdout",
     "output_type": "stream",
     "text": [
      "Requirement already satisfied: xdmod-data<2.0.0,>=1.0.0 in /opt/conda/lib/python3.11/site-packages (1.0.0)\n",
      "Requirement already satisfied: python-dotenv in /opt/conda/lib/python3.11/site-packages (1.0.1)\n",
      "Requirement already satisfied: tabulate in /opt/conda/lib/python3.11/site-packages (0.9.0)\n",
      "Requirement already satisfied: numpy in /opt/conda/lib/python3.11/site-packages (from xdmod-data<2.0.0,>=1.0.0) (1.24.4)\n",
      "Requirement already satisfied: pandas in /opt/conda/lib/python3.11/site-packages (from xdmod-data<2.0.0,>=1.0.0) (2.1.1)\n",
      "Requirement already satisfied: plotly in /opt/conda/lib/python3.11/site-packages (from xdmod-data<2.0.0,>=1.0.0) (5.23.0)\n",
      "Requirement already satisfied: requests in /opt/conda/lib/python3.11/site-packages (from xdmod-data<2.0.0,>=1.0.0) (2.31.0)\n",
      "Requirement already satisfied: python-dateutil>=2.8.2 in /opt/conda/lib/python3.11/site-packages (from pandas->xdmod-data<2.0.0,>=1.0.0) (2.8.2)\n",
      "Requirement already satisfied: pytz>=2020.1 in /opt/conda/lib/python3.11/site-packages (from pandas->xdmod-data<2.0.0,>=1.0.0) (2023.3.post1)\n",
      "Requirement already satisfied: tzdata>=2022.1 in /opt/conda/lib/python3.11/site-packages (from pandas->xdmod-data<2.0.0,>=1.0.0) (2023.3)\n",
      "Requirement already satisfied: tenacity>=6.2.0 in /opt/conda/lib/python3.11/site-packages (from plotly->xdmod-data<2.0.0,>=1.0.0) (9.0.0)\n",
      "Requirement already satisfied: packaging in /opt/conda/lib/python3.11/site-packages (from plotly->xdmod-data<2.0.0,>=1.0.0) (23.2)\n",
      "Requirement already satisfied: charset-normalizer<4,>=2 in /opt/conda/lib/python3.11/site-packages (from requests->xdmod-data<2.0.0,>=1.0.0) (3.3.0)\n",
      "Requirement already satisfied: idna<4,>=2.5 in /opt/conda/lib/python3.11/site-packages (from requests->xdmod-data<2.0.0,>=1.0.0) (3.4)\n",
      "Requirement already satisfied: urllib3<3,>=1.21.1 in /opt/conda/lib/python3.11/site-packages (from requests->xdmod-data<2.0.0,>=1.0.0) (2.0.7)\n",
      "Requirement already satisfied: certifi>=2017.4.17 in /opt/conda/lib/python3.11/site-packages (from requests->xdmod-data<2.0.0,>=1.0.0) (2023.7.22)\n",
      "Requirement already satisfied: six>=1.5 in /opt/conda/lib/python3.11/site-packages (from python-dateutil>=2.8.2->pandas->xdmod-data<2.0.0,>=1.0.0) (1.16.0)\n"
     ]
    }
   ],
   "source": [
    "import sys\n",
    "! {sys.executable} -m pip install --upgrade 'xdmod-data>=1.0.0,<2.0.0' python-dotenv tabulate"
   ]
  },
  {
   "cell_type": "markdown",
   "id": "020269b6-bf85-42a2-84e9-74f4d67d4d13",
   "metadata": {},
   "source": [
    "If running that code caused a new version of Plotly to be installed/upgraded, you may need to refresh your browser window for plots to appear correctly."
   ]
  },
  {
   "cell_type": "markdown",
   "id": "6da3c386-0fc6-4cb9-a602-4837e9f43b85",
   "metadata": {},
   "source": [
    "## Configure notebook formatting"
   ]
  },
  {
   "cell_type": "markdown",
   "id": "3abcc30e-4051-4f96-a6c6-a9515917a7dc",
   "metadata": {},
   "source": [
    "### Exceptions\n",
    "\n",
    "Run the code below to simplify how Python exceptions are displayed in this notebook."
   ]
  },
  {
   "cell_type": "code",
   "execution_count": 2,
   "id": "1b70e626-e70c-4026-984a-dc2097ee2ef9",
   "metadata": {},
   "outputs": [],
   "source": [
    "import sys\n",
    "def exception_handler(exception_type, exception, traceback):\n",
    "    print(\"%s: %s\" % (exception_type.__name__, exception), file=sys.stderr)\n",
    "get_ipython()._showtraceback = exception_handler"
   ]
  },
  {
   "cell_type": "markdown",
   "id": "46791ba3-2cec-4a83-96af-e13bb0d6a084",
   "metadata": {},
   "source": [
    "### Tables\n",
    "\n",
    "Run the code below to set up for displaying Pandas DataFrames as Markdown tables in this notebook."
   ]
  },
  {
   "cell_type": "code",
   "execution_count": 3,
   "id": "da20ea2c-3812-4fad-8fe3-77fe5fe9a580",
   "metadata": {},
   "outputs": [],
   "source": [
    "from IPython.display import display, Markdown\n",
    "def display_df_md_table(df):\n",
    "    return display(Markdown(df.replace('\\n', '<br/>', regex=True).to_markdown()))"
   ]
  },
  {
   "cell_type": "markdown",
   "id": "013fc181-a1de-49f5-b4c2-db681969b020",
   "metadata": {},
   "source": [
    "### Plots\n",
    "\n",
    "Run the code below to set up the external Plotly library to make plots using a custom XDMoD theme."
   ]
  },
  {
   "cell_type": "code",
   "execution_count": 4,
   "id": "28c2cd99-06c5-4d81-a3e1-e23b65b23a65",
   "metadata": {},
   "outputs": [],
   "source": [
    "import plotly.express as px\n",
    "import plotly.io as pio\n",
    "import xdmod_data.themes\n",
    "pio.templates.default = \"timeseries\""
   ]
  },
  {
   "cell_type": "markdown",
   "id": "1666d700-ed58-488a-ba0c-a94f92a325bf",
   "metadata": {},
   "source": [
    "## Create an environment file\n",
    "\n",
    "The `xdmod-data.env` file will store your XDMoD API token.\n",
    "\n",
    "Run the code below to create the file in your home directory (if it does not already exist) and allow only you to read and write to it."
   ]
  },
  {
   "cell_type": "code",
   "execution_count": 5,
   "id": "bf994193-79b5-4193-8943-1efa3d7d2adc",
   "metadata": {},
   "outputs": [],
   "source": [
    "from pathlib import Path\n",
    "from os.path import expanduser\n",
    "xdmod_data_env_path = Path(expanduser('~/xdmod-data.env'))\n",
    "try:\n",
    "    with open(xdmod_data_env_path):\n",
    "        pass\n",
    "except FileNotFoundError:\n",
    "    with open(xdmod_data_env_path, 'w') as xdmod_data_env_file:\n",
    "        xdmod_data_env_file.write('XDMOD_API_TOKEN=')\n",
    "    xdmod_data_env_path.chmod(0o600)"
   ]
  },
  {
   "cell_type": "markdown",
   "id": "04056122-ebeb-425d-bbdf-8d4b56b97109",
   "metadata": {},
   "source": [
    "## Obtain an API token\n",
    "\n",
    "Follow [these instructions](https://github.com/ubccr/xdmod-data#api-token-access) to obtain an API token."
   ]
  },
  {
   "cell_type": "markdown",
   "id": "81cb0d79-b2e1-4a0f-bae1-20ef4a9bfc48",
   "metadata": {},
   "source": [
    "## Store your API token in the environment file\n",
    "\n",
    "Open the `xdmod-data.env` file and paste your token after `XDMOD_API_TOKEN=`.\n",
    "\n",
    "Save the file."
   ]
  },
  {
   "cell_type": "markdown",
   "id": "19652ff7-9dd5-4c5a-9481-de59465da392",
   "metadata": {},
   "source": [
    "## Load your XDMoD API token into the environment\n",
    "\n",
    "Run the code below to load the contents of the `xdmod-data.env` file into the environment. It will print `True` if it successfully loaded the file."
   ]
  },
  {
   "cell_type": "code",
   "execution_count": 6,
   "id": "d201c1ac-6842-47b6-8a4e-45c03adb9726",
   "metadata": {},
   "outputs": [
    {
     "data": {
      "text/plain": [
       "True"
      ]
     },
     "execution_count": 6,
     "metadata": {},
     "output_type": "execute_result"
    }
   ],
   "source": [
    "from dotenv import load_dotenv\n",
    "load_dotenv(xdmod_data_env_path, override=True)"
   ]
  },
  {
   "cell_type": "markdown",
   "id": "b8dfdc7f-4b34-431d-9e6b-9c4f59b44cea",
   "metadata": {},
   "source": [
    "## Initialize the XDMoD Data Warehouse\n",
    "\n",
    "Run the code below to prepare for getting data from the XDMoD data warehouse at the given URL."
   ]
  },
  {
   "cell_type": "code",
   "execution_count": 7,
   "id": "5827c61a-2427-46a2-b705-3d40924b462d",
   "metadata": {},
   "outputs": [],
   "source": [
    "from xdmod_data.warehouse import DataWarehouse\n",
    "dw = DataWarehouse('https://xdmod.access-ci.org')"
   ]
  },
  {
   "cell_type": "markdown",
   "id": "2f139596-8686-4fac-9870-780e3577b0f7",
   "metadata": {},
   "source": [
    "## Prepare for interactive elements\n",
    "\n",
    "Run the code below to set up the external `Jupyter’s widgets` library to use interactive elements for analyzing data."
   ]
  },
  {
   "cell_type": "code",
   "execution_count": 8,
   "id": "c59792b3-b9f1-4d67-9154-3607bc43368c",
   "metadata": {},
   "outputs": [
    {
     "name": "stdout",
     "output_type": "stream",
     "text": [
      "Requirement already satisfied: ipywidgets in /opt/conda/lib/python3.11/site-packages (8.1.1)\n",
      "Requirement already satisfied: comm>=0.1.3 in /opt/conda/lib/python3.11/site-packages (from ipywidgets) (0.1.4)\n",
      "Requirement already satisfied: ipython>=6.1.0 in /opt/conda/lib/python3.11/site-packages (from ipywidgets) (8.16.1)\n",
      "Requirement already satisfied: traitlets>=4.3.1 in /opt/conda/lib/python3.11/site-packages (from ipywidgets) (5.11.2)\n",
      "Requirement already satisfied: widgetsnbextension~=4.0.9 in /opt/conda/lib/python3.11/site-packages (from ipywidgets) (4.0.9)\n",
      "Requirement already satisfied: jupyterlab-widgets~=3.0.9 in /opt/conda/lib/python3.11/site-packages (from ipywidgets) (3.0.9)\n",
      "Requirement already satisfied: backcall in /opt/conda/lib/python3.11/site-packages (from ipython>=6.1.0->ipywidgets) (0.2.0)\n",
      "Requirement already satisfied: decorator in /opt/conda/lib/python3.11/site-packages (from ipython>=6.1.0->ipywidgets) (5.1.1)\n",
      "Requirement already satisfied: jedi>=0.16 in /opt/conda/lib/python3.11/site-packages (from ipython>=6.1.0->ipywidgets) (0.19.1)\n",
      "Requirement already satisfied: matplotlib-inline in /opt/conda/lib/python3.11/site-packages (from ipython>=6.1.0->ipywidgets) (0.1.6)\n",
      "Requirement already satisfied: pickleshare in /opt/conda/lib/python3.11/site-packages (from ipython>=6.1.0->ipywidgets) (0.7.5)\n",
      "Requirement already satisfied: prompt-toolkit!=3.0.37,<3.1.0,>=3.0.30 in /opt/conda/lib/python3.11/site-packages (from ipython>=6.1.0->ipywidgets) (3.0.39)\n",
      "Requirement already satisfied: pygments>=2.4.0 in /opt/conda/lib/python3.11/site-packages (from ipython>=6.1.0->ipywidgets) (2.16.1)\n",
      "Requirement already satisfied: stack-data in /opt/conda/lib/python3.11/site-packages (from ipython>=6.1.0->ipywidgets) (0.6.2)\n",
      "Requirement already satisfied: pexpect>4.3 in /opt/conda/lib/python3.11/site-packages (from ipython>=6.1.0->ipywidgets) (4.8.0)\n",
      "Requirement already satisfied: parso<0.9.0,>=0.8.3 in /opt/conda/lib/python3.11/site-packages (from jedi>=0.16->ipython>=6.1.0->ipywidgets) (0.8.3)\n",
      "Requirement already satisfied: ptyprocess>=0.5 in /opt/conda/lib/python3.11/site-packages (from pexpect>4.3->ipython>=6.1.0->ipywidgets) (0.7.0)\n",
      "Requirement already satisfied: wcwidth in /opt/conda/lib/python3.11/site-packages (from prompt-toolkit!=3.0.37,<3.1.0,>=3.0.30->ipython>=6.1.0->ipywidgets) (0.2.8)\n",
      "Requirement already satisfied: executing>=1.2.0 in /opt/conda/lib/python3.11/site-packages (from stack-data->ipython>=6.1.0->ipywidgets) (1.2.0)\n",
      "Requirement already satisfied: asttokens>=2.1.0 in /opt/conda/lib/python3.11/site-packages (from stack-data->ipython>=6.1.0->ipywidgets) (2.4.0)\n",
      "Requirement already satisfied: pure-eval in /opt/conda/lib/python3.11/site-packages (from stack-data->ipython>=6.1.0->ipywidgets) (0.2.2)\n",
      "Requirement already satisfied: six>=1.12.0 in /opt/conda/lib/python3.11/site-packages (from asttokens>=2.1.0->stack-data->ipython>=6.1.0->ipywidgets) (1.16.0)\n",
      "Note: you may need to restart the kernel to use updated packages.\n"
     ]
    }
   ],
   "source": [
    "pip install ipywidgets"
   ]
  },
  {
   "cell_type": "code",
   "execution_count": 9,
   "id": "459a5618-37a5-47ac-9704-34187431a184",
   "metadata": {},
   "outputs": [],
   "source": [
    "import ipywidgets as widgets\n",
    "from ipywidgets import interact, interactive, fixed, interact_manual\n",
    "from IPython.display import clear_output"
   ]
  },
  {
   "cell_type": "markdown",
   "id": "8082a7f5-0901-4c0a-8d77-781ea2d69fde",
   "metadata": {},
   "source": [
    "## Initial customization settings "
   ]
  },
  {
   "cell_type": "markdown",
   "id": "284045e1-8d74-4039-a58d-fe400a850354",
   "metadata": {},
   "source": [
    "customize the settings that you want throughout the entire rest of the notebook"
   ]
  },
  {
   "cell_type": "code",
   "execution_count": 10,
   "id": "e346e3ba-fe3d-47ae-8208-e94dae97eb88",
   "metadata": {
    "scrolled": true
   },
   "outputs": [
    {
     "data": {
      "application/vnd.jupyter.widget-view+json": {
       "model_id": "9018cf71202b4db581258a6d316ca2d5",
       "version_major": 2,
       "version_minor": 0
      },
      "text/plain": [
       "DatePicker(value=None, description='Pick a Start Date', step=1)"
      ]
     },
     "metadata": {},
     "output_type": "display_data"
    },
    {
     "data": {
      "application/vnd.jupyter.widget-view+json": {
       "model_id": "d862a2bb439c460daa31dd2997eae7bb",
       "version_major": 2,
       "version_minor": 0
      },
      "text/plain": [
       "DatePicker(value=None, description='Pick a End Date', step=1)"
      ]
     },
     "metadata": {},
     "output_type": "display_data"
    }
   ],
   "source": [
    "start= widgets.DatePicker(\n",
    "    description='Pick a Start Date'\n",
    ")\n",
    "\n",
    "end = widgets.DatePicker(\n",
    "    description='Pick a End Date',\n",
    ")\n",
    "\n",
    "display(start)\n",
    "display(end)"
   ]
  },
  {
   "cell_type": "code",
   "execution_count": 11,
   "id": "3236d694-d01f-4b5f-b9d5-de3181508f64",
   "metadata": {
    "scrolled": true
   },
   "outputs": [
    {
     "name": "stdout",
     "output_type": "stream",
     "text": [
      "{}\n"
     ]
    },
    {
     "data": {
      "application/vnd.jupyter.widget-view+json": {
       "model_id": "2ae68e8324bd44f89fc8c95685df0ac3",
       "version_major": 2,
       "version_minor": 0
      },
      "text/plain": [
       "Accordion(children=(HBox(children=(interactive(children=(Dropdown(description='Duration:', index=5, options=('…"
      ]
     },
     "metadata": {},
     "output_type": "display_data"
    }
   ],
   "source": [
    "with dw:\n",
    "    data1 = dw.get_filter_values('Jobs','Service Provider')\n",
    "    dur_data = dw.get_durations()\n",
    "    agg_data = dw.get_aggregation_units()\n",
    "\n",
    "    \n",
    "list1 = data1['label'].tolist()\n",
    "dict1= {}\n",
    "for label in list1:\n",
    "    dict1[label]= False\n",
    "    \n",
    "dur_list = []\n",
    "for i in dur_data:\n",
    "    dur_list.append(i)\n",
    "\n",
    "\n",
    "agg_list = []\n",
    "for n in agg_data:\n",
    "    agg_list.append(n)\n",
    "\n",
    "\n",
    "\n",
    "def func(**wag):\n",
    "    # pass\n",
    "    # print(locals())\n",
    "    global diction \n",
    "    diction = locals()\n",
    "    diction = (diction['wag'])\n",
    "    print(diction)\n",
    "    plist=[]\n",
    "    for providers, values in diction.items():\n",
    "        if values:\n",
    "            plist.append(providers)\n",
    "    func2(plist)\n",
    "\n",
    "def func2(providers_list):\n",
    "    with dw:\n",
    "        rdata = dw.get_data(\n",
    "            duration=(start.value, end.value),\n",
    "            realm='Jobs',\n",
    "            metric='CPU Hours: Per Job',\n",
    "            filters={'provider':providers_list},\n",
    "            dimension='resource'\n",
    "            \n",
    "        )\n",
    "    resource_list = rdata.columns.tolist()\n",
    "    global rdict1\n",
    "    rdict1 = {}\n",
    "    for label in resource_list:\n",
    "        rdict1[label]= False\n",
    "    func_display1(rdict)\n",
    "\n",
    "def func4(**wag):\n",
    "    pass\n",
    "\n",
    "'''def func_display2(rdict):\n",
    "    global accordion2\n",
    "    if isinstance(accordion2,widgets.Accordion):\n",
    "        accordion2.close()\n",
    "    \n",
    "    accordion2 = widgets.Accordion(children=[widgets.VBox([y])])\n",
    "    accordion2.set_title(0,'Resources')\n",
    "    display(accordion2)'''\n",
    "\n",
    "def func_display1(rdict):\n",
    "    #for c in  rangeaccordion.children:\n",
    "    accordion.children = [*accordion.children,widgets.IntSlider()]\n",
    "    # y = interactive(func4,**rdict1)\n",
    "    # accordion2 = widgets.Accordion(children=[widgets.VBox([y])])\n",
    "    accordion.set_title(2,'Resources')\n",
    "    \n",
    "\n",
    "\n",
    "dropdown = widgets.Dropdown(\n",
    "    options=dur_list,\n",
    "    value='Previous month',\n",
    "    description='Duration:',\n",
    "    disabled=False,\n",
    "    width = 100\n",
    ")\n",
    "\n",
    "radio_button = widgets.RadioButtons(\n",
    "    options=agg_list,\n",
    "    value='Auto',\n",
    "    description='Aggregation Units: ',\n",
    "    disabled=False)\n",
    "\n",
    "def printss(change):\n",
    "    print(change)\n",
    "\n",
    "\n",
    "global rdict1\n",
    "rdict1 = {}\n",
    "x = interactive(func,**dict1)\n",
    "print(rdict1)\n",
    "y = interactive(func4,**rdict1)\n",
    "func_dropdown= interactive(printss,change=dropdown)\n",
    "func_radio_buttons= interactive(printss,change=radio_button)\n",
    "z = [func_dropdown,func_radio_buttons]\n",
    "\n",
    "\n",
    "lists_widgets=[widgets.HBox([z[0],z[1]]),widgets.VBox([x])]\n",
    "global accordion\n",
    "accordion = widgets.Accordion(children=lists_widgets)\n",
    "accordion.set_title(0,'Duration')\n",
    "accordion.set_title(1, 'Resource Providers')\n",
    "display(accordion)\n",
    "\n",
    "\n"
   ]
  },
  {
   "cell_type": "code",
   "execution_count": 12,
   "id": "cf9d0727-7002-40f4-8867-cf2b3fe4b0fd",
   "metadata": {},
   "outputs": [
    {
     "data": {
      "application/vnd.jupyter.widget-view+json": {
       "model_id": "a440c365bc40405ab9cb89b3146d26f8",
       "version_major": 2,
       "version_minor": 0
      },
      "text/plain": [
       "Button(button_style='info', description='plot charts', icon='line-chart', style=ButtonStyle(), tooltip='Click …"
      ]
     },
     "metadata": {},
     "output_type": "display_data"
    },
    {
     "data": {
      "application/vnd.jupyter.widget-view+json": {
       "model_id": "76b1e0dcf4494c45b57f717b91ef2f4a",
       "version_major": 2,
       "version_minor": 0
      },
      "text/plain": [
       "Output()"
      ]
     },
     "metadata": {},
     "output_type": "display_data"
    }
   ],
   "source": [
    "def plot_charts(b):\n",
    "    with dw:\n",
    "        data = dw.get_data(\n",
    "            duration=(start.value, end.value),\n",
    "            realm='Jobs',\n",
    "            metric='CPU Hours: Per Job',\n",
    "            #filters={'resource':[]},\n",
    "            aggregation_unit= agg_unit\n",
    "        )\n",
    "    with output:\n",
    "        plot = px.line(data, y='CPU Hours: Per Job')\n",
    "        plot.show()\n",
    "\n",
    "output = widgets.Output()\n",
    "\n",
    "button = widgets.Button(\n",
    "    description='plot charts',\n",
    "    disabled=False,\n",
    "    button_style='info', # 'success', 'info', 'warning', 'danger' or ''\n",
    "    tooltip='Click me',\n",
    "    icon='line-chart' # (FontAwesome names without the `fa-` prefix)\n",
    ")\n",
    "button.on_click(plot_charts)\n",
    "display(button, output)\n",
    "\n",
    "\n"
   ]
  },
  {
   "cell_type": "code",
   "execution_count": 17,
   "id": "795bb664-a326-4b70-bb7b-30d621c265cf",
   "metadata": {},
   "outputs": [
    {
     "data": {
      "application/vnd.jupyter.widget-view+json": {
       "model_id": "1a68e512d670495c808ad106f2506328",
       "version_major": 2,
       "version_minor": 0
      },
      "text/plain": [
       "interactive(children=(Checkbox(value=False, description='Check me'), Output()), _dom_classes=('widget-interact…"
      ]
     },
     "metadata": {},
     "output_type": "display_data"
    },
    {
     "name": "stdout",
     "output_type": "stream",
     "text": [
      "(IntSlider(value=0), Text(value=''), IntSlider(value=0))\n",
      "3\n",
      "0\n",
      "1\n",
      "2\n",
      "(IntSlider(value=0), Text(value=''), IntSlider(value=0))\n"
     ]
    },
    {
     "data": {
      "application/vnd.jupyter.widget-view+json": {
       "model_id": "350548660a4943cc9996f394639c3b0b",
       "version_major": 2,
       "version_minor": 0
      },
      "text/plain": [
       "Accordion(children=(IntSlider(value=0), Text(value=''), IntSlider(value=0)), titles=('Slider', 'Text', ''))"
      ]
     },
     "execution_count": 17,
     "metadata": {},
     "output_type": "execute_result"
    }
   ],
   "source": [
    "accordion = widgets.Accordion(children=[widgets.IntSlider(), widgets.Text()], titles=('Slider', 'Text'))\n",
    "\n",
    "def button(b):\n",
    "    accordion.children = [*accordion.children,widgets.IntSlider()]\n",
    "\n",
    "\n",
    "checkbox = widgets.Checkbox(\n",
    "    value=False,\n",
    "    description='Check me',\n",
    ")\n",
    "\n",
    "interact(button,b = checkbox)\n",
    "\n",
    "print(accordion.children)\n",
    "print(len(accordion.children))\n",
    "for i in range(0,len(accordion.children)):\n",
    "    print(i)\n",
    "    if i == 2:\n",
    "        accordion.children[2].close()\n",
    "remove = accordion.children[-1]\n",
    "remove.close()\n",
    "print(accordion.children)\n",
    "accordion"
   ]
  },
  {
   "cell_type": "code",
   "execution_count": null,
   "id": "761025d5-07f8-427b-b6d6-b5b5937c8ecf",
   "metadata": {},
   "outputs": [],
   "source": []
  },
  {
   "cell_type": "code",
   "execution_count": null,
   "id": "3f4b1c69-d0e9-4c33-82e4-89130696c02a",
   "metadata": {},
   "outputs": [],
   "source": []
  }
 ],
 "metadata": {
  "kernelspec": {
   "display_name": "Python 3 (ipykernel)",
   "language": "python",
   "name": "python3"
  },
  "language_info": {
   "codemirror_mode": {
    "name": "ipython",
    "version": 3
   },
   "file_extension": ".py",
   "mimetype": "text/x-python",
   "name": "python",
   "nbconvert_exporter": "python",
   "pygments_lexer": "ipython3",
   "version": "3.11.6"
  }
 },
 "nbformat": 4,
 "nbformat_minor": 5
}
