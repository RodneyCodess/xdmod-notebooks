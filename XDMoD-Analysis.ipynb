{
 "cells": [
  {
   "cell_type": "markdown",
   "id": "522eb29a-bf25-4eb5-8f1d-b558c4d9067c",
   "metadata": {},
   "source": [
    "# XDMoD Data Analytics Framework — XDMoD Analysis\n",
    "\n",
    "v1.0.1\n",
    "\n",
    "© 2024 University at Buffalo Center for Computational Research\n",
    "\n",
    "See the [xdmod-notebooks](https://github.com/ubccr/xdmod-notebooks) repository for information on setup, support, contributing, licensing, and referencing."
   ]
  },
  {
   "cell_type": "markdown",
   "id": "a4bf57c6-2603-4340-afff-66ae09953772",
   "metadata": {},
   "source": [
    "## Introduction\n",
    "\n",
    "The XDMoD Data Analytics Framework provides API access to the data in XDMoD via the [`xdmod_data` Python module](https://pypi.org/project/xdmod-data). This notebook provides real-world examples the capabilities of XDMoD Data. You will use interactive elements (Jupyter Widgets) to customize and retrieve data that comes from XDMoD.  "
   ]
  },
  {
   "cell_type": "markdown",
   "id": "de950cd1-efc7-4691-ad69-8805150e20fe",
   "metadata": {},
   "source": [
    "## Install/upgrade the required modules\n",
    "\n",
    "Run the code below to install/upgrade the modules needed to run this notebook."
   ]
  },
  {
   "cell_type": "code",
   "execution_count": null,
   "id": "e7af657e-25b6-4663-b130-2937f8fc130b",
   "metadata": {},
   "outputs": [],
   "source": [
    "import sys\n",
    "! {sys.executable} -m pip install --upgrade 'xdmod-data>=1.0.0,<2.0.0' python-dotenv tabulate"
   ]
  },
  {
   "cell_type": "markdown",
   "id": "020269b6-bf85-42a2-84e9-74f4d67d4d13",
   "metadata": {},
   "source": [
    "If running that code caused a new version of Plotly to be installed/upgraded, you may need to refresh your browser window for plots to appear correctly."
   ]
  },
  {
   "cell_type": "markdown",
   "id": "6da3c386-0fc6-4cb9-a602-4837e9f43b85",
   "metadata": {},
   "source": [
    "## Configure notebook formatting"
   ]
  },
  {
   "cell_type": "markdown",
   "id": "3abcc30e-4051-4f96-a6c6-a9515917a7dc",
   "metadata": {},
   "source": [
    "### Exceptions\n",
    "\n",
    "Run the code below to simplify how Python exceptions are displayed in this notebook."
   ]
  },
  {
   "cell_type": "code",
   "execution_count": null,
   "id": "1b70e626-e70c-4026-984a-dc2097ee2ef9",
   "metadata": {},
   "outputs": [],
   "source": [
    "import sys\n",
    "def exception_handler(exception_type, exception, traceback):\n",
    "    print(\"%s: %s\" % (exception_type.__name__, exception), file=sys.stderr)\n",
    "get_ipython()._showtraceback = exception_handler"
   ]
  },
  {
   "cell_type": "markdown",
   "id": "46791ba3-2cec-4a83-96af-e13bb0d6a084",
   "metadata": {},
   "source": [
    "### Tables\n",
    "\n",
    "Run the code below to set up for displaying Pandas DataFrames as Markdown tables in this notebook."
   ]
  },
  {
   "cell_type": "code",
   "execution_count": null,
   "id": "da20ea2c-3812-4fad-8fe3-77fe5fe9a580",
   "metadata": {},
   "outputs": [],
   "source": [
    "from IPython.display import display, Markdown\n",
    "def display_df_md_table(df):\n",
    "    return display(Markdown(df.replace('\\n', '<br/>', regex=True).to_markdown()))"
   ]
  },
  {
   "cell_type": "markdown",
   "id": "013fc181-a1de-49f5-b4c2-db681969b020",
   "metadata": {},
   "source": [
    "### Plots\n",
    "\n",
    "Run the code below to set up the external Plotly library to make plots using a custom XDMoD theme."
   ]
  },
  {
   "cell_type": "code",
   "execution_count": null,
   "id": "28c2cd99-06c5-4d81-a3e1-e23b65b23a65",
   "metadata": {},
   "outputs": [],
   "source": [
    "import plotly.express as px\n",
    "import plotly.io as pio\n",
    "import xdmod_data.themes\n",
    "pio.templates.default = \"timeseries\""
   ]
  },
  {
   "cell_type": "markdown",
   "id": "1666d700-ed58-488a-ba0c-a94f92a325bf",
   "metadata": {},
   "source": [
    "## Create an environment file\n",
    "\n",
    "The `xdmod-data.env` file will store your XDMoD API token.\n",
    "\n",
    "Run the code below to create the file in your home directory (if it does not already exist) and allow only you to read and write to it."
   ]
  },
  {
   "cell_type": "code",
   "execution_count": null,
   "id": "bf994193-79b5-4193-8943-1efa3d7d2adc",
   "metadata": {},
   "outputs": [],
   "source": [
    "from pathlib import Path\n",
    "from os.path import expanduser\n",
    "xdmod_data_env_path = Path(expanduser('~/xdmod-data.env'))\n",
    "try:\n",
    "    with open(xdmod_data_env_path):\n",
    "        pass\n",
    "except FileNotFoundError:\n",
    "    with open(xdmod_data_env_path, 'w') as xdmod_data_env_file:\n",
    "        xdmod_data_env_file.write('XDMOD_API_TOKEN=')\n",
    "    xdmod_data_env_path.chmod(0o600)"
   ]
  },
  {
   "cell_type": "markdown",
   "id": "04056122-ebeb-425d-bbdf-8d4b56b97109",
   "metadata": {},
   "source": [
    "## Obtain an API token\n",
    "\n",
    "Follow [these instructions](https://github.com/ubccr/xdmod-data#api-token-access) to obtain an API token."
   ]
  },
  {
   "cell_type": "markdown",
   "id": "81cb0d79-b2e1-4a0f-bae1-20ef4a9bfc48",
   "metadata": {},
   "source": [
    "## Store your API token in the environment file\n",
    "\n",
    "Open the `xdmod-data.env` file and paste your token after `XDMOD_API_TOKEN=`.\n",
    "\n",
    "Save the file."
   ]
  },
  {
   "cell_type": "markdown",
   "id": "19652ff7-9dd5-4c5a-9481-de59465da392",
   "metadata": {},
   "source": [
    "## Load your XDMoD API token into the environment\n",
    "\n",
    "Run the code below to load the contents of the `xdmod-data.env` file into the environment. It will print `True` if it successfully loaded the file."
   ]
  },
  {
   "cell_type": "code",
   "execution_count": null,
   "id": "d201c1ac-6842-47b6-8a4e-45c03adb9726",
   "metadata": {},
   "outputs": [],
   "source": [
    "from dotenv import load_dotenv\n",
    "load_dotenv(xdmod_data_env_path, override=True)"
   ]
  },
  {
   "cell_type": "markdown",
   "id": "b8dfdc7f-4b34-431d-9e6b-9c4f59b44cea",
   "metadata": {},
   "source": [
    "## Initialize the XDMoD Data Warehouse\n",
    "\n",
    "Run the code below to prepare for getting data from the XDMoD data warehouse at the given URL."
   ]
  },
  {
   "cell_type": "code",
   "execution_count": null,
   "id": "5827c61a-2427-46a2-b705-3d40924b462d",
   "metadata": {},
   "outputs": [],
   "source": [
    "from xdmod_data.warehouse import DataWarehouse\n",
    "dw = DataWarehouse('https://xdmod.access-ci.org')"
   ]
  },
  {
   "cell_type": "markdown",
   "id": "2f139596-8686-4fac-9870-780e3577b0f7",
   "metadata": {},
   "source": [
    "## Prepare for interactive elements\n",
    "\n",
    "Run the code below to set up the external `Jupyter’s widgets` library to use interactive elements for analyzing data."
   ]
  },
  {
   "cell_type": "code",
   "execution_count": null,
   "id": "c59792b3-b9f1-4d67-9154-3607bc43368c",
   "metadata": {},
   "outputs": [],
   "source": [
    "pip install ipywidgets"
   ]
  },
  {
   "cell_type": "markdown",
   "id": "8082a7f5-0901-4c0a-8d77-781ea2d69fde",
   "metadata": {},
   "source": [
    "##Example one "
   ]
  }
 ],
 "metadata": {
  "kernelspec": {
   "display_name": "Python 3 (ipykernel)",
   "language": "python",
   "name": "python3"
  },
  "language_info": {
   "codemirror_mode": {
    "name": "ipython",
    "version": 3
   },
   "file_extension": ".py",
   "mimetype": "text/x-python",
   "name": "python",
   "nbconvert_exporter": "python",
   "pygments_lexer": "ipython3",
   "version": "3.11.6"
  }
 },
 "nbformat": 4,
 "nbformat_minor": 5
}
