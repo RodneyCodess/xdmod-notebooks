{
 "cells": [
  {
   "cell_type": "markdown",
   "metadata": {
    "tags": []
   },
   "source": [
    "# Raw Data Example\n",
    "\n",
    "This notebook shows an example of how to use XDMoD's `rawdata` access APIs obtain and process individual records. In this case we will use the job performance data, which is contained in the `SUPREMM` realm in XDMoD and use this to train a machine learning model.\n",
    "\n",
    "## Module imports\n",
    "\n",
    "In this example, we import some libraries that are used for the display and formatting of data as well as the main XDMoD API import."
   ]
  },
  {
   "cell_type": "code",
   "execution_count": 36,
   "metadata": {},
   "outputs": [],
   "source": [
    "# system packages that are used in this example workbook\n",
    "import matplotlib.pyplot as plt\n",
    "plt.rcParams['figure.figsize'] = [12, 8]\n",
    "from IPython.display import display, Markdown, JSON\n",
    "\n",
    "# Main imoprt of XDMoD API\n",
    "import xdmod.datawarehouse as xdw"
   ]
  },
  {
   "cell_type": "markdown",
   "metadata": {},
   "source": [
    "## Configuration\n",
    "\n",
    "To access the data in XDMoD you need to know the URL of the XDMoD instance. You will also need an API key or equivalent authentication information. In this prototype the API key is set to `None` which causes the python code to pull the authentication data from a shell environment variable."
   ]
  },
  {
   "cell_type": "code",
   "execution_count": 56,
   "metadata": {},
   "outputs": [],
   "source": [
    "XDMOD_URL = \"https://xdmod-dev.ccr.xdmod.org\"\n",
    "XDMOD_API_KEY = None"
   ]
  },
  {
   "cell_type": "markdown",
   "metadata": {
    "tags": []
   },
   "source": [
    "\n",
    "\n",
    "## Obtain the data\n",
    "\n",
    "The `rawdata` function returns a pandas dataframe containing the individual records for a given realm. You must specfy a time range and which fields to return. You can also optionally specify a set of filters.\n",
    "\n",
    "<div class=\"alert alert-block alert-info\">\n",
    "   Note: Filters must be specified using their internal identifiers in this version of the API. \n",
    "    </div"
   ]
  },
  {
   "cell_type": "code",
   "execution_count": 57,
   "metadata": {},
   "outputs": [],
   "source": [
    "with xdw.DataWareHouse(XDMOD_URL, XDMOD_API_KEY) as x:\n",
    "    supremmjobs = x.rawdata(start = '2021-05-01',\n",
    "                            end = '2021-05-02', \n",
    "                            realm='SUPREMM',\n",
    "                            stats=['CPU User',\n",
    "                                   'Nodes',\n",
    "                                   'Wall Time',\n",
    "                                   'Wait Time',\n",
    "                                   'Requested Wall Time',\n",
    "                                   'Application',\n",
    "                                   'Total memory used',\n",
    "                                   'Mount point \"home\" data written',\n",
    "                                   'Mount point \"scratch\" data written'],\n",
    "                            filters = {\n",
    "                                'resource': [\n",
    "                                    '2825',\n",
    "                                    '2900'\n",
    "                                ]\n",
    "                            }\n",
    "                           )\n",
    "\n",
    "    # set the stats parameter to an empty array [] to get all data fields: stats=[]\n",
    "    # set the filters parameter to an empty dict to not apply filters:    filters={}"
   ]
  },
  {
   "cell_type": "markdown",
   "metadata": {},
   "source": [
    "## Inspect the data\n",
    "\n",
    "The `supremmjobs` variable now contains a pandas dataset with the requested columns"
   ]
  },
  {
   "cell_type": "code",
   "execution_count": 58,
   "metadata": {},
   "outputs": [
    {
     "name": "stdout",
     "output_type": "stream",
     "text": [
      "<class 'pandas.core.frame.DataFrame'>\n"
     ]
    }
   ],
   "source": [
    "print(type(supremmjobs))"
   ]
  },
  {
   "cell_type": "code",
   "execution_count": 59,
   "metadata": {},
   "outputs": [
    {
     "data": {
      "text/html": [
       "<div>\n",
       "<style scoped>\n",
       "    .dataframe tbody tr th:only-of-type {\n",
       "        vertical-align: middle;\n",
       "    }\n",
       "\n",
       "    .dataframe tbody tr th {\n",
       "        vertical-align: top;\n",
       "    }\n",
       "\n",
       "    .dataframe thead th {\n",
       "        text-align: right;\n",
       "    }\n",
       "</style>\n",
       "<table border=\"1\" class=\"dataframe\">\n",
       "  <thead>\n",
       "    <tr style=\"text-align: right;\">\n",
       "      <th></th>\n",
       "      <th>Nodes</th>\n",
       "      <th>Requested Wall Time</th>\n",
       "      <th>Wait Time</th>\n",
       "      <th>Wall Time</th>\n",
       "      <th>CPU User</th>\n",
       "      <th>Mount point \"home\" data written</th>\n",
       "      <th>Mount point \"scratch\" data written</th>\n",
       "      <th>Total memory used</th>\n",
       "    </tr>\n",
       "  </thead>\n",
       "  <tbody>\n",
       "    <tr>\n",
       "      <th>0</th>\n",
       "      <td>1.0</td>\n",
       "      <td>18000.0</td>\n",
       "      <td>2223.0</td>\n",
       "      <td>61.0</td>\n",
       "      <td>45.336802</td>\n",
       "      <td>NaN</td>\n",
       "      <td>NaN</td>\n",
       "      <td>NaN</td>\n",
       "    </tr>\n",
       "    <tr>\n",
       "      <th>1</th>\n",
       "      <td>1.0</td>\n",
       "      <td>3600.0</td>\n",
       "      <td>5602.0</td>\n",
       "      <td>1543.0</td>\n",
       "      <td>99.360662</td>\n",
       "      <td>NaN</td>\n",
       "      <td>NaN</td>\n",
       "      <td>5.712465e+10</td>\n",
       "    </tr>\n",
       "    <tr>\n",
       "      <th>2</th>\n",
       "      <td>1.0</td>\n",
       "      <td>21600.0</td>\n",
       "      <td>107620.0</td>\n",
       "      <td>5976.0</td>\n",
       "      <td>5.880115</td>\n",
       "      <td>NaN</td>\n",
       "      <td>NaN</td>\n",
       "      <td>1.681708e+11</td>\n",
       "    </tr>\n",
       "    <tr>\n",
       "      <th>3</th>\n",
       "      <td>2.0</td>\n",
       "      <td>86400.0</td>\n",
       "      <td>62768.0</td>\n",
       "      <td>29837.0</td>\n",
       "      <td>98.369553</td>\n",
       "      <td>NaN</td>\n",
       "      <td>NaN</td>\n",
       "      <td>4.094812e+11</td>\n",
       "    </tr>\n",
       "    <tr>\n",
       "      <th>4</th>\n",
       "      <td>1.0</td>\n",
       "      <td>3600.0</td>\n",
       "      <td>5282.0</td>\n",
       "      <td>1906.0</td>\n",
       "      <td>98.678836</td>\n",
       "      <td>NaN</td>\n",
       "      <td>NaN</td>\n",
       "      <td>1.184484e+11</td>\n",
       "    </tr>\n",
       "    <tr>\n",
       "      <th>...</th>\n",
       "      <td>...</td>\n",
       "      <td>...</td>\n",
       "      <td>...</td>\n",
       "      <td>...</td>\n",
       "      <td>...</td>\n",
       "      <td>...</td>\n",
       "      <td>...</td>\n",
       "      <td>...</td>\n",
       "    </tr>\n",
       "    <tr>\n",
       "      <th>34663</th>\n",
       "      <td>1.0</td>\n",
       "      <td>21600.0</td>\n",
       "      <td>279846.0</td>\n",
       "      <td>5904.0</td>\n",
       "      <td>5.888494</td>\n",
       "      <td>NaN</td>\n",
       "      <td>NaN</td>\n",
       "      <td>2.631413e+11</td>\n",
       "    </tr>\n",
       "    <tr>\n",
       "      <th>34664</th>\n",
       "      <td>4.0</td>\n",
       "      <td>660.0</td>\n",
       "      <td>15.0</td>\n",
       "      <td>15.0</td>\n",
       "      <td>1.634892</td>\n",
       "      <td>395.289926</td>\n",
       "      <td>0.0</td>\n",
       "      <td>1.491089e+08</td>\n",
       "    </tr>\n",
       "    <tr>\n",
       "      <th>34665</th>\n",
       "      <td>1.0</td>\n",
       "      <td>21600.0</td>\n",
       "      <td>279665.0</td>\n",
       "      <td>6098.0</td>\n",
       "      <td>5.996600</td>\n",
       "      <td>NaN</td>\n",
       "      <td>NaN</td>\n",
       "      <td>1.227764e+11</td>\n",
       "    </tr>\n",
       "    <tr>\n",
       "      <th>34666</th>\n",
       "      <td>1.0</td>\n",
       "      <td>21600.0</td>\n",
       "      <td>279846.0</td>\n",
       "      <td>5917.0</td>\n",
       "      <td>5.968717</td>\n",
       "      <td>NaN</td>\n",
       "      <td>NaN</td>\n",
       "      <td>2.632364e+11</td>\n",
       "    </tr>\n",
       "    <tr>\n",
       "      <th>34667</th>\n",
       "      <td>1.0</td>\n",
       "      <td>21600.0</td>\n",
       "      <td>279881.0</td>\n",
       "      <td>5879.0</td>\n",
       "      <td>5.911959</td>\n",
       "      <td>NaN</td>\n",
       "      <td>NaN</td>\n",
       "      <td>2.640179e+11</td>\n",
       "    </tr>\n",
       "  </tbody>\n",
       "</table>\n",
       "<p>34668 rows × 8 columns</p>\n",
       "</div>"
      ],
      "text/plain": [
       "       Nodes  Requested Wall Time  Wait Time  Wall Time   CPU User  \\\n",
       "0        1.0              18000.0     2223.0       61.0  45.336802   \n",
       "1        1.0               3600.0     5602.0     1543.0  99.360662   \n",
       "2        1.0              21600.0   107620.0     5976.0   5.880115   \n",
       "3        2.0              86400.0    62768.0    29837.0  98.369553   \n",
       "4        1.0               3600.0     5282.0     1906.0  98.678836   \n",
       "...      ...                  ...        ...        ...        ...   \n",
       "34663    1.0              21600.0   279846.0     5904.0   5.888494   \n",
       "34664    4.0                660.0       15.0       15.0   1.634892   \n",
       "34665    1.0              21600.0   279665.0     6098.0   5.996600   \n",
       "34666    1.0              21600.0   279846.0     5917.0   5.968717   \n",
       "34667    1.0              21600.0   279881.0     5879.0   5.911959   \n",
       "\n",
       "       Mount point \"home\" data written  Mount point \"scratch\" data written  \\\n",
       "0                                  NaN                                 NaN   \n",
       "1                                  NaN                                 NaN   \n",
       "2                                  NaN                                 NaN   \n",
       "3                                  NaN                                 NaN   \n",
       "4                                  NaN                                 NaN   \n",
       "...                                ...                                 ...   \n",
       "34663                              NaN                                 NaN   \n",
       "34664                       395.289926                                 0.0   \n",
       "34665                              NaN                                 NaN   \n",
       "34666                              NaN                                 NaN   \n",
       "34667                              NaN                                 NaN   \n",
       "\n",
       "       Total memory used  \n",
       "0                    NaN  \n",
       "1           5.712465e+10  \n",
       "2           1.681708e+11  \n",
       "3           4.094812e+11  \n",
       "4           1.184484e+11  \n",
       "...                  ...  \n",
       "34663       2.631413e+11  \n",
       "34664       1.491089e+08  \n",
       "34665       1.227764e+11  \n",
       "34666       2.632364e+11  \n",
       "34667       2.640179e+11  \n",
       "\n",
       "[34668 rows x 8 columns]"
      ]
     },
     "execution_count": 59,
     "metadata": {},
     "output_type": "execute_result"
    }
   ],
   "source": [
    "supremmjobs"
   ]
  },
  {
   "cell_type": "markdown",
   "metadata": {},
   "source": [
    "## Prepare data for training\n",
    "\n",
    "Looking at the summary table we see that there are some records that have `NaN` values in for certain records. This is not unusal and is typically because the data were not collected (errors in the data collection, insufficient data points, etc.).\n",
    "\n",
    "To prepare for training, we'll filter the jobs to only one that have complete records and split them into a training set and test set:\n"
   ]
  },
  {
   "cell_type": "code",
   "execution_count": 60,
   "metadata": {},
   "outputs": [
    {
     "data": {
      "text/markdown": [
       "Size of the test subset is **997**."
      ],
      "text/plain": [
       "<IPython.core.display.Markdown object>"
      ]
     },
     "metadata": {},
     "output_type": "display_data"
    },
    {
     "data": {
      "text/markdown": [
       "Size of the training subset is **8966**."
      ],
      "text/plain": [
       "<IPython.core.display.Markdown object>"
      ]
     },
     "metadata": {},
     "output_type": "display_data"
    }
   ],
   "source": [
    "# Filter out jobs with no filesystem data\n",
    "supremmjobs = supremmjobs[supremmjobs['Mount point \"scratch\" data written'].notnull()]\n",
    "\n",
    "# Using Skicit-learn to split data into training and testing sets\n",
    "from sklearn.model_selection import train_test_split\n",
    "X = supremmjobs[['Nodes',\n",
    "            'Wall Time',\n",
    "            'Wait Time',\n",
    "            'Requested Wall Time',\n",
    "            'Total memory used',\n",
    "            'Mount point \"home\" data written',\n",
    "            'Mount point \"scratch\" data written'\n",
    "           ]]\n",
    "                           \n",
    "y =supremmjobs['CPU User']\n",
    "\n",
    "# split dataset into training set and test set\n",
    "fraction_test = 0.10\n",
    "X_train, X_test, y_train, y_test = train_test_split(X, y, test_size=fraction_test)\n",
    "display(Markdown(\"Size of the test subset is **\" + str(len(X_test)) + \"**.\"))\n",
    "display(Markdown(\"Size of the training subset is **\" + str(len(X_train)) + \"**.\"))"
   ]
  },
  {
   "cell_type": "markdown",
   "metadata": {},
   "source": [
    "## Generate a Random Forest model\n",
    "\n",
    "Using the tools from `scikit-learn` build a random forest regression model"
   ]
  },
  {
   "cell_type": "code",
   "execution_count": 61,
   "metadata": {},
   "outputs": [
    {
     "data": {
      "text/html": [
       "<style>#sk-container-id-4 {color: black;background-color: white;}#sk-container-id-4 pre{padding: 0;}#sk-container-id-4 div.sk-toggleable {background-color: white;}#sk-container-id-4 label.sk-toggleable__label {cursor: pointer;display: block;width: 100%;margin-bottom: 0;padding: 0.3em;box-sizing: border-box;text-align: center;}#sk-container-id-4 label.sk-toggleable__label-arrow:before {content: \"▸\";float: left;margin-right: 0.25em;color: #696969;}#sk-container-id-4 label.sk-toggleable__label-arrow:hover:before {color: black;}#sk-container-id-4 div.sk-estimator:hover label.sk-toggleable__label-arrow:before {color: black;}#sk-container-id-4 div.sk-toggleable__content {max-height: 0;max-width: 0;overflow: hidden;text-align: left;background-color: #f0f8ff;}#sk-container-id-4 div.sk-toggleable__content pre {margin: 0.2em;color: black;border-radius: 0.25em;background-color: #f0f8ff;}#sk-container-id-4 input.sk-toggleable__control:checked~div.sk-toggleable__content {max-height: 200px;max-width: 100%;overflow: auto;}#sk-container-id-4 input.sk-toggleable__control:checked~label.sk-toggleable__label-arrow:before {content: \"▾\";}#sk-container-id-4 div.sk-estimator input.sk-toggleable__control:checked~label.sk-toggleable__label {background-color: #d4ebff;}#sk-container-id-4 div.sk-label input.sk-toggleable__control:checked~label.sk-toggleable__label {background-color: #d4ebff;}#sk-container-id-4 input.sk-hidden--visually {border: 0;clip: rect(1px 1px 1px 1px);clip: rect(1px, 1px, 1px, 1px);height: 1px;margin: -1px;overflow: hidden;padding: 0;position: absolute;width: 1px;}#sk-container-id-4 div.sk-estimator {font-family: monospace;background-color: #f0f8ff;border: 1px dotted black;border-radius: 0.25em;box-sizing: border-box;margin-bottom: 0.5em;}#sk-container-id-4 div.sk-estimator:hover {background-color: #d4ebff;}#sk-container-id-4 div.sk-parallel-item::after {content: \"\";width: 100%;border-bottom: 1px solid gray;flex-grow: 1;}#sk-container-id-4 div.sk-label:hover label.sk-toggleable__label {background-color: #d4ebff;}#sk-container-id-4 div.sk-serial::before {content: \"\";position: absolute;border-left: 1px solid gray;box-sizing: border-box;top: 0;bottom: 0;left: 50%;z-index: 0;}#sk-container-id-4 div.sk-serial {display: flex;flex-direction: column;align-items: center;background-color: white;padding-right: 0.2em;padding-left: 0.2em;position: relative;}#sk-container-id-4 div.sk-item {position: relative;z-index: 1;}#sk-container-id-4 div.sk-parallel {display: flex;align-items: stretch;justify-content: center;background-color: white;position: relative;}#sk-container-id-4 div.sk-item::before, #sk-container-id-4 div.sk-parallel-item::before {content: \"\";position: absolute;border-left: 1px solid gray;box-sizing: border-box;top: 0;bottom: 0;left: 50%;z-index: -1;}#sk-container-id-4 div.sk-parallel-item {display: flex;flex-direction: column;z-index: 1;position: relative;background-color: white;}#sk-container-id-4 div.sk-parallel-item:first-child::after {align-self: flex-end;width: 50%;}#sk-container-id-4 div.sk-parallel-item:last-child::after {align-self: flex-start;width: 50%;}#sk-container-id-4 div.sk-parallel-item:only-child::after {width: 0;}#sk-container-id-4 div.sk-dashed-wrapped {border: 1px dashed gray;margin: 0 0.4em 0.5em 0.4em;box-sizing: border-box;padding-bottom: 0.4em;background-color: white;}#sk-container-id-4 div.sk-label label {font-family: monospace;font-weight: bold;display: inline-block;line-height: 1.2em;}#sk-container-id-4 div.sk-label-container {text-align: center;}#sk-container-id-4 div.sk-container {/* jupyter's `normalize.less` sets `[hidden] { display: none; }` but bootstrap.min.css set `[hidden] { display: none !important; }` so we also need the `!important` here to be able to override the default hidden behavior on the sphinx rendered scikit-learn.org. See: https://github.com/scikit-learn/scikit-learn/issues/21755 */display: inline-block !important;position: relative;}#sk-container-id-4 div.sk-text-repr-fallback {display: none;}</style><div id=\"sk-container-id-4\" class=\"sk-top-container\"><div class=\"sk-text-repr-fallback\"><pre>RandomForestRegressor()</pre><b>In a Jupyter environment, please rerun this cell to show the HTML representation or trust the notebook. <br />On GitHub, the HTML representation is unable to render, please try loading this page with nbviewer.org.</b></div><div class=\"sk-container\" hidden><div class=\"sk-item\"><div class=\"sk-estimator sk-toggleable\"><input class=\"sk-toggleable__control sk-hidden--visually\" id=\"sk-estimator-id-4\" type=\"checkbox\" checked><label for=\"sk-estimator-id-4\" class=\"sk-toggleable__label sk-toggleable__label-arrow\">RandomForestRegressor</label><div class=\"sk-toggleable__content\"><pre>RandomForestRegressor()</pre></div></div></div></div></div>"
      ],
      "text/plain": [
       "RandomForestRegressor()"
      ]
     },
     "execution_count": 61,
     "metadata": {},
     "output_type": "execute_result"
    }
   ],
   "source": [
    "from sklearn.ensemble import RandomForestRegressor\n",
    "from sklearn.metrics import r2_score,mean_squared_error\n",
    "import seaborn as sns\n",
    "\n",
    "RandomForestRegModel = RandomForestRegressor()\n",
    "RandomForestRegModel.fit(X_train, y_train)"
   ]
  },
  {
   "cell_type": "markdown",
   "metadata": {},
   "source": [
    "## Compute feature importances"
   ]
  },
  {
   "cell_type": "code",
   "execution_count": 62,
   "metadata": {},
   "outputs": [
    {
     "data": {
      "text/markdown": [
       "|Feature Name | Importance |\n",
       "|-------|:----|\n",
       "|Mount point \"home\" data written|0.378|\n",
       "|Requested Wall Time|0.2381|\n",
       "|Wall Time|0.09969|\n",
       "|Mount point \"scratch\" data written|0.09403|\n",
       "|Wait Time|0.07477|\n",
       "|Total memory used|0.06027|\n",
       "|Nodes|0.05512|\n"
      ],
      "text/plain": [
       "<IPython.core.display.Markdown object>"
      ]
     },
     "metadata": {},
     "output_type": "display_data"
    }
   ],
   "source": [
    "import numpy as np\n",
    "importances = RandomForestRegModel.feature_importances_\n",
    "std = np.std([tree.feature_importances_ for tree in RandomForestRegModel.estimators_],\n",
    "             axis=0)\n",
    "indices = np.argsort(importances)[::-1]\n",
    "\n",
    "# Calculate feature importances\n",
    "importances = RandomForestRegModel.feature_importances_\n",
    "# Sort feature importances in descending order\n",
    "indices = np.argsort(importances)[::-1]\n",
    "\n",
    "# Rearrange feature names so they match the sorted feature importances\n",
    "names = [X_train.columns[i] for i in indices]\n",
    "\n",
    "md = \"|Feature Name | Importance |\\n|-------|:----|\\n\"\n",
    "for i in indices:\n",
    "    md += \"|{}|{:1.4}|\\n\".format(names[i], importances[i])\n",
    "    \n",
    "display(Markdown(md))"
   ]
  },
  {
   "cell_type": "code",
   "execution_count": 63,
   "metadata": {},
   "outputs": [
    {
     "name": "stdout",
     "output_type": "stream",
     "text": [
      " Training data r_squared 0.9883\n",
      " Test data r_squared 0.9377\n"
     ]
    },
    {
     "data": {
      "image/png": "[encoded data removed]",
      "text/plain": [
       "<Figure size 864x576 with 1 Axes>"
      ]
     },
     "metadata": {
      "needs_background": "light"
     },
     "output_type": "display_data"
    }
   ],
   "source": [
    "X_train_predict = RandomForestRegModel.predict(X_train)\n",
    "print(\" Training data r_squared\"  ,round(r2_score(X_train_predict, y_train),4))\n",
    "X_test_predict = RandomForestRegModel.predict(X_test)\n",
    "print(\" Test data r_squared\"  ,round(r2_score(X_test_predict, y_test),4))\n",
    "\n",
    "# make model vs actual scatter plot of CPU-user\n",
    "import matplotlib.pyplot as plt\n",
    "plt.scatter(y_test,X_test_predict)\n",
    "plt.ylabel('Model Prediction')\n",
    "plt.xlabel('Actual Value')\n",
    "plt.title('CPU-user RF Model Test Data')\n",
    "point1 = [0,0]\n",
    "point2 = [1,1]\n",
    "x_values = [point1[0], point2[0]]\n",
    "y_values = [point1[1], point2[1]]\n",
    "plt.plot(x_values, y_values,'r')\n",
    "plt.show()"
   ]
  },
  {
   "cell_type": "code",
   "execution_count": null,
   "metadata": {},
   "outputs": [],
   "source": []
  }
 ],
 "metadata": {
  "kernelspec": {
   "display_name": "Python 3 (ipykernel)",
   "language": "python",
   "name": "python3"
  },
  "language_info": {
   "codemirror_mode": {
    "name": "ipython",
    "version": 3
   },
   "file_extension": ".py",
   "mimetype": "text/x-python",
   "name": "python",
   "nbconvert_exporter": "python",
   "pygments_lexer": "ipython3",
   "version": "3.10.5"
  }
 },
 "nbformat": 4,
 "nbformat_minor": 4
}
