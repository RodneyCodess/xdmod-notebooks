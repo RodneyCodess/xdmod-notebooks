{
 "cells": [
  {
   "cell_type": "markdown",
   "id": "db4061c7-2b36-4284-af31-4ae940a07768",
   "metadata": {
    "tags": []
   },
   "source": [
    "# XDMoD Data Analytics Framework — First Example\n",
    "v1.0.0\n",
    "\n",
    "© 2023 University at Buffalo Center for Computational Research\n",
    "\n",
    "See the [xdmod-notebooks](https://github.com/ubccr/xdmod-notebooks) repository for licensing information."
   ]
  },
  {
   "cell_type": "markdown",
   "id": "77f9e969-5120-4a7a-a844-fa6fda893755",
   "metadata": {},
   "source": [
    "## Introduction\n",
    "The [`xdmod_data` Python module](https://pypi.org/project/xdmod-data) provides API access to the data in XDMoD. This notebook provides an introductory example showing how to use the module. You will use the XDMoD API to request data, load them into a [Pandas](https://pandas.pydata.org/) [DataFrame](https://pandas.pydata.org/docs/reference/api/pandas.DataFrame.html), and generate plots. The dataset in this example contains the number of active users of [ACCESS](https://access-ci.org/)-allocated resources per day of the week over a 4-month period."
   ]
  },
  {
   "cell_type": "markdown",
   "id": "84713a67-80c4-4803-8a45-0decdb65b500",
   "metadata": {},
   "source": [
    "## Install/upgrade the required modules\n",
    "Run the code below to install/upgrade the modules needed to run this notebook."
   ]
  },
  {
   "cell_type": "code",
   "execution_count": null,
   "id": "43521c0d-ca9e-47cd-ba5a-c1f9d0b83290",
   "metadata": {},
   "outputs": [],
   "source": [
    "import sys\n",
    "! {sys.executable} -m pip install --upgrade xdmod-data python-dotenv tabulate"
   ]
  },
  {
   "cell_type": "markdown",
   "id": "56c7d25d-241b-4c65-a77b-7eca37386714",
   "metadata": {},
   "source": [
    "If running that code caused a new version of Plotly to be installed/upgraded, you may need to refresh your browser window for plots to appear correctly."
   ]
  },
  {
   "cell_type": "markdown",
   "id": "cdc4dfd8-5e8c-407c-ace6-f484608e4141",
   "metadata": {
    "tags": []
   },
   "source": [
    "## Configure notebook formatting"
   ]
  },
  {
   "cell_type": "markdown",
   "id": "cb20fc44-df65-4d32-9040-2a13ba1ac5c1",
   "metadata": {
    "tags": []
   },
   "source": [
    "### Exceptions\n",
    "Run the code below to simplify how Python exceptions are displayed in this notebook."
   ]
  },
  {
   "cell_type": "code",
   "execution_count": null,
   "id": "852da6ec-8c06-4389-88ae-48c24acb621e",
   "metadata": {},
   "outputs": [],
   "source": [
    "import sys\n",
    "def exception_handler(exception_type, exception, traceback):\n",
    "    print(\"%s: %s\" % (exception_type.__name__, exception), file=sys.stderr)\n",
    "get_ipython()._showtraceback = exception_handler"
   ]
  },
  {
   "cell_type": "markdown",
   "id": "7242d35a-7d1b-4b14-9aa5-b4a9bcb10a91",
   "metadata": {},
   "source": [
    "### Tables\n",
    "Run the code below to set up for displaying Pandas DataFrames as Markdown tables in this notebook."
   ]
  },
  {
   "cell_type": "code",
   "execution_count": null,
   "id": "2678201f-feba-4b2a-897f-284f05119b9c",
   "metadata": {
    "tags": []
   },
   "outputs": [],
   "source": [
    "from IPython.display import display, Markdown\n",
    "def display_df_md_table(df):\n",
    "    return display(Markdown(df.replace('\\n', '<br/>', regex=True).to_markdown()))"
   ]
  },
  {
   "cell_type": "markdown",
   "id": "3d588361-779e-42dc-ade7-6c95f3900c95",
   "metadata": {},
   "source": [
    "### Plots\n",
    "Run the code below to set up the external Plotly library to make plots using a custom XDMoD theme."
   ]
  },
  {
   "cell_type": "code",
   "execution_count": null,
   "id": "9c6c5409-db04-4d29-a9eb-fc0935322e80",
   "metadata": {
    "tags": []
   },
   "outputs": [],
   "source": [
    "import plotly.express as px\n",
    "import plotly.io as pio\n",
    "import xdmod_data.themes\n",
    "pio.templates.default = \"timeseries\""
   ]
  },
  {
   "cell_type": "markdown",
   "id": "035a27ba-a47b-4fe6-a7ea-b73e5f5a308a",
   "metadata": {},
   "source": [
    "## Create an environment file\n",
    "The `xdmod-data.env` file will store your XDMoD API token.\n",
    "\n",
    "Run the code below to create the file in your home directory (if it does not already exist) and allow only you to read and write to it."
   ]
  },
  {
   "cell_type": "code",
   "execution_count": null,
   "id": "7d216a32-11c6-4ae4-98e9-1b2c19d442d2",
   "metadata": {
    "tags": []
   },
   "outputs": [],
   "source": [
    "from pathlib import Path\n",
    "from os.path import expanduser\n",
    "xdmod_data_env_path = Path(expanduser('~/xdmod-data.env'))\n",
    "try:\n",
    "    with open(xdmod_data_env_path):\n",
    "        pass\n",
    "except FileNotFoundError:\n",
    "    with open(xdmod_data_env_path, 'w') as xdmod_data_env_file:\n",
    "        xdmod_data_env_file.write('XDMOD_API_TOKEN=')\n",
    "    xdmod_data_env_path.chmod(0o600)"
   ]
  },
  {
   "cell_type": "markdown",
   "id": "67311e00-9fd8-4b1c-80cc-44b0d4b18a7f",
   "metadata": {},
   "source": [
    "## Obtain an API token\n",
    "Follow [these instructions](https://github.com/ubccr/xdmod-data#api-token-access) to obtain an API token."
   ]
  },
  {
   "cell_type": "markdown",
   "id": "ae55bfed-eedc-4a72-88d9-510fe271ed36",
   "metadata": {},
   "source": [
    "## Store your API token in the environment file\n",
    "Open the `xdmod-data.env` file and paste your token after `XDMOD_API_TOKEN=`. Make sure there are no spaces before or after the equals sign.\n",
    "\n",
    "Save the file."
   ]
  },
  {
   "cell_type": "markdown",
   "id": "02193bb2-1b80-4b9d-8733-ad292a877ccf",
   "metadata": {
    "tags": []
   },
   "source": [
    "## Load your XDMoD API token into the environment\n",
    "Run the code below to load the contents of the `xdmod-data.env` file into the environment. It will print `True` if it successfully loaded the file."
   ]
  },
  {
   "cell_type": "code",
   "execution_count": null,
   "id": "d5eefbd5-8eab-4ac2-87fe-2c6271c7b9cd",
   "metadata": {
    "tags": []
   },
   "outputs": [],
   "source": [
    "from dotenv import load_dotenv\n",
    "load_dotenv(xdmod_data_env_path, override=True)"
   ]
  },
  {
   "cell_type": "markdown",
   "id": "bc6c166c-5e03-403b-88e1-4b4b2735c690",
   "metadata": {},
   "source": [
    "## Initialize the XDMoD Data Warehouse\n",
    "Run the code below to prepare for getting data from the XDMoD data warehouse at the given URL."
   ]
  },
  {
   "cell_type": "code",
   "execution_count": null,
   "id": "57583c14-0196-4e1d-bc63-3a66c493fa44",
   "metadata": {},
   "outputs": [],
   "source": [
    "from xdmod_data.warehouse import DataWarehouse\n",
    "dw = DataWarehouse('https://xdmod.access-ci.org')"
   ]
  },
  {
   "cell_type": "markdown",
   "id": "3738a176-5b11-4a27-bf5c-2e785f07210d",
   "metadata": {},
   "source": [
    "## Get the data\n",
    "Run the code below to use the `get_data()` method to request data from XDMoD and load them into a Pandas DataFrame. This example gets the number of active users of ACCESS-allocated resources over a 4-month period. Each of the parameters of the method will be explained later in this notebook. Use `with` to create a runtime context; this is also explained later in this notebook."
   ]
  },
  {
   "cell_type": "code",
   "execution_count": null,
   "id": "00e141b1-3554-44e6-a08b-85b3f6b19fd3",
   "metadata": {},
   "outputs": [],
   "source": [
    "with dw:\n",
    "    data = dw.get_data(\n",
    "        duration=('2023-01-01', '2023-04-30'),\n",
    "        realm='Jobs',\n",
    "        metric='Number of Users: Active',\n",
    "    )\n",
    "display(data)"
   ]
  },
  {
   "cell_type": "markdown",
   "id": "fe649112-1a6b-4869-9201-8d340597eaa9",
   "metadata": {},
   "source": [
    "## Plot the data"
   ]
  },
  {
   "cell_type": "code",
   "execution_count": null,
   "id": "498b75e8-7a73-4c77-966e-71844ad48b5c",
   "metadata": {},
   "outputs": [],
   "source": [
    "plot = px.line(data, y='Number of Users: Active')\n",
    "plot.show()"
   ]
  },
  {
   "cell_type": "markdown",
   "id": "847a0a67-b6ce-44dd-aa67-bac7ba1cd126",
   "metadata": {},
   "source": [
    "## Do further data processing\n",
    "You can do further processing on the DataFrame to produce analysis and plots beyond those that are available in the XDMoD portal.\n",
    "\n",
    "Run the code below to add a column for the day of the week:"
   ]
  },
  {
   "cell_type": "code",
   "execution_count": null,
   "id": "c73680d5-7df1-4e97-88cc-92deaa9f3697",
   "metadata": {},
   "outputs": [],
   "source": [
    "data['Day Name'] = data.index.strftime('%a')\n",
    "display(data)"
   ]
  },
  {
   "cell_type": "markdown",
   "id": "78006e89-7b42-4263-8a45-d2491345ebb0",
   "metadata": {},
   "source": [
    "Run the code below to show a box plot of the data grouped by day of the week:"
   ]
  },
  {
   "cell_type": "code",
   "execution_count": null,
   "id": "ebe8fcb7-342b-459e-8b51-3112edc7b328",
   "metadata": {},
   "outputs": [],
   "source": [
    "plot = px.box(\n",
    "    data,\n",
    "    x='Day Name',\n",
    "    y='Number of Users: Active',\n",
    "    category_orders={'Day Name': ('Sun', 'Mon', 'Tue', 'Wed', 'Thu', 'Fri', 'Sat')},\n",
    ")\n",
    "plot.show()"
   ]
  },
  {
   "cell_type": "markdown",
   "id": "78503d11-a84c-4ead-be72-cb963efb5149",
   "metadata": {},
   "source": [
    "## Details of the `get_data()` method\n",
    "Now that you have seen a basic example of using the `get_data()` method, read below for more details on how it works."
   ]
  },
  {
   "cell_type": "markdown",
   "id": "cd5494a4-d368-43fc-8662-af92f9304a87",
   "metadata": {},
   "source": [
    "### Wrap data warehouse calls in a runtime context\n",
    "XDMoD data is accessed over a network connection, which involves establishing connections and creating temporary resources. To ensure these connections and resources are cleaned up properly in spite of any runtime errors, you should call data warehouse methods within a **runtime context** by using Python's `with` statement to wrap the execution of XDMoD queries, store the result, and execute any long running calculations outside of the runtime context, as in the template below."
   ]
  },
  {
   "cell_type": "code",
   "execution_count": null,
   "id": "faf12b0f-96ef-490e-9a37-de11c5d98ad4",
   "metadata": {},
   "outputs": [],
   "source": [
    "with dw:\n",
    "    # XDMoD queries would go here\n",
    "    pass\n",
    "# Data processing would go here\n",
    "pass"
   ]
  },
  {
   "cell_type": "markdown",
   "id": "d0d75eac-6bad-45e7-9f34-b687625ffc0e",
   "metadata": {},
   "source": [
    "### Default parameters\n",
    "The `get_data()` method has a number of parameters; their default values are shown below, and the parameters are explained in more detail further below."
   ]
  },
  {
   "cell_type": "code",
   "execution_count": null,
   "id": "49269fae-eb5e-43e7-adb0-f06997d65f14",
   "metadata": {},
   "outputs": [],
   "source": [
    "with dw:\n",
    "    data = dw.get_data(\n",
    "        duration='Previous month',\n",
    "        realm='Jobs',\n",
    "        metric='CPU Hours: Total',\n",
    "        dimension='None',\n",
    "        filters={},\n",
    "        dataset_type='timeseries',\n",
    "        aggregation_unit='Auto',\n",
    "    )"
   ]
  },
  {
   "cell_type": "markdown",
   "id": "17f8700f-2c7e-4fad-a1b3-a284ab0eb3cd",
   "metadata": {
    "tags": []
   },
   "source": [
    "### Duration\n",
    "The **duration** provides the time constraints of the data to be fetched from the XDMoD data warehouse.\n",
    "\n",
    "As already seen, you can specify the duration as start and end times:"
   ]
  },
  {
   "cell_type": "code",
   "execution_count": null,
   "id": "81f614c6-7d93-4d31-9f68-9c444a89e138",
   "metadata": {},
   "outputs": [],
   "source": [
    "with dw:\n",
    "    data = dw.get_data(duration=('2023-01-01', '2023-04-30'))"
   ]
  },
  {
   "cell_type": "markdown",
   "id": "92660973-e0cc-4780-8b1c-02e8307c2de6",
   "metadata": {},
   "source": [
    "You can instead specify the duration using a special string value; a list of the valid values can be obtained by calling the `get_durations()` method."
   ]
  },
  {
   "cell_type": "code",
   "execution_count": null,
   "id": "c68c30a6-584d-4b8f-9c6b-63ea281d2def",
   "metadata": {},
   "outputs": [],
   "source": [
    "with dw:\n",
    "    durations = dw.get_durations()\n",
    "display(durations)"
   ]
  },
  {
   "cell_type": "markdown",
   "id": "a31ed751-8105-49c4-9f06-5a61baeff145",
   "metadata": {
    "tags": []
   },
   "source": [
    "### Realm\n",
    "A **realm** is a category of data in the XDMoD data warehouse. You can use the `describe_realms()` method to get a DataFrame containing the list of available realms."
   ]
  },
  {
   "cell_type": "code",
   "execution_count": null,
   "id": "5f9186a0-aaec-4c5b-bc31-986e31dc7024",
   "metadata": {},
   "outputs": [],
   "source": [
    "with dw:\n",
    "    realms = dw.describe_realms()\n",
    "display_df_md_table(realms)"
   ]
  },
  {
   "cell_type": "markdown",
   "id": "37ec00eb-faf6-4682-9a74-05d41f86827b",
   "metadata": {},
   "source": [
    "### Metric\n",
    "A **metric** is a statistic for which data exists in a given realm. You can use the `describe_metrics(realm)` method to get a DataFrame containing the list of valid metrics in the given realm. The realm must be passed in as a string."
   ]
  },
  {
   "cell_type": "code",
   "execution_count": null,
   "id": "0a2ee263-0d0c-4e6c-b954-66c24ef45fd8",
   "metadata": {},
   "outputs": [],
   "source": [
    "with dw:\n",
    "    metrics = dw.describe_metrics('Jobs')\n",
    "display_df_md_table(metrics)"
   ]
  },
  {
   "cell_type": "markdown",
   "id": "511389a5-14f1-489b-8495-3340ab2c85c9",
   "metadata": {
    "tags": []
   },
   "source": [
    "### Dimension\n",
    "A **dimension** is a grouping of data. You can use the `describe_dimensions(realm)` method to get a DataFrame containing the list of valid dimensions in the given realm. The realm must be passed in as a string."
   ]
  },
  {
   "cell_type": "code",
   "execution_count": null,
   "id": "fc364eb1-c3d9-4724-82ab-897191e3e3f4",
   "metadata": {
    "tags": []
   },
   "outputs": [],
   "source": [
    "with dw:\n",
    "    dimensions = dw.describe_dimensions('Jobs')\n",
    "display_df_md_table(dimensions)"
   ]
  },
  {
   "cell_type": "markdown",
   "id": "bac0e9fb-4442-40b4-8478-1e450bd93d58",
   "metadata": {},
   "source": [
    "### Pass in realms, metrics, and dimensions using labels or IDs"
   ]
  },
  {
   "cell_type": "markdown",
   "id": "3995a590-fa9b-4dc8-b0b7-b6fc1d184cdd",
   "metadata": {},
   "source": [
    "For methods in the API that take realms, metrics, and/or dimensions as arguments, you can pass them in as their labels or their IDs."
   ]
  },
  {
   "cell_type": "code",
   "execution_count": null,
   "id": "d9ce1937-c232-4b39-ae40-bd5af1743716",
   "metadata": {},
   "outputs": [],
   "source": [
    "with dw:\n",
    "    data = dw.get_data(\n",
    "        duration='10 year',\n",
    "        realm='Allocations',\n",
    "        metric='NUs: Allocated', # 'allocated_nu' also works\n",
    "        dimension='Resource Type',  # 'resource_type' also works\n",
    "    )"
   ]
  },
  {
   "cell_type": "markdown",
   "id": "ee8f3916-665b-4582-ac63-dabaf4570c72",
   "metadata": {
    "tags": []
   },
   "source": [
    "### Filters\n",
    "**Filters** allow you to include only data that have certain values for given dimensions. You can use the `get_filter_values(realm, dimension)` method to get a DataFrame containing the list of valid filter values for the given dimension in the given realm. The realm and dimension must be passed in as strings."
   ]
  },
  {
   "cell_type": "code",
   "execution_count": null,
   "id": "60c52451-bc4e-442e-a132-0e3be7ffae74",
   "metadata": {},
   "outputs": [],
   "source": [
    "with dw:\n",
    "    filter_values = dw.get_filter_values('Jobs', 'Resource') # 'resource' also works\n",
    "display_df_md_table(filter_values)"
   ]
  },
  {
   "cell_type": "markdown",
   "id": "58d1c81a-7d1a-437d-b8ac-41ad21ae1bf0",
   "metadata": {},
   "source": [
    "For methods in the API that take filters as arguments, you must specify the filters as a dictionary in which the keys are dimensions (labels or IDs) and the values are string filter values (labels or IDs) or sequences of string filter values. For example, to return only data for which the field of science is biophysics and the resource is either NCSA Delta GPU or TACC Stampede2:"
   ]
  },
  {
   "cell_type": "code",
   "execution_count": null,
   "id": "e8d9d268-5964-4154-aaca-aeeed9a6b858",
   "metadata": {},
   "outputs": [],
   "source": [
    "with dw:\n",
    "    data = dw.get_data(\n",
    "        filters={\n",
    "            'Field of Science': 'Biophysics', # 'fieldofscience': '246' also works\n",
    "            'Resource': ( # 'resource' also works\n",
    "                'NCSA DELTA GPU', # '3032' also works\n",
    "                'STAMPEDE2 TACC', # '2825' also works\n",
    "            ),\n",
    "        },\n",
    "    )"
   ]
  },
  {
   "cell_type": "markdown",
   "id": "d95c4244-37f6-4458-8b5e-d5604f72c2c5",
   "metadata": {},
   "source": [
    "### Dataset Type\n",
    "The **dataset type** can either be 'timeseries' (the default), in which data is grouped by a time [aggregation unit](#Aggregation-unit), or 'aggregate', in which the data is aggregated across the entire [duration](#Duration)."
   ]
  },
  {
   "cell_type": "code",
   "execution_count": null,
   "id": "a842212b-c9d0-4c71-b014-2c57b3a56cfe",
   "metadata": {},
   "outputs": [],
   "source": [
    "with dw:\n",
    "    data = dw.get_data(dataset_type='timeseries')"
   ]
  },
  {
   "cell_type": "markdown",
   "id": "bf632a3b-73eb-4c0e-a001-96f5c2d1c3d4",
   "metadata": {},
   "source": [
    "### Aggregation unit\n",
    "The **aggregation unit** specifies how data is aggregated by time. You can get a list of valid aggregation units by calling the `get_aggregation_units()` method."
   ]
  },
  {
   "cell_type": "code",
   "execution_count": null,
   "id": "3ddc3b39-1968-49e3-b269-6ed93e6dba3d",
   "metadata": {
    "tags": []
   },
   "outputs": [],
   "source": [
    "with dw:\n",
    "    display(dw.get_aggregation_units())"
   ]
  },
  {
   "cell_type": "markdown",
   "id": "13c08ea7-df9d-410d-841d-0bd6670fd2ef",
   "metadata": {},
   "source": [
    "## Additional Examples\n",
    "For additional examples, please see the [xdmod-notebooks repository](https://github.com/ubccr/xdmod-notebooks)."
   ]
  }
 ],
 "metadata": {
  "kernelspec": {
   "display_name": "Python 3 (ipykernel)",
   "language": "python",
   "name": "python3"
  },
  "language_info": {
   "codemirror_mode": {
    "name": "ipython",
    "version": 3
   },
   "file_extension": ".py",
   "mimetype": "text/x-python",
   "name": "python",
   "nbconvert_exporter": "python",
   "pygments_lexer": "ipython3",
   "version": "3.10.9"
  }
 },
 "nbformat": 4,
 "nbformat_minor": 5
}
